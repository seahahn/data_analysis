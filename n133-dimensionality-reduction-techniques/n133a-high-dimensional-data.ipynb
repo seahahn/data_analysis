{
  "nbformat": 4,
  "nbformat_minor": 0,
  "metadata": {
    "colab": {
      "name": "n133a-high-dimensional-data.ipynb",
      "provenance": []
    },
    "kernelspec": {
      "display_name": "Python 3",
      "language": "python",
      "name": "python3"
    },
    "language_info": {
      "codemirror_mode": {
        "name": "ipython",
        "version": 3
      },
      "file_extension": ".py",
      "mimetype": "text/x-python",
      "name": "python",
      "nbconvert_exporter": "python",
      "pygments_lexer": "ipython3",
      "version": "3.8.2"
    }
  },
  "cells": [
    {
      "cell_type": "markdown",
      "metadata": {
        "id": "2nEWvwVyVWdW"
      },
      "source": [
        "<img src='https://i.imgur.com/RDAD11M.png' width = '200' align = 'right'>\n",
        "\n",
        "## *DATA SCIENCE / SECTION 1 / SPRINT 3 / NOTE 3*\n",
        "\n",
        "# 📝 Assignment\n",
        "\n"
      ]
    },
    {
      "cell_type": "markdown",
      "metadata": {
        "id": "5HY0R4u7anIr"
      },
      "source": [
        "## 1. 주어진 matrix에 대해서, numpy를 사용하여, `eigenvalue`와 `eigenvector`를 구하고, 각각 `value`, `vector`에 저장하세요.\n",
        "\n",
        "\\begin{bmatrix} 4 & 2 \\\\ 2 & 4 \\end{bmatrix}"
      ]
    },
    {
      "cell_type": "code",
      "metadata": {
        "id": "FdLS0X9lvh3e",
        "outputId": "1c50cfc5-5130-4b18-c149-b110d2f7a2f0",
        "colab": {
          "base_uri": "https://localhost:8080/"
        }
      },
      "source": [
        "import numpy as np\n",
        "\n",
        "m = np.array([\n",
        "      [4, 2],\n",
        "      [2, 4]\n",
        "    ])\n",
        "\n",
        "value, vector = np.linalg.eig(m)\n",
        "value, vector"
      ],
      "execution_count": 1,
      "outputs": [
        {
          "output_type": "execute_result",
          "data": {
            "text/plain": [
              "(array([6., 2.]), array([[ 0.70710678, -0.70710678],\n",
              "        [ 0.70710678,  0.70710678]]))"
            ]
          },
          "metadata": {},
          "execution_count": 1
        }
      ]
    },
    {
      "cell_type": "markdown",
      "metadata": {
        "id": "7iEheetpbJdN"
      },
      "source": [
        "## 2. Penguins dataset을 사용하여 numerical feature 4개에 대해서 2차원으로 PCA를 시행 후 PC1 & PC2를 사용하여 scatter plot을 그리세요.\n",
        "\n",
        "- 데이터셋 사용을 위해, 다음 링크를 참조하세요.\n",
        "\n",
        "<http://seaborn.pydata.org/generated/seaborn.load_dataset.html#seaborn.load_dataset>\n",
        "\n",
        "- 4개의 feature는 `bill_length_mm`, `bill_depth_mm`, `flipper_length_mm`, `body_mass_g` 입니다.\n",
        "\n",
        "- 이후 2개의 PC를 이용하여 설명되는 variance의 ratio를 `ratio`에 저장하세요.\n",
        "\n",
        "- 다음과 같은 결과가 나와야 합니다.\n",
        "\n",
        "<img src='https://i.imgur.com/5BCEHeL.png'>"
      ]
    },
    {
      "cell_type": "code",
      "metadata": {
        "id": "AAH42jp-vgYY"
      },
      "source": [
        "import pandas as pd\n",
        "import seaborn as sns"
      ],
      "execution_count": 2,
      "outputs": []
    },
    {
      "cell_type": "code",
      "metadata": {
        "id": "8DTGRQDaAWIm",
        "outputId": "a2dc6b7b-96f1-4a71-d087-96afe06d9941",
        "colab": {
          "base_uri": "https://localhost:8080/",
          "height": 223
        }
      },
      "source": [
        "df = sns.load_dataset('penguins')\n",
        "print(df['species'].unique())\n",
        "df.head()"
      ],
      "execution_count": 3,
      "outputs": [
        {
          "output_type": "stream",
          "name": "stdout",
          "text": [
            "['Adelie' 'Chinstrap' 'Gentoo']\n"
          ]
        },
        {
          "output_type": "execute_result",
          "data": {
            "text/html": [
              "<div>\n",
              "<style scoped>\n",
              "    .dataframe tbody tr th:only-of-type {\n",
              "        vertical-align: middle;\n",
              "    }\n",
              "\n",
              "    .dataframe tbody tr th {\n",
              "        vertical-align: top;\n",
              "    }\n",
              "\n",
              "    .dataframe thead th {\n",
              "        text-align: right;\n",
              "    }\n",
              "</style>\n",
              "<table border=\"1\" class=\"dataframe\">\n",
              "  <thead>\n",
              "    <tr style=\"text-align: right;\">\n",
              "      <th></th>\n",
              "      <th>species</th>\n",
              "      <th>island</th>\n",
              "      <th>bill_length_mm</th>\n",
              "      <th>bill_depth_mm</th>\n",
              "      <th>flipper_length_mm</th>\n",
              "      <th>body_mass_g</th>\n",
              "      <th>sex</th>\n",
              "    </tr>\n",
              "  </thead>\n",
              "  <tbody>\n",
              "    <tr>\n",
              "      <th>0</th>\n",
              "      <td>Adelie</td>\n",
              "      <td>Torgersen</td>\n",
              "      <td>39.1</td>\n",
              "      <td>18.7</td>\n",
              "      <td>181.0</td>\n",
              "      <td>3750.0</td>\n",
              "      <td>Male</td>\n",
              "    </tr>\n",
              "    <tr>\n",
              "      <th>1</th>\n",
              "      <td>Adelie</td>\n",
              "      <td>Torgersen</td>\n",
              "      <td>39.5</td>\n",
              "      <td>17.4</td>\n",
              "      <td>186.0</td>\n",
              "      <td>3800.0</td>\n",
              "      <td>Female</td>\n",
              "    </tr>\n",
              "    <tr>\n",
              "      <th>2</th>\n",
              "      <td>Adelie</td>\n",
              "      <td>Torgersen</td>\n",
              "      <td>40.3</td>\n",
              "      <td>18.0</td>\n",
              "      <td>195.0</td>\n",
              "      <td>3250.0</td>\n",
              "      <td>Female</td>\n",
              "    </tr>\n",
              "    <tr>\n",
              "      <th>3</th>\n",
              "      <td>Adelie</td>\n",
              "      <td>Torgersen</td>\n",
              "      <td>NaN</td>\n",
              "      <td>NaN</td>\n",
              "      <td>NaN</td>\n",
              "      <td>NaN</td>\n",
              "      <td>NaN</td>\n",
              "    </tr>\n",
              "    <tr>\n",
              "      <th>4</th>\n",
              "      <td>Adelie</td>\n",
              "      <td>Torgersen</td>\n",
              "      <td>36.7</td>\n",
              "      <td>19.3</td>\n",
              "      <td>193.0</td>\n",
              "      <td>3450.0</td>\n",
              "      <td>Female</td>\n",
              "    </tr>\n",
              "  </tbody>\n",
              "</table>\n",
              "</div>"
            ],
            "text/plain": [
              "  species     island  bill_length_mm  ...  flipper_length_mm  body_mass_g     sex\n",
              "0  Adelie  Torgersen            39.1  ...              181.0       3750.0    Male\n",
              "1  Adelie  Torgersen            39.5  ...              186.0       3800.0  Female\n",
              "2  Adelie  Torgersen            40.3  ...              195.0       3250.0  Female\n",
              "3  Adelie  Torgersen             NaN  ...                NaN          NaN     NaN\n",
              "4  Adelie  Torgersen            36.7  ...              193.0       3450.0  Female\n",
              "\n",
              "[5 rows x 7 columns]"
            ]
          },
          "metadata": {},
          "execution_count": 3
        }
      ]
    },
    {
      "cell_type": "code",
      "metadata": {
        "id": "zY8qaT1YA2OH",
        "outputId": "acf40d44-5a3c-4a10-a375-d9e1e95effe5",
        "colab": {
          "base_uri": "https://localhost:8080/",
          "height": 206
        }
      },
      "source": [
        "df.isna().sum()\n",
        "df.dropna(inplace=True)\n",
        "df.reset_index(drop=True, inplace=True)\n",
        "df.head()"
      ],
      "execution_count": 4,
      "outputs": [
        {
          "output_type": "execute_result",
          "data": {
            "text/html": [
              "<div>\n",
              "<style scoped>\n",
              "    .dataframe tbody tr th:only-of-type {\n",
              "        vertical-align: middle;\n",
              "    }\n",
              "\n",
              "    .dataframe tbody tr th {\n",
              "        vertical-align: top;\n",
              "    }\n",
              "\n",
              "    .dataframe thead th {\n",
              "        text-align: right;\n",
              "    }\n",
              "</style>\n",
              "<table border=\"1\" class=\"dataframe\">\n",
              "  <thead>\n",
              "    <tr style=\"text-align: right;\">\n",
              "      <th></th>\n",
              "      <th>species</th>\n",
              "      <th>island</th>\n",
              "      <th>bill_length_mm</th>\n",
              "      <th>bill_depth_mm</th>\n",
              "      <th>flipper_length_mm</th>\n",
              "      <th>body_mass_g</th>\n",
              "      <th>sex</th>\n",
              "    </tr>\n",
              "  </thead>\n",
              "  <tbody>\n",
              "    <tr>\n",
              "      <th>0</th>\n",
              "      <td>Adelie</td>\n",
              "      <td>Torgersen</td>\n",
              "      <td>39.1</td>\n",
              "      <td>18.7</td>\n",
              "      <td>181.0</td>\n",
              "      <td>3750.0</td>\n",
              "      <td>Male</td>\n",
              "    </tr>\n",
              "    <tr>\n",
              "      <th>1</th>\n",
              "      <td>Adelie</td>\n",
              "      <td>Torgersen</td>\n",
              "      <td>39.5</td>\n",
              "      <td>17.4</td>\n",
              "      <td>186.0</td>\n",
              "      <td>3800.0</td>\n",
              "      <td>Female</td>\n",
              "    </tr>\n",
              "    <tr>\n",
              "      <th>2</th>\n",
              "      <td>Adelie</td>\n",
              "      <td>Torgersen</td>\n",
              "      <td>40.3</td>\n",
              "      <td>18.0</td>\n",
              "      <td>195.0</td>\n",
              "      <td>3250.0</td>\n",
              "      <td>Female</td>\n",
              "    </tr>\n",
              "    <tr>\n",
              "      <th>3</th>\n",
              "      <td>Adelie</td>\n",
              "      <td>Torgersen</td>\n",
              "      <td>36.7</td>\n",
              "      <td>19.3</td>\n",
              "      <td>193.0</td>\n",
              "      <td>3450.0</td>\n",
              "      <td>Female</td>\n",
              "    </tr>\n",
              "    <tr>\n",
              "      <th>4</th>\n",
              "      <td>Adelie</td>\n",
              "      <td>Torgersen</td>\n",
              "      <td>39.3</td>\n",
              "      <td>20.6</td>\n",
              "      <td>190.0</td>\n",
              "      <td>3650.0</td>\n",
              "      <td>Male</td>\n",
              "    </tr>\n",
              "  </tbody>\n",
              "</table>\n",
              "</div>"
            ],
            "text/plain": [
              "  species     island  bill_length_mm  ...  flipper_length_mm  body_mass_g     sex\n",
              "0  Adelie  Torgersen            39.1  ...              181.0       3750.0    Male\n",
              "1  Adelie  Torgersen            39.5  ...              186.0       3800.0  Female\n",
              "2  Adelie  Torgersen            40.3  ...              195.0       3250.0  Female\n",
              "3  Adelie  Torgersen            36.7  ...              193.0       3450.0  Female\n",
              "4  Adelie  Torgersen            39.3  ...              190.0       3650.0    Male\n",
              "\n",
              "[5 rows x 7 columns]"
            ]
          },
          "metadata": {},
          "execution_count": 4
        }
      ]
    },
    {
      "cell_type": "code",
      "metadata": {
        "id": "3YNLEZNqHjjk",
        "outputId": "3316e50a-031c-4e09-b5ce-dcb3cdef9152",
        "colab": {
          "base_uri": "https://localhost:8080/",
          "height": 206
        }
      },
      "source": [
        "from sklearn.preprocessing import StandardScaler  # 표준화 패키지 라이브러리\n",
        "\n",
        "features = df.loc[:, 'bill_length_mm':'body_mass_g'].values\n",
        "species = df['species'].values\n",
        "\n",
        "features = StandardScaler().fit_transform(features) # 데이터를 표준화한 값으로 대체\n",
        "\n",
        "columns = ['bill_length_mm',\t'bill_depth_mm',\t'flipper_length_mm',\t'body_mass_g']\n",
        "pd.DataFrame(features, columns=columns).head()"
      ],
      "execution_count": 5,
      "outputs": [
        {
          "output_type": "execute_result",
          "data": {
            "text/html": [
              "<div>\n",
              "<style scoped>\n",
              "    .dataframe tbody tr th:only-of-type {\n",
              "        vertical-align: middle;\n",
              "    }\n",
              "\n",
              "    .dataframe tbody tr th {\n",
              "        vertical-align: top;\n",
              "    }\n",
              "\n",
              "    .dataframe thead th {\n",
              "        text-align: right;\n",
              "    }\n",
              "</style>\n",
              "<table border=\"1\" class=\"dataframe\">\n",
              "  <thead>\n",
              "    <tr style=\"text-align: right;\">\n",
              "      <th></th>\n",
              "      <th>bill_length_mm</th>\n",
              "      <th>bill_depth_mm</th>\n",
              "      <th>flipper_length_mm</th>\n",
              "      <th>body_mass_g</th>\n",
              "    </tr>\n",
              "  </thead>\n",
              "  <tbody>\n",
              "    <tr>\n",
              "      <th>0</th>\n",
              "      <td>-0.896042</td>\n",
              "      <td>0.780732</td>\n",
              "      <td>-1.426752</td>\n",
              "      <td>-0.568475</td>\n",
              "    </tr>\n",
              "    <tr>\n",
              "      <th>1</th>\n",
              "      <td>-0.822788</td>\n",
              "      <td>0.119584</td>\n",
              "      <td>-1.069474</td>\n",
              "      <td>-0.506286</td>\n",
              "    </tr>\n",
              "    <tr>\n",
              "      <th>2</th>\n",
              "      <td>-0.676280</td>\n",
              "      <td>0.424729</td>\n",
              "      <td>-0.426373</td>\n",
              "      <td>-1.190361</td>\n",
              "    </tr>\n",
              "    <tr>\n",
              "      <th>3</th>\n",
              "      <td>-1.335566</td>\n",
              "      <td>1.085877</td>\n",
              "      <td>-0.569284</td>\n",
              "      <td>-0.941606</td>\n",
              "    </tr>\n",
              "    <tr>\n",
              "      <th>4</th>\n",
              "      <td>-0.859415</td>\n",
              "      <td>1.747026</td>\n",
              "      <td>-0.783651</td>\n",
              "      <td>-0.692852</td>\n",
              "    </tr>\n",
              "  </tbody>\n",
              "</table>\n",
              "</div>"
            ],
            "text/plain": [
              "   bill_length_mm  bill_depth_mm  flipper_length_mm  body_mass_g\n",
              "0       -0.896042       0.780732          -1.426752    -0.568475\n",
              "1       -0.822788       0.119584          -1.069474    -0.506286\n",
              "2       -0.676280       0.424729          -0.426373    -1.190361\n",
              "3       -1.335566       1.085877          -0.569284    -0.941606\n",
              "4       -0.859415       1.747026          -0.783651    -0.692852"
            ]
          },
          "metadata": {},
          "execution_count": 5
        }
      ]
    },
    {
      "cell_type": "code",
      "metadata": {
        "id": "ZuKjtAK0H_gI",
        "outputId": "95509d67-90a4-4477-e1f1-727235ef30d1",
        "colab": {
          "base_uri": "https://localhost:8080/",
          "height": 206
        }
      },
      "source": [
        "from sklearn.decomposition import PCA\n",
        "\n",
        "pca = PCA(n_components=2) # 주성분을 몇 개로 할지 결정\n",
        "printcipalComponents = pca.fit_transform(features) # 주성분 값 가져오기\n",
        "\n",
        "# 주성분으로 이루어진 데이터프레임 구성\n",
        "principalDf = pd.DataFrame(data=printcipalComponents, columns = ['PC1', 'PC2'])\n",
        "\n",
        "# 주성분 데이터프레임과 기존의 'species' 열을 합치기\n",
        "finalDf = finalDf = pd.concat([principalDf, df[['species']]], axis = 1)\n",
        "\n",
        "finalDf.head()"
      ],
      "execution_count": 6,
      "outputs": [
        {
          "output_type": "execute_result",
          "data": {
            "text/html": [
              "<div>\n",
              "<style scoped>\n",
              "    .dataframe tbody tr th:only-of-type {\n",
              "        vertical-align: middle;\n",
              "    }\n",
              "\n",
              "    .dataframe tbody tr th {\n",
              "        vertical-align: top;\n",
              "    }\n",
              "\n",
              "    .dataframe thead th {\n",
              "        text-align: right;\n",
              "    }\n",
              "</style>\n",
              "<table border=\"1\" class=\"dataframe\">\n",
              "  <thead>\n",
              "    <tr style=\"text-align: right;\">\n",
              "      <th></th>\n",
              "      <th>PC1</th>\n",
              "      <th>PC2</th>\n",
              "      <th>species</th>\n",
              "    </tr>\n",
              "  </thead>\n",
              "  <tbody>\n",
              "    <tr>\n",
              "      <th>0</th>\n",
              "      <td>-1.853593</td>\n",
              "      <td>0.032069</td>\n",
              "      <td>Adelie</td>\n",
              "    </tr>\n",
              "    <tr>\n",
              "      <th>1</th>\n",
              "      <td>-1.316254</td>\n",
              "      <td>-0.443527</td>\n",
              "      <td>Adelie</td>\n",
              "    </tr>\n",
              "    <tr>\n",
              "      <th>2</th>\n",
              "      <td>-1.376605</td>\n",
              "      <td>-0.161230</td>\n",
              "      <td>Adelie</td>\n",
              "    </tr>\n",
              "    <tr>\n",
              "      <th>3</th>\n",
              "      <td>-1.885288</td>\n",
              "      <td>-0.012351</td>\n",
              "      <td>Adelie</td>\n",
              "    </tr>\n",
              "    <tr>\n",
              "      <th>4</th>\n",
              "      <td>-1.919981</td>\n",
              "      <td>0.817598</td>\n",
              "      <td>Adelie</td>\n",
              "    </tr>\n",
              "  </tbody>\n",
              "</table>\n",
              "</div>"
            ],
            "text/plain": [
              "        PC1       PC2 species\n",
              "0 -1.853593  0.032069  Adelie\n",
              "1 -1.316254 -0.443527  Adelie\n",
              "2 -1.376605 -0.161230  Adelie\n",
              "3 -1.885288 -0.012351  Adelie\n",
              "4 -1.919981  0.817598  Adelie"
            ]
          },
          "metadata": {},
          "execution_count": 6
        }
      ]
    },
    {
      "cell_type": "code",
      "metadata": {
        "id": "9WoXc7CZILMV",
        "outputId": "d8398c6b-0936-47f6-afe4-8a57bb63c4de",
        "colab": {
          "base_uri": "https://localhost:8080/"
        }
      },
      "source": [
        "# 주성분별로 기존 데이터의 분산을 반영하는 정도\n",
        "ratio = pca.explained_variance_ratio_\n",
        "ratio"
      ],
      "execution_count": 7,
      "outputs": [
        {
          "output_type": "execute_result",
          "data": {
            "text/plain": [
              "array([0.68633893, 0.19452929])"
            ]
          },
          "metadata": {},
          "execution_count": 7
        }
      ]
    },
    {
      "cell_type": "code",
      "metadata": {
        "id": "AZ7PA645IpQ7",
        "outputId": "e39c7721-af80-42a4-9cdd-45893d4813f6",
        "colab": {
          "base_uri": "https://localhost:8080/",
          "height": 279
        }
      },
      "source": [
        "import matplotlib.pyplot as plt\n",
        "\n",
        "fig = plt.figure(figsize = (6, 4))\n",
        "ax = fig.add_subplot(1, 1, 1)\n",
        "ax.set_xlabel('PC1')\n",
        "ax.set_ylabel('PC2')\n",
        "\n",
        "targets = ['Adelie', 'Chinstrap', 'Gentoo']\n",
        "colors = ['#1F77B4', '#FF7F0E', '#2CA02C']\n",
        "for target, color in zip(targets, colors): # 각 'species'별로 plot 위에 표시\n",
        "    sps = finalDf['species'] == target\n",
        "    ax.scatter(finalDf.loc[sps, 'PC1']\n",
        "               , finalDf.loc[sps, 'PC2']\n",
        "               , c = color\n",
        "               , s = 50\n",
        "               , marker = 'o'\n",
        "               , edgecolor = 'w')\n",
        "ax.legend(targets, title = \"species\", loc='lower right')\n",
        "\n",
        "plt.show();"
      ],
      "execution_count": 13,
      "outputs": [
        {
          "output_type": "display_data",
          "data": {
            "image/png": "[encoded data removed]",
            "text/plain": [
              "<Figure size 432x288 with 1 Axes>"
            ]
          },
          "metadata": {
            "needs_background": "light"
          }
        }
      ]
    },
    {
      "cell_type": "markdown",
      "metadata": {
        "id": "RQx7UvsucIrL"
      },
      "source": [
        "## 🔥 도전 과제\n",
        "\n",
        "### \"Scree Plot\" 에 대해서 알아보고, 위에서 PCA로 만든 데이터셋을 사용하여 만들어보세요. 90%의 내용을 설명하기 위해서, 몇개의 PC를 사용해야 하나요?\n"
      ]
    },
    {
      "cell_type": "code",
      "metadata": {
        "id": "LDWgV_vG0UWb",
        "outputId": "8c4ec2c5-c378-432c-fccc-ec1261c5ab43",
        "colab": {
          "base_uri": "https://localhost:8080/",
          "height": 312
        }
      },
      "source": [
        "def scree(features, n_comps=2):\n",
        "  pca = PCA(n_components=n_comps) # 주성분 개수 설정\n",
        "  printcipalComponents = pca.fit_transform(features) # 주성분 값 구하기\n",
        "  # 주성분으로 이루어진 데이터프레임 생성\n",
        "  principalDf = pd.DataFrame(data=printcipalComponents, columns = ['PC'+str(num+1) for num in np.arange(n_comps)])\n",
        "  \n",
        "  pc_num = np.arange(pca.n_components_) # 주성분 개수만큼의 숫자 리스트(0부터) -> 플롯에 표시하기 위한 용도\n",
        "  evr = pca.explained_variance_ratio_ # 각 주성분의 분산 반영률\n",
        "  print(sum(evr))\n",
        "\n",
        "  plt.xticks(pc_num, labels = ['PC'+str(num+1) for num in pc_num])\n",
        "  plt.plot(pc_num, evr, 'ro-', linewidth=2)\n",
        "  plt.title('Scree Plot')\n",
        "  plt.xlabel('Principal Component')\n",
        "  plt.ylabel('Variance')\n",
        "\n",
        "  for i, v in enumerate(pc_num):\n",
        "    # 좌표 (x축 = v, y축 = evr[0]..evr[n], 표시(반올림) = evr[0]..evr[n])\n",
        "    plt.text(v, evr[i], round(evr[i], 2),\n",
        "              fontsize = 10, \n",
        "              color='black',\n",
        "              horizontalalignment='left',  # horizontalalignment (left, center, right)\n",
        "              verticalalignment='bottom')    # verticalalignment (top, center, bottom)\n",
        "\n",
        "  plt.show()\n",
        "\n",
        "scree(features, 2)"
      ],
      "execution_count": 18,
      "outputs": [
        {
          "output_type": "stream",
          "name": "stdout",
          "text": [
            "0.8808682242049918\n"
          ]
        },
        {
          "output_type": "display_data",
          "data": {
            "image/png": "[encoded data removed]",
            "text/plain": [
              "<Figure size 432x288 with 1 Axes>"
            ]
          },
          "metadata": {
            "needs_background": "light"
          }
        }
      ]
    },
    {
      "cell_type": "code",
      "metadata": {
        "id": "5PidTeHuTPmI",
        "outputId": "d3a8e907-f6d1-480a-bf7c-82d623e13030",
        "colab": {
          "base_uri": "https://localhost:8080/",
          "height": 312
        }
      },
      "source": [
        "scree(features, 3) # 주성분 2개일 때 분산 반영률이 90% 미만이었므로 주성분 개수 조정(2 -> 3)\n",
        "\n",
        "# 주성분 2개는 약 88%, 3개는 97%를 설명 가능하다.\n",
        "# 따라서 90% 이상의 분산을 반영하려면 주성분 3개를 사용해야 한다."
      ],
      "execution_count": 20,
      "outputs": [
        {
          "output_type": "stream",
          "name": "stdout",
          "text": [
            "0.9730288540858751\n"
          ]
        },
        {
          "output_type": "display_data",
          "data": {
            "image/png": "[encoded data removed]",
            "text/plain": [
              "<Figure size 432x288 with 1 Axes>"
            ]
          },
          "metadata": {
            "needs_background": "light"
          }
        }
      ]
    }
  ]
}