{
  "nbformat": 4,
  "nbformat_minor": 0,
  "metadata": {
    "colab": {
      "name": "n114a-Basic Derivative.ipynb",
      "provenance": []
    },
    "kernelspec": {
      "display_name": "Python 3",
      "language": "python",
      "name": "python3"
    },
    "language_info": {
      "codemirror_mode": {
        "name": "ipython",
        "version": 3
      },
      "file_extension": ".py",
      "mimetype": "text/x-python",
      "name": "python",
      "nbconvert_exporter": "python",
      "pygments_lexer": "ipython3",
      "version": "3.9.4"
    }
  },
  "cells": [
    {
      "cell_type": "markdown",
      "metadata": {
        "id": "G5hwlPlsGega"
      },
      "source": [
        "<img src='https://i.imgur.com/RDAD11M.png' width = '200' align = 'right'>\n",
        "\n",
        "## *DATA SCIENCE / SECTION 1 / SPRINT 1 / NOTE 4*\n",
        "\n",
        "---\n",
        "\n",
        "# 📝 Assignment\n",
        "\n"
      ]
    },
    {
      "cell_type": "markdown",
      "metadata": {
        "id": "RXWJ5SRCj5bO"
      },
      "source": [
        "## 1. Dataset 불러오기\n",
        "> seaborn 라이브러리의 load_dataset()을 활용해서 iris 데이터셋을 데이터프레임으로 불러옵니다. 데이터프레임의 이름은 df_iris로 합니다. <br>\n",
        "> df_iris의 shape의 **첫번째 값을 두번째 값으로 나눈 값**을 `res1`에 저장하세요"
      ]
    },
    {
      "cell_type": "code",
      "metadata": {
        "colab": {
          "base_uri": "https://localhost:8080/"
        },
        "id": "byPagxLtj5bP",
        "outputId": "57b8a84e-beca-4577-e83e-17b21b1659ca"
      },
      "source": [
        "import seaborn as sns\n",
        "import numpy as np\n",
        "np.random.seed(42)\n",
        "\n",
        "df_iris = sns.load_dataset('iris')\n",
        "print(df_iris.shape)\n",
        "\n",
        "res1 = df_iris.shape[0] / df_iris.shape[1]\n",
        "res1"
      ],
      "execution_count": 1,
      "outputs": [
        {
          "output_type": "stream",
          "name": "stdout",
          "text": [
            "(150, 5)\n"
          ]
        },
        {
          "output_type": "execute_result",
          "data": {
            "text/plain": [
              "30.0"
            ]
          },
          "metadata": {},
          "execution_count": 1
        }
      ]
    },
    {
      "cell_type": "markdown",
      "metadata": {
        "id": "ZKJbUzUuj5bQ"
      },
      "source": [
        "## 2. X 구하기\n",
        "> df_iris에서 sepal_length만 남겨주세요. 그리고 sepal_length 칼럼의 이름은 x로 바꿉니다"
      ]
    },
    {
      "cell_type": "code",
      "metadata": {
        "colab": {
          "base_uri": "https://localhost:8080/",
          "height": 203
        },
        "id": "57-ZAnaoj5bQ",
        "outputId": "9ab83f5c-092c-4ac1-b133-91c57d817aee"
      },
      "source": [
        "# sepal_length만 남기기\n",
        "df_iris = df_iris[['sepal_length']]\n",
        "df_iris.head()"
      ],
      "execution_count": 2,
      "outputs": [
        {
          "output_type": "execute_result",
          "data": {
            "text/html": [
              "<div>\n",
              "<style scoped>\n",
              "    .dataframe tbody tr th:only-of-type {\n",
              "        vertical-align: middle;\n",
              "    }\n",
              "\n",
              "    .dataframe tbody tr th {\n",
              "        vertical-align: top;\n",
              "    }\n",
              "\n",
              "    .dataframe thead th {\n",
              "        text-align: right;\n",
              "    }\n",
              "</style>\n",
              "<table border=\"1\" class=\"dataframe\">\n",
              "  <thead>\n",
              "    <tr style=\"text-align: right;\">\n",
              "      <th></th>\n",
              "      <th>sepal_length</th>\n",
              "    </tr>\n",
              "  </thead>\n",
              "  <tbody>\n",
              "    <tr>\n",
              "      <th>0</th>\n",
              "      <td>5.1</td>\n",
              "    </tr>\n",
              "    <tr>\n",
              "      <th>1</th>\n",
              "      <td>4.9</td>\n",
              "    </tr>\n",
              "    <tr>\n",
              "      <th>2</th>\n",
              "      <td>4.7</td>\n",
              "    </tr>\n",
              "    <tr>\n",
              "      <th>3</th>\n",
              "      <td>4.6</td>\n",
              "    </tr>\n",
              "    <tr>\n",
              "      <th>4</th>\n",
              "      <td>5.0</td>\n",
              "    </tr>\n",
              "  </tbody>\n",
              "</table>\n",
              "</div>"
            ],
            "text/plain": [
              "   sepal_length\n",
              "0           5.1\n",
              "1           4.9\n",
              "2           4.7\n",
              "3           4.6\n",
              "4           5.0"
            ]
          },
          "metadata": {},
          "execution_count": 2
        }
      ]
    },
    {
      "cell_type": "code",
      "metadata": {
        "colab": {
          "base_uri": "https://localhost:8080/",
          "height": 203
        },
        "id": "ok_Hybs3lXl_",
        "outputId": "4b984e24-6283-495a-8f9a-7d41869624ba"
      },
      "source": [
        "# sepal_length 칼럼의 이름 x로 바꾸기\n",
        "df_iris.rename(columns={'sepal_length' : 'x'}, inplace=True)\n",
        "df_iris.head()"
      ],
      "execution_count": 3,
      "outputs": [
        {
          "output_type": "execute_result",
          "data": {
            "text/html": [
              "<div>\n",
              "<style scoped>\n",
              "    .dataframe tbody tr th:only-of-type {\n",
              "        vertical-align: middle;\n",
              "    }\n",
              "\n",
              "    .dataframe tbody tr th {\n",
              "        vertical-align: top;\n",
              "    }\n",
              "\n",
              "    .dataframe thead th {\n",
              "        text-align: right;\n",
              "    }\n",
              "</style>\n",
              "<table border=\"1\" class=\"dataframe\">\n",
              "  <thead>\n",
              "    <tr style=\"text-align: right;\">\n",
              "      <th></th>\n",
              "      <th>x</th>\n",
              "    </tr>\n",
              "  </thead>\n",
              "  <tbody>\n",
              "    <tr>\n",
              "      <th>0</th>\n",
              "      <td>5.1</td>\n",
              "    </tr>\n",
              "    <tr>\n",
              "      <th>1</th>\n",
              "      <td>4.9</td>\n",
              "    </tr>\n",
              "    <tr>\n",
              "      <th>2</th>\n",
              "      <td>4.7</td>\n",
              "    </tr>\n",
              "    <tr>\n",
              "      <th>3</th>\n",
              "      <td>4.6</td>\n",
              "    </tr>\n",
              "    <tr>\n",
              "      <th>4</th>\n",
              "      <td>5.0</td>\n",
              "    </tr>\n",
              "  </tbody>\n",
              "</table>\n",
              "</div>"
            ],
            "text/plain": [
              "     x\n",
              "0  5.1\n",
              "1  4.9\n",
              "2  4.7\n",
              "3  4.6\n",
              "4  5.0"
            ]
          },
          "metadata": {},
          "execution_count": 3
        }
      ]
    },
    {
      "cell_type": "markdown",
      "metadata": {
        "id": "az0kx_sxHYri"
      },
      "source": [
        "## 3. 기초 미분\n",
        "\n",
        "다음 함수를 미분한 도함수를 구한 후에 num_one 함수를 완성하세요. \n",
        "$f(x) = 4x^5 + 9x^3 + ex^2 - 7$\n",
        "\n",
        "- num_one 함수를 x에 적용한 후에 **derivative_one**이라는 칼럼으로 df_iris에 저장합니다. (Hint : df.apply)\n",
        "- derivative_one 칼럼의 합을 `res2`에 저장합니다 (소수점 세자리까지)"
      ]
    },
    {
      "cell_type": "code",
      "metadata": {
        "id": "J5ha7GquLbCo",
        "colab": {
          "base_uri": "https://localhost:8080/",
          "height": 203
        },
        "outputId": "c0d10231-92aa-4d3f-dd0f-71051c2324e2"
      },
      "source": [
        "import numpy as np\n",
        "\n",
        "e = np.exp(1)\n",
        "\n",
        "# 도함수 구하기\n",
        "def num_one(x):\n",
        "  #20x^4 + 27x^2 + 2ex\n",
        "  return 20*(x**4) + 27*(x**2) + 2*e*x\n",
        "\n",
        "# derivative_one 컬럼 저장\n",
        "df_iris['derivative_one'] = df_iris['x'].apply(num_one)\n",
        "df_iris.head()"
      ],
      "execution_count": 4,
      "outputs": [
        {
          "output_type": "execute_result",
          "data": {
            "text/html": [
              "<div>\n",
              "<style scoped>\n",
              "    .dataframe tbody tr th:only-of-type {\n",
              "        vertical-align: middle;\n",
              "    }\n",
              "\n",
              "    .dataframe tbody tr th {\n",
              "        vertical-align: top;\n",
              "    }\n",
              "\n",
              "    .dataframe thead th {\n",
              "        text-align: right;\n",
              "    }\n",
              "</style>\n",
              "<table border=\"1\" class=\"dataframe\">\n",
              "  <thead>\n",
              "    <tr style=\"text-align: right;\">\n",
              "      <th></th>\n",
              "      <th>x</th>\n",
              "      <th>derivative_one</th>\n",
              "    </tr>\n",
              "  </thead>\n",
              "  <tbody>\n",
              "    <tr>\n",
              "      <th>0</th>\n",
              "      <td>5.1</td>\n",
              "      <td>14260.398475</td>\n",
              "    </tr>\n",
              "    <tr>\n",
              "      <th>1</th>\n",
              "      <td>4.9</td>\n",
              "      <td>12204.511162</td>\n",
              "    </tr>\n",
              "    <tr>\n",
              "      <th>2</th>\n",
              "      <td>4.7</td>\n",
              "      <td>10381.343849</td>\n",
              "    </tr>\n",
              "    <tr>\n",
              "      <th>3</th>\n",
              "      <td>4.6</td>\n",
              "      <td>9551.240193</td>\n",
              "    </tr>\n",
              "    <tr>\n",
              "      <th>4</th>\n",
              "      <td>5.0</td>\n",
              "      <td>13202.182818</td>\n",
              "    </tr>\n",
              "  </tbody>\n",
              "</table>\n",
              "</div>"
            ],
            "text/plain": [
              "     x  derivative_one\n",
              "0  5.1    14260.398475\n",
              "1  4.9    12204.511162\n",
              "2  4.7    10381.343849\n",
              "3  4.6     9551.240193\n",
              "4  5.0    13202.182818"
            ]
          },
          "metadata": {},
          "execution_count": 4
        }
      ]
    },
    {
      "cell_type": "code",
      "metadata": {
        "colab": {
          "base_uri": "https://localhost:8080/"
        },
        "id": "k2x4TvAxoV40",
        "outputId": "ba654d96-fc8d-46a6-f102-8a4f08dd3906"
      },
      "source": [
        "# derivative_one 컬럼 합을 res2에 저장\n",
        "res2 = round(sum(df_iris['derivative_one']), 3)\n",
        "res2"
      ],
      "execution_count": 5,
      "outputs": [
        {
          "output_type": "execute_result",
          "data": {
            "text/plain": [
              "4077643.108"
            ]
          },
          "metadata": {},
          "execution_count": 5
        }
      ]
    },
    {
      "cell_type": "markdown",
      "metadata": {
        "id": "yaT71yorj5bR"
      },
      "source": [
        "- 이번에는 scipy의 [derivative](https://docs.scipy.org/doc/scipy/reference/generated/scipy.misc.derivative.html)를 활용하여 **derivative_two** 칼럼으로 저장하세요.\n",
        "  - dx는 1e-7로 설정합니다.\n",
        "- derivative_two 칼럼의 합을 `res3`에 저장합니다 (소수점 세자리까지)"
      ]
    },
    {
      "cell_type": "code",
      "metadata": {
        "colab": {
          "base_uri": "https://localhost:8080/",
          "height": 203
        },
        "id": "VkJDQ3Wrj5bR",
        "outputId": "067d2c69-1651-4c3a-bb29-b47790f7521e"
      },
      "source": [
        "from scipy.misc import derivative\n",
        "\n",
        "# 미분하기 전의 함수\n",
        "def f(x):\n",
        "    return 4*(x**5) + 9*(x**3) + e*(x**2) - 7\n",
        "\n",
        "# scipy의 derivative를 활용하여 derivative_two 칼럼으로 저장\n",
        "df_iris['derivative_two'] = derivative(f, df_iris['x'], dx=1e-7)\n",
        "df_iris.head()"
      ],
      "execution_count": 6,
      "outputs": [
        {
          "output_type": "execute_result",
          "data": {
            "text/html": [
              "<div>\n",
              "<style scoped>\n",
              "    .dataframe tbody tr th:only-of-type {\n",
              "        vertical-align: middle;\n",
              "    }\n",
              "\n",
              "    .dataframe tbody tr th {\n",
              "        vertical-align: top;\n",
              "    }\n",
              "\n",
              "    .dataframe thead th {\n",
              "        text-align: right;\n",
              "    }\n",
              "</style>\n",
              "<table border=\"1\" class=\"dataframe\">\n",
              "  <thead>\n",
              "    <tr style=\"text-align: right;\">\n",
              "      <th></th>\n",
              "      <th>x</th>\n",
              "      <th>derivative_one</th>\n",
              "      <th>derivative_two</th>\n",
              "    </tr>\n",
              "  </thead>\n",
              "  <tbody>\n",
              "    <tr>\n",
              "      <th>0</th>\n",
              "      <td>5.1</td>\n",
              "      <td>14260.398475</td>\n",
              "      <td>14260.398502</td>\n",
              "    </tr>\n",
              "    <tr>\n",
              "      <th>1</th>\n",
              "      <td>4.9</td>\n",
              "      <td>12204.511162</td>\n",
              "      <td>12204.511186</td>\n",
              "    </tr>\n",
              "    <tr>\n",
              "      <th>2</th>\n",
              "      <td>4.7</td>\n",
              "      <td>10381.343849</td>\n",
              "      <td>10381.343873</td>\n",
              "    </tr>\n",
              "    <tr>\n",
              "      <th>3</th>\n",
              "      <td>4.6</td>\n",
              "      <td>9551.240193</td>\n",
              "      <td>9551.240219</td>\n",
              "    </tr>\n",
              "    <tr>\n",
              "      <th>4</th>\n",
              "      <td>5.0</td>\n",
              "      <td>13202.182818</td>\n",
              "      <td>13202.182863</td>\n",
              "    </tr>\n",
              "  </tbody>\n",
              "</table>\n",
              "</div>"
            ],
            "text/plain": [
              "     x  derivative_one  derivative_two\n",
              "0  5.1    14260.398475    14260.398502\n",
              "1  4.9    12204.511162    12204.511186\n",
              "2  4.7    10381.343849    10381.343873\n",
              "3  4.6     9551.240193     9551.240219\n",
              "4  5.0    13202.182818    13202.182863"
            ]
          },
          "metadata": {},
          "execution_count": 6
        }
      ]
    },
    {
      "cell_type": "code",
      "metadata": {
        "colab": {
          "base_uri": "https://localhost:8080/"
        },
        "id": "FwRZ0XJIpyw_",
        "outputId": "0083788d-3ede-48a9-9ef4-06c474eadaba"
      },
      "source": [
        "# derivative_two 컬럼의 합을 res3에 저장\n",
        "res3 = round(sum(df_iris['derivative_two']), 3)\n",
        "res3"
      ],
      "execution_count": 7,
      "outputs": [
        {
          "output_type": "execute_result",
          "data": {
            "text/plain": [
              "4077643.121"
            ]
          },
          "metadata": {},
          "execution_count": 7
        }
      ]
    },
    {
      "cell_type": "markdown",
      "metadata": {
        "id": "U9KQrjt3I66h"
      },
      "source": [
        "## 4. 미분 연습\n",
        "\n",
        ">아래 함수들의 도함수를 작성해주세요."
      ]
    },
    {
      "cell_type": "markdown",
      "metadata": {
        "id": "lUCCaYyCj5bS"
      },
      "source": [
        " $f(x) = e^x$ "
      ]
    },
    {
      "cell_type": "code",
      "metadata": {
        "colab": {
          "base_uri": "https://localhost:8080/"
        },
        "id": "X_5ptpYLj5bS",
        "outputId": "d0a288d4-cd16-4d65-e321-cd331ddfbb76"
      },
      "source": [
        "def e_prime(x):\n",
        "    return np.exp(x)\n",
        "\n",
        "e_prime(5)\n",
        "# 참고 : https://blog.naver.com/PostView.nhn?blogId=sbssbi69&logNo=90164383593"
      ],
      "execution_count": 8,
      "outputs": [
        {
          "output_type": "execute_result",
          "data": {
            "text/plain": [
              "148.4131591025766"
            ]
          },
          "metadata": {},
          "execution_count": 8
        }
      ]
    },
    {
      "cell_type": "markdown",
      "metadata": {
        "id": "IOfGuKocj5bS"
      },
      "source": [
        "$f(x) = lnx$"
      ]
    },
    {
      "cell_type": "code",
      "metadata": {
        "colab": {
          "base_uri": "https://localhost:8080/"
        },
        "id": "tvMPzTaRj5bT",
        "outputId": "cbdd3f52-bfc4-489b-86c5-155ba2bbdaeb"
      },
      "source": [
        "def ln_prime(x):\n",
        "    return 1 / x\n",
        "\n",
        "ln_prime(5)\n",
        "# 참고 : https://blog.naver.com/PostView.nhn?blogId=sbssbi69&logNo=90164383593"
      ],
      "execution_count": 9,
      "outputs": [
        {
          "output_type": "execute_result",
          "data": {
            "text/plain": [
              "0.2"
            ]
          },
          "metadata": {},
          "execution_count": 9
        }
      ]
    },
    {
      "cell_type": "markdown",
      "metadata": {
        "id": "BAwkgudyj5bT"
      },
      "source": [
        "$f(x) = Sin(2x)$"
      ]
    },
    {
      "cell_type": "code",
      "metadata": {
        "colab": {
          "base_uri": "https://localhost:8080/"
        },
        "id": "RIgz_Z8Oj5bT",
        "outputId": "4adccb16-f4b8-4264-c8a0-2bef5ac890c4"
      },
      "source": [
        "import math\n",
        "\n",
        "def sine_prime(x):\n",
        "  return 2*np.cos(2*x)\n",
        "\n",
        "sine_prime(5)\n",
        "# 참고 : https://rfriend.tistory.com/296 (삼각함수)"
      ],
      "execution_count": 10,
      "outputs": [
        {
          "output_type": "execute_result",
          "data": {
            "text/plain": [
              "-1.6781430581529049"
            ]
          },
          "metadata": {},
          "execution_count": 10
        }
      ]
    },
    {
      "cell_type": "markdown",
      "metadata": {
        "id": "VZ7EPGvgj5bT"
      },
      "source": [
        "$f(x) = (2x^2 + 8x)^2$"
      ]
    },
    {
      "cell_type": "code",
      "metadata": {
        "colab": {
          "base_uri": "https://localhost:8080/"
        },
        "id": "yQc5P2d0j5bT",
        "outputId": "8bdd590b-33b0-4518-af1c-1e66eb66581a"
      },
      "source": [
        "def f_prime(x):\n",
        "  return 2*(2*(x**2)+8*x) * (4*x+8)\n",
        "\n",
        "f_prime(5)"
      ],
      "execution_count": 11,
      "outputs": [
        {
          "output_type": "execute_result",
          "data": {
            "text/plain": [
              "5040"
            ]
          },
          "metadata": {},
          "execution_count": 11
        }
      ]
    },
    {
      "cell_type": "markdown",
      "metadata": {
        "id": "yKehJVDsJQNg"
      },
      "source": [
        "## 5. 편미분\n",
        "\n",
        "주어진 `machine learning model`의 `error function` ($\\varepsilon$)이 다음과 같을 때 `error function`을 **최소화** 하는 최적의 `parameter`들을  구하세요. 그 후 결과를 각각 `p1`, `p2`에 저장하세요.\n",
        "\n",
        "$\\varepsilon(p_1, p_2) = (e \\cdot p_1 - p_2)^2 + {{k_2} \\over { 2 }} \\cdot p_2 $ \n",
        "\n",
        "$k_2 = 100$\n",
        "\n",
        "- 단 최적의 $p_1$은 $p_2$가 $3$일때, 최적의 $p_2$는 $p_1$이 $10$일때를 기준으로 합니다."
      ]
    },
    {
      "cell_type": "code",
      "metadata": {
        "id": "TlA7rqlnK2V8",
        "colab": {
          "base_uri": "https://localhost:8080/"
        },
        "outputId": "07c6c7de-3142-4dce-e47f-54d337708aa7"
      },
      "source": [
        "# ε(p_1,p_2)=(e*p_1−p_2)**2 + (k2/2)*p_2\n",
        "# = (e*p_1−p_2)**2 + (100/2)*p_2\n",
        "# = (e*p_1−p_2)**2 + 50*p_2\n",
        "\n",
        "'''\n",
        "p_2 = 3 일 때 p_1 구하기\n",
        "(e*p_1−3)**2 + 50*3\n",
        "= (e*p_1−3)**2 + 150\n",
        "ε' = 2*(e*p_1−3) * e = 0\n",
        "2*(e*p_1−3) * e = 0\n",
        "e*p_1−3 = 0\n",
        "e*p_1 = 3\n",
        "'''\n",
        "p_1 = 3 / e\n",
        "print(p_1)\n",
        "\n",
        "'''\n",
        "p_1 = 10 일 때 p_2 구하기\n",
        "(e*10−p_2)**2 + 50*p_2\n",
        "ε' = 2*(e*10−p_2) * (-1) + 50 = 0\n",
        "-2*(10*e−p_2) + 50 = 0\n",
        "2*p_2 - 20*e + 50 = 0\n",
        "2*p_2 = 20*e - 50\n",
        "'''\n",
        "p_2 = 10*e - 25\n",
        "print(p_2)"
      ],
      "execution_count": 14,
      "outputs": [
        {
          "output_type": "stream",
          "name": "stdout",
          "text": [
            "1.103638323514327\n",
            "2.18281828459045\n"
          ]
        }
      ]
    },
    {
      "cell_type": "markdown",
      "metadata": {
        "id": "ksW7uwOzL-eY"
      },
      "source": [
        "## 🔥 도전과제 "
      ]
    },
    {
      "cell_type": "markdown",
      "metadata": {
        "id": "MltjgTsvMZmv"
      },
      "source": [
        "### 다음 함수를 미분하세요. 이후에 x = 3일 때의 결과를 `challenge`에 저장하세요.  \n",
        "$\\sigma(x) = {{1} \\over {1 + e^-x}}$. "
      ]
    },
    {
      "cell_type": "code",
      "metadata": {
        "colab": {
          "base_uri": "https://localhost:8080/"
        },
        "id": "7Fee7m3xj5bU",
        "outputId": "5b513e88-4ab8-47d8-c24e-78672c2414a0"
      },
      "source": [
        "def sig_prime(x):\n",
        "    return e**(-x) / (1+e**(-x))**2\n",
        "\n",
        "challenge = sig_prime(3)\n",
        "challenge\n",
        "# 참고 : 자연상수 미분, 분수함수 미분"
      ],
      "execution_count": 15,
      "outputs": [
        {
          "output_type": "execute_result",
          "data": {
            "text/plain": [
              "0.04517665973091214"
            ]
          },
          "metadata": {},
          "execution_count": 15
        }
      ]
    }
  ]
}