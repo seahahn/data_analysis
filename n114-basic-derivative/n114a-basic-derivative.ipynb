{
  "nbformat": 4,
  "nbformat_minor": 0,
  "metadata": {
    "colab": {
      "name": "n114a-Basic Derivative.ipynb",
      "provenance": []
    },
    "kernelspec": {
      "display_name": "Python 3",
      "language": "python",
      "name": "python3"
    },
    "language_info": {
      "codemirror_mode": {
        "name": "ipython",
        "version": 3
      },
      "file_extension": ".py",
      "mimetype": "text/x-python",
      "name": "python",
      "nbconvert_exporter": "python",
      "pygments_lexer": "ipython3",
      "version": "3.9.4"
    }
  },
  "cells": [
    {
      "cell_type": "markdown",
      "metadata": {
        "id": "G5hwlPlsGega"
      },
      "source": [
        "<img src='https://i.imgur.com/RDAD11M.png' width = '200' align = 'right'>\n",
        "\n",
        "## *DATA SCIENCE / SECTION 1 / SPRINT 1 / NOTE 4*\n",
        "\n",
        "---\n",
        "\n",
        "# 📝 Assignment\n",
        "\n"
      ]
    },
    {
      "cell_type": "markdown",
      "metadata": {
        "id": "RXWJ5SRCj5bO"
      },
      "source": [
        "## 1. Dataset 불러오기\n",
        "> seaborn 라이브러리의 load_dataset()을 활용해서 iris 데이터셋을 데이터프레임으로 불러옵니다. 데이터프레임의 이름은 df_iris로 합니다. <br>\n",
        "> df_iris의 shape의 **첫번째 값을 두번째 값으로 나눈 값**을 `res1`에 저장하세요"
      ]
    },
    {
      "cell_type": "code",
      "metadata": {
        "id": "byPagxLtj5bP",
        "outputId": "fc99d56a-8a6e-4092-d9c2-cec9f34a8bb2",
        "colab": {
          "base_uri": "https://localhost:8080/"
        }
      },
      "source": [
        "import seaborn as sns\n",
        "import numpy as np\n",
        "np.random.seed(42)\n",
        "\n",
        "df_iris = sns.load_dataset('iris')\n",
        "df_iris.head()\n",
        "df_iris.shape\n",
        "\n",
        "res1 = df_iris.shape[0] / df_iris.shape[1]\n",
        "res1"
      ],
      "execution_count": 22,
      "outputs": [
        {
          "output_type": "execute_result",
          "data": {
            "text/plain": [
              "30.0"
            ]
          },
          "metadata": {},
          "execution_count": 22
        }
      ]
    },
    {
      "cell_type": "markdown",
      "metadata": {
        "id": "ZKJbUzUuj5bQ"
      },
      "source": [
        "## 2. X 구하기\n",
        "> df_iris에서 sepal_length만 남겨주세요. 그리고 sepal_length 칼럼의 이름은 x로 바꿉니다"
      ]
    },
    {
      "cell_type": "code",
      "metadata": {
        "id": "57-ZAnaoj5bQ",
        "outputId": "41e2d729-cb3a-4d67-9972-a904d2c2cfcf",
        "colab": {
          "base_uri": "https://localhost:8080/",
          "height": 203
        }
      },
      "source": [
        "df_iris = df_iris[['sepal_length']]\n",
        "df_iris.head()"
      ],
      "execution_count": 23,
      "outputs": [
        {
          "output_type": "execute_result",
          "data": {
            "text/html": [
              "<div>\n",
              "<style scoped>\n",
              "    .dataframe tbody tr th:only-of-type {\n",
              "        vertical-align: middle;\n",
              "    }\n",
              "\n",
              "    .dataframe tbody tr th {\n",
              "        vertical-align: top;\n",
              "    }\n",
              "\n",
              "    .dataframe thead th {\n",
              "        text-align: right;\n",
              "    }\n",
              "</style>\n",
              "<table border=\"1\" class=\"dataframe\">\n",
              "  <thead>\n",
              "    <tr style=\"text-align: right;\">\n",
              "      <th></th>\n",
              "      <th>sepal_length</th>\n",
              "    </tr>\n",
              "  </thead>\n",
              "  <tbody>\n",
              "    <tr>\n",
              "      <th>0</th>\n",
              "      <td>5.1</td>\n",
              "    </tr>\n",
              "    <tr>\n",
              "      <th>1</th>\n",
              "      <td>4.9</td>\n",
              "    </tr>\n",
              "    <tr>\n",
              "      <th>2</th>\n",
              "      <td>4.7</td>\n",
              "    </tr>\n",
              "    <tr>\n",
              "      <th>3</th>\n",
              "      <td>4.6</td>\n",
              "    </tr>\n",
              "    <tr>\n",
              "      <th>4</th>\n",
              "      <td>5.0</td>\n",
              "    </tr>\n",
              "  </tbody>\n",
              "</table>\n",
              "</div>"
            ],
            "text/plain": [
              "   sepal_length\n",
              "0           5.1\n",
              "1           4.9\n",
              "2           4.7\n",
              "3           4.6\n",
              "4           5.0"
            ]
          },
          "metadata": {},
          "execution_count": 23
        }
      ]
    },
    {
      "cell_type": "code",
      "metadata": {
        "id": "ok_Hybs3lXl_",
        "outputId": "de967b14-b351-404a-9a0a-05b943e9cb94",
        "colab": {
          "base_uri": "https://localhost:8080/",
          "height": 203
        }
      },
      "source": [
        "df_iris.rename(columns={'sepal_length' : 'x'}, inplace=True)\n",
        "\n",
        "df_iris.head()"
      ],
      "execution_count": 26,
      "outputs": [
        {
          "output_type": "execute_result",
          "data": {
            "text/html": [
              "<div>\n",
              "<style scoped>\n",
              "    .dataframe tbody tr th:only-of-type {\n",
              "        vertical-align: middle;\n",
              "    }\n",
              "\n",
              "    .dataframe tbody tr th {\n",
              "        vertical-align: top;\n",
              "    }\n",
              "\n",
              "    .dataframe thead th {\n",
              "        text-align: right;\n",
              "    }\n",
              "</style>\n",
              "<table border=\"1\" class=\"dataframe\">\n",
              "  <thead>\n",
              "    <tr style=\"text-align: right;\">\n",
              "      <th></th>\n",
              "      <th>x</th>\n",
              "    </tr>\n",
              "  </thead>\n",
              "  <tbody>\n",
              "    <tr>\n",
              "      <th>0</th>\n",
              "      <td>5.1</td>\n",
              "    </tr>\n",
              "    <tr>\n",
              "      <th>1</th>\n",
              "      <td>4.9</td>\n",
              "    </tr>\n",
              "    <tr>\n",
              "      <th>2</th>\n",
              "      <td>4.7</td>\n",
              "    </tr>\n",
              "    <tr>\n",
              "      <th>3</th>\n",
              "      <td>4.6</td>\n",
              "    </tr>\n",
              "    <tr>\n",
              "      <th>4</th>\n",
              "      <td>5.0</td>\n",
              "    </tr>\n",
              "  </tbody>\n",
              "</table>\n",
              "</div>"
            ],
            "text/plain": [
              "     x\n",
              "0  5.1\n",
              "1  4.9\n",
              "2  4.7\n",
              "3  4.6\n",
              "4  5.0"
            ]
          },
          "metadata": {},
          "execution_count": 26
        }
      ]
    },
    {
      "cell_type": "markdown",
      "metadata": {
        "id": "az0kx_sxHYri"
      },
      "source": [
        "## 3. 기초 미분\n",
        "\n",
        "다음 함수를 미분한 도함수를 구한 후에 num_one 함수를 완성하세요. \n",
        "$f(x) = 4x^5 + 9x^3 + ex^2 - 7$\n",
        "\n",
        "- num_one 함수를 x에 적용한 후에 **derivative_one**이라는 칼럼으로 df_iris에 저장합니다. (Hint : df.apply)\n",
        "- derivative_one 칼럼의 합을 `res2`에 저장합니다 (소수점 세자리까지)"
      ]
    },
    {
      "cell_type": "code",
      "metadata": {
        "id": "J5ha7GquLbCo"
      },
      "source": [
        "import numpy as np\n",
        "\n",
        "def num_one(x):\n",
        "  #20x^4 + 27x^2 + 2ex\n",
        "  return (20*x**4 + 27*x**2 + 2*np.exp(1)*x)\n",
        "\n",
        "df_iris['derivative_one'] = df_iris['x'].apply(num_one)\n",
        "df_iris.head()"
      ],
      "execution_count": null,
      "outputs": []
    },
    {
      "cell_type": "code",
      "metadata": {
        "id": "k2x4TvAxoV40"
      },
      "source": [
        "res2 = sum(df_iris['derivative_one'])\n",
        "round(res2, 3)"
      ],
      "execution_count": null,
      "outputs": []
    },
    {
      "cell_type": "markdown",
      "metadata": {
        "id": "yaT71yorj5bR"
      },
      "source": [
        "- 이번에는 scipy의 [derivative](https://docs.scipy.org/doc/scipy/reference/generated/scipy.misc.derivative.html)를 활용하여 **derivative_two** 칼럼으로 저장하세요.\n",
        "  - dx는 1e-7로 설정합니다.\n",
        "- derivative_two 칼럼의 합을 `res3`에 저장합니다 (소수점 세자리까지)"
      ]
    },
    {
      "cell_type": "code",
      "metadata": {
        "id": "VkJDQ3Wrj5bR",
        "outputId": "3dd4b102-0c28-4bd3-d813-e9c1ed623e09",
        "colab": {
          "base_uri": "https://localhost:8080/",
          "height": 203
        }
      },
      "source": [
        "from scipy.misc import derivative\n",
        "\n",
        "def f(x):\n",
        "    return (4*x**2 + 9*x**3 + np.exp(1)*x**2 - 7)\n",
        "\n",
        "df_iris['derivative_two'] = derivative(f,df_iris['x'].apply(f), dx=1e-7)\n",
        "df_iris.head()"
      ],
      "execution_count": 34,
      "outputs": [
        {
          "output_type": "execute_result",
          "data": {
            "text/html": [
              "<div>\n",
              "<style scoped>\n",
              "    .dataframe tbody tr th:only-of-type {\n",
              "        vertical-align: middle;\n",
              "    }\n",
              "\n",
              "    .dataframe tbody tr th {\n",
              "        vertical-align: top;\n",
              "    }\n",
              "\n",
              "    .dataframe thead th {\n",
              "        text-align: right;\n",
              "    }\n",
              "</style>\n",
              "<table border=\"1\" class=\"dataframe\">\n",
              "  <thead>\n",
              "    <tr style=\"text-align: right;\">\n",
              "      <th></th>\n",
              "      <th>x</th>\n",
              "      <th>derivative_one</th>\n",
              "      <th>derivative_two</th>\n",
              "    </tr>\n",
              "  </thead>\n",
              "  <tbody>\n",
              "    <tr>\n",
              "      <th>0</th>\n",
              "      <td>5.1</td>\n",
              "      <td>14260.398475</td>\n",
              "      <td>5.007523e+07</td>\n",
              "    </tr>\n",
              "    <tr>\n",
              "      <th>1</th>\n",
              "      <td>4.9</td>\n",
              "      <td>12204.511162</td>\n",
              "      <td>3.975292e+07</td>\n",
              "    </tr>\n",
              "    <tr>\n",
              "      <th>2</th>\n",
              "      <td>4.7</td>\n",
              "      <td>10381.343849</td>\n",
              "      <td>3.126361e+07</td>\n",
              "    </tr>\n",
              "    <tr>\n",
              "      <th>3</th>\n",
              "      <td>4.6</td>\n",
              "      <td>9551.240193</td>\n",
              "      <td>2.762082e+07</td>\n",
              "    </tr>\n",
              "    <tr>\n",
              "      <th>4</th>\n",
              "      <td>5.0</td>\n",
              "      <td>13202.182818</td>\n",
              "      <td>4.466681e+07</td>\n",
              "    </tr>\n",
              "  </tbody>\n",
              "</table>\n",
              "</div>"
            ],
            "text/plain": [
              "     x  derivative_one  derivative_two\n",
              "0  5.1    14260.398475    5.007523e+07\n",
              "1  4.9    12204.511162    3.975292e+07\n",
              "2  4.7    10381.343849    3.126361e+07\n",
              "3  4.6     9551.240193    2.762082e+07\n",
              "4  5.0    13202.182818    4.466681e+07"
            ]
          },
          "metadata": {},
          "execution_count": 34
        }
      ]
    },
    {
      "cell_type": "code",
      "metadata": {
        "id": "FwRZ0XJIpyw_",
        "outputId": "31bdd40c-d12b-41f2-c8f4-4672fea7a4c6",
        "colab": {
          "base_uri": "https://localhost:8080/"
        }
      },
      "source": [
        "res3 = sum(df_iris['derivative_two'])\n",
        "round(res3, 3)"
      ],
      "execution_count": 35,
      "outputs": [
        {
          "output_type": "execute_result",
          "data": {
            "text/plain": [
              "21565948185.921"
            ]
          },
          "metadata": {},
          "execution_count": 35
        }
      ]
    },
    {
      "cell_type": "markdown",
      "metadata": {
        "id": "U9KQrjt3I66h"
      },
      "source": [
        "## 4. 미분 연습\n",
        "\n",
        ">아래 함수들의 도함수를 작성해주세요."
      ]
    },
    {
      "cell_type": "markdown",
      "metadata": {
        "id": "lUCCaYyCj5bS"
      },
      "source": [
        " $f(x) = e^x$ "
      ]
    },
    {
      "cell_type": "code",
      "metadata": {
        "id": "X_5ptpYLj5bS"
      },
      "source": [
        "def e_prime(x):\n",
        "    return np.exp(x)\n",
        "\n",
        "# 참고 : https://blog.naver.com/PostView.nhn?blogId=sbssbi69&logNo=90164383593"
      ],
      "execution_count": null,
      "outputs": []
    },
    {
      "cell_type": "markdown",
      "metadata": {
        "id": "IOfGuKocj5bS"
      },
      "source": [
        "$f(x) = lnx$"
      ]
    },
    {
      "cell_type": "code",
      "metadata": {
        "id": "tvMPzTaRj5bT"
      },
      "source": [
        "def ln_prime(x):\n",
        "    return 1 / x\n",
        "\n",
        "# 참고 : https://blog.naver.com/PostView.nhn?blogId=sbssbi69&logNo=90164383593"
      ],
      "execution_count": null,
      "outputs": []
    },
    {
      "cell_type": "markdown",
      "metadata": {
        "id": "BAwkgudyj5bT"
      },
      "source": [
        "$f(x) = Sin(2x)$"
      ]
    },
    {
      "cell_type": "code",
      "metadata": {
        "id": "RIgz_Z8Oj5bT"
      },
      "source": [
        "def sine_prime(2x):\n",
        "    return 2*np.cos(2*x)\n",
        "\n",
        "# 참고 : https://rfriend.tistory.com/296 (삼각함수)"
      ],
      "execution_count": null,
      "outputs": []
    },
    {
      "cell_type": "markdown",
      "metadata": {
        "id": "VZ7EPGvgj5bT"
      },
      "source": [
        "$f(x) = (2x^2 + 8x)^2$"
      ]
    },
    {
      "cell_type": "code",
      "metadata": {
        "id": "yQc5P2d0j5bT"
      },
      "source": [
        "def f_prime(x):\n",
        "    return 2*(2*x**2+8*x) + 4*x+8"
      ],
      "execution_count": null,
      "outputs": []
    },
    {
      "cell_type": "markdown",
      "metadata": {
        "id": "yKehJVDsJQNg"
      },
      "source": [
        "## 5. 편미분\n",
        "\n",
        "주어진 `machine learning model`의 `error function` ($\\varepsilon$)이 다음과 같을 때 `error function`을 **최소화** 하는 최적의 `parameter`들을  구하세요. 그 후 결과를 각각 `p1`, `p2`에 저장하세요.\n",
        "\n",
        "$\\varepsilon(p_1, p_2) = (e \\cdot p_1 - p_2)^2 + {{k_2} \\over { 2 }} \\cdot p_2 $ \n",
        "\n",
        "$k_2 = 100$\n",
        "\n",
        "- 단 최적의 $p_1$은 $p_2$가 $3$일때, 최적의 $p_2$는 $p_1$이 $10$일때를 기준으로 합니다."
      ]
    },
    {
      "cell_type": "code",
      "metadata": {
        "id": "TlA7rqlnK2V8"
      },
      "source": [
        "# 이 곳에 답안을 작성하세요"
      ],
      "execution_count": null,
      "outputs": []
    },
    {
      "cell_type": "markdown",
      "metadata": {
        "id": "ksW7uwOzL-eY"
      },
      "source": [
        "## 🔥 도전과제 "
      ]
    },
    {
      "cell_type": "markdown",
      "metadata": {
        "id": "MltjgTsvMZmv"
      },
      "source": [
        "### 다음 함수를 미분하세요. 이후에 x = 3일 때의 결과를 `challenge`에 저장하세요.  \n",
        "$\\sigma(x) = {{1} \\over {1 + e^-x}}$. "
      ]
    },
    {
      "cell_type": "code",
      "metadata": {
        "id": "7Fee7m3xj5bU"
      },
      "source": [
        "def sig_prime(x):\n",
        "    return None # 이곳에 답안을 작성하세요."
      ],
      "execution_count": null,
      "outputs": []
    }
  ]
}