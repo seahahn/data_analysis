{
  "nbformat": 4,
  "nbformat_minor": 0,
  "metadata": {
    "colab": {
      "name": "n113a_data-manipulation.ipynb",
      "provenance": [],
      "collapsed_sections": []
    },
    "kernelspec": {
      "display_name": "Python 3",
      "language": "python",
      "name": "python3"
    },
    "language_info": {
      "codemirror_mode": {
        "name": "ipython",
        "version": 3
      },
      "file_extension": ".py",
      "mimetype": "text/x-python",
      "name": "python",
      "nbconvert_exporter": "python",
      "pygments_lexer": "ipython3",
      "version": "3.9.4"
    }
  },
  "cells": [
    {
      "cell_type": "markdown",
      "metadata": {
        "id": "pmU5YUal1eTZ"
      },
      "source": [
        "<img src='https://user-images.githubusercontent.com/6457691/89746244-a6e2a200-daf3-11ea-9314-7863d544d73c.png' width = '200' align = 'right'>\n",
        "\n",
        "## *DATA SCIENCE / SECTION 1 / SPRINT 1 / NOTE 3*\n",
        "\n",
        "# 📝 Assignment\n",
        "\n",
        "---\n",
        "\n",
        "## 1. Concat \n",
        "\n",
        "세션시간에 다뤘던 6개의 데이터를 1개로 합치세요.\n",
        "\n",
        "데이터를 불러오기 위하여 아래의 코드를 참조하세요.\n",
        "\n",
        "합쳐진 데이터의 이름은 `df`입니다.\n",
        "\n",
        "```python\n",
        "import pandas as pd\n",
        "\n",
        "urlhead = 'https://ds-lecture-data.s3.ap-northeast-2.amazonaws.com/stocks/'\n",
        "df1 = pd.read_csv(urlhead + '000080.csv') \n",
        "# '000890.csv'\n",
        "# '005300.csv'\n",
        "# '027740.csv'\n",
        "# '035810.csv'\n",
        "# '136480.csv'\n",
        "```\n",
        "\n",
        "\n",
        "\n",
        "단, 모든 feature, 모든 데이터에 대해서가 아닌\n",
        "\n",
        "- 매출액\n",
        "- 자산총계\n",
        "- EPS\n",
        "\n",
        "- 제일 최근 분기의 데이터\n",
        "\n",
        "에 대해서만 하면 됩니다.\n",
        "\n",
        "||매출액|자산총계|EPS(원)|종목명|\n",
        "|:-:|:-:|:-:|:-:|:-:|\n",
        "|2020/09|6,243|10,897|453|하이트진로|\n",
        "|...|...|...|...|...|\n",
        "|2020/09|2,613|2,695|62|하림|\n",
        "\n",
        "(첫부분은 값이 달라도 되며, 결과 shape는 6,4입니다.)\n",
        "\n",
        "힌트 : \n",
        "- 데이터를 transpose\n",
        "- column의 이름을 변경 및 설정\n",
        "- 데이터의 일부 feature 선택\n",
        "- `종목명`이라는 feature 지정 (종목명은 Lecture Note를 참조)\n",
        "- 이후 `concat`으로 합치기\n",
        "- 합친 이후의 index는 `분기`로 설정 및 drop\n",
        "\n",
        "이라는 단계를 거치면 될겁니다."
      ]
    },
    {
      "cell_type": "code",
      "metadata": {
        "id": "hwBYT8GWxMXU",
        "outputId": "779e5113-ccd0-44ab-b3f5-c4f662a66b13",
        "colab": {
          "base_uri": "https://localhost:8080/",
          "height": 249
        }
      },
      "source": [
        "import pandas as pd\n",
        " \n",
        "urlhead = 'https://ds-lecture-data.s3.ap-northeast-2.amazonaws.com/stocks/'\n",
        "stock_code =  ['000080', '000890', '005300', '027740', '035810', '136480']\n",
        "stock_name = ['하이트진로', '보해양조', '롯데칠성', '마니커', '이지홀딩스', '하림']\n",
        "\n",
        "df = pd.DataFrame()\n",
        "\n",
        "def getData(idx, code):\n",
        "  df = pd.read_csv(urlhead + code + '.csv') # csv 파일 가져오기\n",
        "  df = df.T # 행열 자리 바꾸기\n",
        "  df.reset_index(inplace=True) # 인덱스 맨 위 글자 없애기 위해서 열로 가져옴\n",
        "  df.iloc[0, 0] = '' # 글자 없애기\n",
        "  df.columns = df.iloc[0] # 첫번째 행을 열 이름으로 지정\n",
        "  df = df[-1:] # 열 이름으로 지정한 행 제외 나머지 데이터만 남기기\n",
        "  df.set_index(df.columns[0], inplace=True) # 열로 가져온 기존 인덱스를 원래대로 돌려놓기\n",
        "  df.index = df.index.str.slice(start=0, stop=7) # 연도와 월만 남기고 나머지 글자 지우기\n",
        "  df = df.reindex(columns = ['매출액','자산총계', 'EPS(원)']) # 매출액, 자산총계, EPS feature만 남기기\n",
        "  df['종목명'] = stock_name[idx] # 종목명 열과 값 넣기\n",
        "\n",
        "  return df\n",
        "\n",
        "for idx, code in enumerate(stock_code):\n",
        "  df = pd.concat([df,getData(idx, code)])\n",
        "\n",
        "df"
      ],
      "execution_count": 1,
      "outputs": [
        {
          "output_type": "execute_result",
          "data": {
            "text/html": [
              "<div>\n",
              "<style scoped>\n",
              "    .dataframe tbody tr th:only-of-type {\n",
              "        vertical-align: middle;\n",
              "    }\n",
              "\n",
              "    .dataframe tbody tr th {\n",
              "        vertical-align: top;\n",
              "    }\n",
              "\n",
              "    .dataframe thead th {\n",
              "        text-align: right;\n",
              "    }\n",
              "</style>\n",
              "<table border=\"1\" class=\"dataframe\">\n",
              "  <thead>\n",
              "    <tr style=\"text-align: right;\">\n",
              "      <th></th>\n",
              "      <th>매출액</th>\n",
              "      <th>자산총계</th>\n",
              "      <th>EPS(원)</th>\n",
              "      <th>종목명</th>\n",
              "    </tr>\n",
              "    <tr>\n",
              "      <th></th>\n",
              "      <th></th>\n",
              "      <th></th>\n",
              "      <th></th>\n",
              "      <th></th>\n",
              "    </tr>\n",
              "  </thead>\n",
              "  <tbody>\n",
              "    <tr>\n",
              "      <th>2020/09</th>\n",
              "      <td>6,243</td>\n",
              "      <td>39,617</td>\n",
              "      <td>453</td>\n",
              "      <td>하이트진로</td>\n",
              "    </tr>\n",
              "    <tr>\n",
              "      <th>2020/09</th>\n",
              "      <td>205</td>\n",
              "      <td>1,555</td>\n",
              "      <td>3</td>\n",
              "      <td>보해양조</td>\n",
              "    </tr>\n",
              "    <tr>\n",
              "      <th>2020/09</th>\n",
              "      <td>5,980</td>\n",
              "      <td>34,066</td>\n",
              "      <td>1,682</td>\n",
              "      <td>롯데칠성</td>\n",
              "    </tr>\n",
              "    <tr>\n",
              "      <th>2020/09</th>\n",
              "      <td>521</td>\n",
              "      <td>1,897</td>\n",
              "      <td>-61</td>\n",
              "      <td>마니커</td>\n",
              "    </tr>\n",
              "    <tr>\n",
              "      <th>2020/06</th>\n",
              "      <td>4,108</td>\n",
              "      <td>18,966</td>\n",
              "      <td>1,168</td>\n",
              "      <td>이지홀딩스</td>\n",
              "    </tr>\n",
              "    <tr>\n",
              "      <th>2020/09</th>\n",
              "      <td>2,613</td>\n",
              "      <td>8,550</td>\n",
              "      <td>62</td>\n",
              "      <td>하림</td>\n",
              "    </tr>\n",
              "  </tbody>\n",
              "</table>\n",
              "</div>"
            ],
            "text/plain": [
              "0          매출액    자산총계 EPS(원)    종목명\n",
              "                                    \n",
              "2020/09  6,243  39,617    453  하이트진로\n",
              "2020/09    205   1,555      3   보해양조\n",
              "2020/09  5,980  34,066  1,682   롯데칠성\n",
              "2020/09    521   1,897    -61    마니커\n",
              "2020/06  4,108  18,966  1,168  이지홀딩스\n",
              "2020/09  2,613   8,550     62     하림"
            ]
          },
          "metadata": {},
          "execution_count": 1
        }
      ]
    },
    {
      "cell_type": "markdown",
      "metadata": {
        "id": "RsiWi4DuXPLP"
      },
      "source": [
        "## 2. Reshape \n",
        "\n",
        "방금 만든 데이터를 아래 예시와 같은 **tidy** 형태로 만드세요.\n",
        "\n",
        "이때 tidy 데이터의 이름은 `df_tidy` 입니다.\n",
        "\n",
        "|종목명|Feature|Value|\n",
        "|:-:|:-:|:-:|\n",
        "|하이트진로|매출액|6243|\n",
        "|보해양조|매출액|205|\n",
        "|롯데칠성|매출액|5980|\n",
        "|...|...|...|\n",
        "|마니커|EPS(원)|-61|\n",
        "|이지홀딩스|EPS(원)|1168|\n",
        "|하림|EPS(원)|62|\n",
        "\n",
        "이 후 아래의 코드를 정상적으로 실행했을때 나오는 box의 수를 `res`에 저장하세요.\n",
        "\n",
        "```python\n",
        "sns.boxplot(data = df_tidy, x = '종목명', y = 'value');\n",
        "```\n",
        "\n",
        "\n"
      ]
    },
    {
      "cell_type": "code",
      "metadata": {
        "id": "gACCr67CoUv0",
        "outputId": "423cdd72-1294-429d-b527-dd05bb3bce0f",
        "colab": {
          "base_uri": "https://localhost:8080/",
          "height": 279
        }
      },
      "source": [
        "import matplotlib as mpl\n",
        "%matplotlib inline\n",
        "import matplotlib.pyplot as plt\n",
        "import seaborn as sns\n",
        "\n",
        "# 네이버 나눔 폰트 설치\n",
        "# !sudo apt-get install -y fonts-nanum\n",
        "# !sudo fc-cache -fv\n",
        "# !rm ~/.cache/matplotlib -rf\n",
        "\n",
        "plt.rc('font', family='NanumBarunGothic') # 폰트 설정\n",
        "mpl.rcParams['axes.unicode_minus'] = False # 마이너스 기호 오류 해결\n",
        "\n",
        "def toInt(input):\n",
        "  return int(input.replace(',', ''))\n",
        "\n",
        "df_tidy = df.melt(id_vars='종목명', value_vars=['매출액','자산총계', 'EPS(원)'], var_name='Feature', value_name='Value')\n",
        "df_tidy['Value'] = pd.to_numeric(df_tidy['Value'].apply(toInt))\n",
        "\n",
        "sns.boxplot(data = df_tidy, x = '종목명', y = 'Value');"
      ],
      "execution_count": 8,
      "outputs": [
        {
          "output_type": "display_data",
          "data": {
            "image/png": "[encoded data removed]",
            "text/plain": [
              "<Figure size 432x288 with 1 Axes>"
            ]
          },
          "metadata": {
            "needs_background": "light"
          }
        }
      ]
    },
    {
      "cell_type": "markdown",
      "metadata": {
        "id": "8Yscu0NtMmRM"
      },
      "source": [
        "## 3. Merge & Join +\n",
        "\n",
        "pandas merge의 options중 how 에는 여러가지 옵션들이 있습니다.\n",
        "\n",
        "공식 레퍼런스를 검색, 참조하여\n",
        "\n",
        "아래 코드를 바탕으로 \n",
        "\n",
        "다음과 같은 결과물을 만드는 코드를 작성하세요\n",
        "\n",
        "변수의 이름은 `df2` 입니다.\n",
        "\n",
        "|key1|key2|A|B|C|D|\n",
        "|:-:|:-:|:-:|:-:|:-:|:-:|\n",
        "|K0|K0|A0|B0|C0|D0|\n",
        "|K0|K1|A1|B1|NaN|NaN|\n",
        "|K1|K0|A2|B2|C1|D1|\n",
        "|K1|K0|A2|B2|C2|D2|\n",
        "|K2|K1|A3|B3|NaN|NaN|\n",
        "\n",
        "\n",
        "\n"
      ]
    },
    {
      "cell_type": "code",
      "metadata": {
        "id": "DlrGYjByMvn6",
        "outputId": "cdc230a4-114e-449d-9e04-96ede7c616bf",
        "colab": {
          "base_uri": "https://localhost:8080/",
          "height": 204
        }
      },
      "source": [
        "import pandas as pd\n",
        "\n",
        "left = pd.DataFrame({'key1': ['K0', 'K0', 'K1', 'K2'],\n",
        "                     'key2': ['K0', 'K1', 'K0', 'K1'],\n",
        "                     'A': ['A0', 'A1', 'A2', 'A3'],\n",
        "                     'B': ['B0', 'B1', 'B2', 'B3']})\n",
        "\n",
        "right = pd.DataFrame({'key1': ['K0', 'K1', 'K1', 'K2'],\n",
        "                      'key2': ['K0', 'K0', 'K0', 'K0'],\n",
        "                      'C': ['C0', 'C1', 'C2', 'C3'],\n",
        "                      'D': ['D0', 'D1', 'D2', 'D3']})\n",
        "\n",
        "df2 = left.merge(right, how = 'left')\n",
        "df2"
      ],
      "execution_count": 3,
      "outputs": [
        {
          "output_type": "execute_result",
          "data": {
            "text/html": [
              "<div>\n",
              "<style scoped>\n",
              "    .dataframe tbody tr th:only-of-type {\n",
              "        vertical-align: middle;\n",
              "    }\n",
              "\n",
              "    .dataframe tbody tr th {\n",
              "        vertical-align: top;\n",
              "    }\n",
              "\n",
              "    .dataframe thead th {\n",
              "        text-align: right;\n",
              "    }\n",
              "</style>\n",
              "<table border=\"1\" class=\"dataframe\">\n",
              "  <thead>\n",
              "    <tr style=\"text-align: right;\">\n",
              "      <th></th>\n",
              "      <th>key1</th>\n",
              "      <th>key2</th>\n",
              "      <th>A</th>\n",
              "      <th>B</th>\n",
              "      <th>C</th>\n",
              "      <th>D</th>\n",
              "    </tr>\n",
              "  </thead>\n",
              "  <tbody>\n",
              "    <tr>\n",
              "      <th>0</th>\n",
              "      <td>K0</td>\n",
              "      <td>K0</td>\n",
              "      <td>A0</td>\n",
              "      <td>B0</td>\n",
              "      <td>C0</td>\n",
              "      <td>D0</td>\n",
              "    </tr>\n",
              "    <tr>\n",
              "      <th>1</th>\n",
              "      <td>K0</td>\n",
              "      <td>K1</td>\n",
              "      <td>A1</td>\n",
              "      <td>B1</td>\n",
              "      <td>NaN</td>\n",
              "      <td>NaN</td>\n",
              "    </tr>\n",
              "    <tr>\n",
              "      <th>2</th>\n",
              "      <td>K1</td>\n",
              "      <td>K0</td>\n",
              "      <td>A2</td>\n",
              "      <td>B2</td>\n",
              "      <td>C1</td>\n",
              "      <td>D1</td>\n",
              "    </tr>\n",
              "    <tr>\n",
              "      <th>3</th>\n",
              "      <td>K1</td>\n",
              "      <td>K0</td>\n",
              "      <td>A2</td>\n",
              "      <td>B2</td>\n",
              "      <td>C2</td>\n",
              "      <td>D2</td>\n",
              "    </tr>\n",
              "    <tr>\n",
              "      <th>4</th>\n",
              "      <td>K2</td>\n",
              "      <td>K1</td>\n",
              "      <td>A3</td>\n",
              "      <td>B3</td>\n",
              "      <td>NaN</td>\n",
              "      <td>NaN</td>\n",
              "    </tr>\n",
              "  </tbody>\n",
              "</table>\n",
              "</div>"
            ],
            "text/plain": [
              "  key1 key2   A   B    C    D\n",
              "0   K0   K0  A0  B0   C0   D0\n",
              "1   K0   K1  A1  B1  NaN  NaN\n",
              "2   K1   K0  A2  B2   C1   D1\n",
              "3   K1   K0  A2  B2   C2   D2\n",
              "4   K2   K1  A3  B3  NaN  NaN"
            ]
          },
          "metadata": {},
          "execution_count": 3
        }
      ]
    },
    {
      "cell_type": "markdown",
      "metadata": {
        "id": "mnOuqL9K0dqh"
      },
      "source": [
        "## 🔥 도전과제"
      ]
    },
    {
      "cell_type": "markdown",
      "metadata": {
        "id": "GboSqR1qRoTO"
      },
      "source": [
        "아래 링크들을 참조하여, \n",
        "특정 테마별로 포함되어 있는 종목의 데이터를 직접 csv형태로 수집하고 (아래 적힌 3개씩)\n",
        "\n",
        "<https://finance.naver.com/sise/sise_group_detail.nhn?type=theme&no=408>\n",
        "\n",
        "<https://finance.naver.com/sise/sise_group_detail.nhn?type=theme&no=36>\n",
        "\n",
        "- 최종 분기에 해당하는 데이터\n",
        "\n",
        "- 테마별 평균 데이터를 결과물로 만드는 코드를 작성하세요.\n",
        "\n",
        "단, 모든 feature에 대해서가 아닌\n",
        "\n",
        "- 매출액\n",
        "- 자본총계\n",
        "- EPS\n",
        "\n",
        "에 대해서만 하면 됩니다.\n",
        "\n",
        "|종목명|매출액|자본총계|EPS|\n",
        "|:-:|:-:|:-:|:-:|\n",
        "|대한해운|...|...|...|...|\n",
        "|팬오션|...|...|...|...|\n",
        "|KSS해운|...|...|...|...|\n",
        "|세미콘라이트|...|...|...|...|\n",
        "|오성첨단소재|...|...|...|...|\n",
        "|에이아이비트|...|...|...|...|\n",
        "\n",
        "---\n",
        "\n",
        "|테마|매출액|자본총계|EPS|\n",
        "|:-:|:-:|:-:|:-:|\n",
        "|해운|...|...|...|\n",
        "|마리화나(대마)|...|...|...|\n",
        "\n",
        "이후 아래의 예시 처럼 seaborn을 사용하여 결과를 barplot으로 시각화하세요.\n",
        "\n",
        "단, 한글이 깨지는 에러를 여러분이 직접 고쳐야합니다."
      ]
    },
    {
      "cell_type": "code",
      "metadata": {
        "id": "B-QNMrVkYap4"
      },
      "source": [
        "# 예시\n",
        "import pandas as pd\n",
        "import seaborn as sns\n",
        "\n",
        "dat = pd.DataFrame({\n",
        "    'name' : ['해운', '대마'],\n",
        "    'value' : [10000,5000]\n",
        "})"
      ],
      "execution_count": 4,
      "outputs": []
    },
    {
      "cell_type": "code",
      "metadata": {
        "colab": {
          "base_uri": "https://localhost:8080/",
          "height": 279
        },
        "id": "gAqW4e88Uw6W",
        "outputId": "32eccf7a-febf-4457-b9f6-a2cd10881ef6"
      },
      "source": [
        "sns.barplot(x = 'name', y = 'value', data = dat);"
      ],
      "execution_count": 5,
      "outputs": [
        {
          "output_type": "display_data",
          "data": {
            "image/png": "[encoded data removed]",
            "text/plain": [
              "<Figure size 432x288 with 1 Axes>"
            ]
          },
          "metadata": {
            "needs_background": "light"
          }
        }
      ]
    },
    {
      "cell_type": "code",
      "metadata": {
        "id": "oQAQ30DkY1DA"
      },
      "source": [
        ""
      ],
      "execution_count": 5,
      "outputs": []
    }
  ]
}