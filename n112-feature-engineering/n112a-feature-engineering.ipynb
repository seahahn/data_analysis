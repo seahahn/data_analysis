{
  "nbformat": 4,
  "nbformat_minor": 0,
  "metadata": {
    "colab": {
      "name": "n112a-feature-engineering.ipynb",
      "provenance": []
    },
    "kernelspec": {
      "display_name": "Python 3",
      "language": "python",
      "name": "python3"
    },
    "language_info": {
      "codemirror_mode": {
        "name": "ipython",
        "version": 3
      },
      "file_extension": ".py",
      "mimetype": "text/x-python",
      "name": "python",
      "nbconvert_exporter": "python",
      "pygments_lexer": "ipython3",
      "version": "3.8.2"
    }
  },
  "cells": [
    {
      "cell_type": "markdown",
      "metadata": {
        "id": "SnDJqBLi0FYW"
      },
      "source": [
        "<img src='https://user-images.githubusercontent.com/6457691/89746244-a6e2a200-daf3-11ea-9314-7863d544d73c.png' width = '200' align = 'right'>\n",
        "\n",
        "## *DATA SCIENCE / SECTION 1 / SPRINT 1 / NOTE 2*\n",
        "\n",
        "# 📝 Assignment\n"
      ]
    },
    {
      "cell_type": "markdown",
      "metadata": {
        "id": "W5GjI1z5yNG4"
      },
      "source": [
        "## 1. Feature Engineering\n",
        "\n",
        "- `KT&G` 기업 데이터를 계속 사용합니다.\n",
        "  - 변수 이름은 `df`로 저장하세요.\n",
        "\n",
        "- 각 분기별 영업이익률을 직접 계산해보세요. \n",
        "  - Feature 이름은 `영업이익률2` 입니다.\n",
        "\n",
        "- 아래 데이터를 참조하여 18/19년도에 대해서 Price to Dream Ratio (PDR)을 계산하세요.\n",
        "  - 변수 이름은 `df2`, feature 이름은 `PDR`로, `df2['PDR']`을 통해 `~` 값이 확인 되어야합니다. 아래의 전제조건을 활용하세요.\n",
        "  - 점유율 (일반담배 기준) \n",
        "    - 18년 : 62%\n",
        "    - 19년 : 63.5% \n",
        "  - 시장의 규모 \n",
        "     - 18년 : 15조 \n",
        "     - 19년 : 15조\n",
        "\n",
        "||구분|종가|발행주식수|시가총액|시장점유율|PDR|\n",
        "|:-:|:-:|:-:|:-:|:-:|:-:|:-:|\n",
        "|0|18년|101500|137292497|13935188445500|62.0|~|\n",
        "|1|19년|93800|137292497|12878036218600|63.5|~|\n"
      ]
    },
    {
      "cell_type": "code",
      "metadata": {
        "id": "AazB4eFwym2p",
        "outputId": "0d6c0140-a239-4635-b303-d541887951c6",
        "colab": {
          "base_uri": "https://localhost:8080/",
          "height": 343
        }
      },
      "source": [
        "import pandas as pd\n",
        "import datetime as dt\n",
        "\n",
        "url = 'https://ds-lecture-data.s3.ap-northeast-2.amazonaws.com/kt%26g/kt%26g_0.csv'\n",
        "headers = ['분기', '매출액', '영업이익', '영업이익(발표기준)', '세전계속사업이익',\n",
        "           '당기순이익', '당기순이익(지배)', '당기순이익(비지배)', '자산총계', '부채총계',\n",
        "           '자본총계', '자본총계(지배)', '자본총계(비지배)', '자본금', '영업활동현금흐름',\n",
        "           '투자활동현금흐름', '재무활동현금흐름', '영업이익률', '순이익률', 'ROE(%)',\n",
        "           'ROA(%)', '부채비율', '자본유보율', 'EPS(원)', 'PER(배)']\n",
        "\n",
        "df = pd.read_csv(url, header=None)\n",
        "df.columns = headers\n",
        "\n",
        "df.dtypes\n",
        "# 매출액 object, 영업이익 object이므로 int로 형변환\n",
        "def toInt(string):\n",
        "  return int(string.replace(',', ''))\n",
        "\n",
        "# 영업이익률 = (영업이익/매출액) * 100\n",
        "df['영업이익률2'] = (df['영업이익'].apply(toInt) / df['매출액'].apply(toInt)) * 100\n",
        "df"
      ],
      "execution_count": 1,
      "outputs": [
        {
          "output_type": "execute_result",
          "data": {
            "text/html": [
              "<div>\n",
              "<style scoped>\n",
              "    .dataframe tbody tr th:only-of-type {\n",
              "        vertical-align: middle;\n",
              "    }\n",
              "\n",
              "    .dataframe tbody tr th {\n",
              "        vertical-align: top;\n",
              "    }\n",
              "\n",
              "    .dataframe thead th {\n",
              "        text-align: right;\n",
              "    }\n",
              "</style>\n",
              "<table border=\"1\" class=\"dataframe\">\n",
              "  <thead>\n",
              "    <tr style=\"text-align: right;\">\n",
              "      <th></th>\n",
              "      <th>분기</th>\n",
              "      <th>매출액</th>\n",
              "      <th>영업이익</th>\n",
              "      <th>영업이익(발표기준)</th>\n",
              "      <th>세전계속사업이익</th>\n",
              "      <th>당기순이익</th>\n",
              "      <th>당기순이익(지배)</th>\n",
              "      <th>당기순이익(비지배)</th>\n",
              "      <th>자산총계</th>\n",
              "      <th>부채총계</th>\n",
              "      <th>자본총계</th>\n",
              "      <th>자본총계(지배)</th>\n",
              "      <th>자본총계(비지배)</th>\n",
              "      <th>자본금</th>\n",
              "      <th>영업활동현금흐름</th>\n",
              "      <th>투자활동현금흐름</th>\n",
              "      <th>재무활동현금흐름</th>\n",
              "      <th>영업이익률</th>\n",
              "      <th>순이익률</th>\n",
              "      <th>ROE(%)</th>\n",
              "      <th>ROA(%)</th>\n",
              "      <th>부채비율</th>\n",
              "      <th>자본유보율</th>\n",
              "      <th>EPS(원)</th>\n",
              "      <th>PER(배)</th>\n",
              "      <th>영업이익률2</th>\n",
              "    </tr>\n",
              "  </thead>\n",
              "  <tbody>\n",
              "    <tr>\n",
              "      <th>0</th>\n",
              "      <td>19/6</td>\n",
              "      <td>12,578</td>\n",
              "      <td>3,991</td>\n",
              "      <td>3,991</td>\n",
              "      <td>4,452</td>\n",
              "      <td>3,245</td>\n",
              "      <td>3,228</td>\n",
              "      <td>17</td>\n",
              "      <td>108,464</td>\n",
              "      <td>25,940</td>\n",
              "      <td>82,524</td>\n",
              "      <td>81,965</td>\n",
              "      <td>NaN</td>\n",
              "      <td>9,550</td>\n",
              "      <td>4,641</td>\n",
              "      <td>-1,878</td>\n",
              "      <td>-4,919</td>\n",
              "      <td>31.73</td>\n",
              "      <td>25.80</td>\n",
              "      <td>12.35</td>\n",
              "      <td>9.37</td>\n",
              "      <td>31.43</td>\n",
              "      <td>803.22</td>\n",
              "      <td>2,351</td>\n",
              "      <td>13.77</td>\n",
              "      <td>31.730005</td>\n",
              "    </tr>\n",
              "    <tr>\n",
              "      <th>1</th>\n",
              "      <td>19/9</td>\n",
              "      <td>13,222</td>\n",
              "      <td>3,825</td>\n",
              "      <td>3,825</td>\n",
              "      <td>4,503</td>\n",
              "      <td>3,221</td>\n",
              "      <td>3,208</td>\n",
              "      <td>13</td>\n",
              "      <td>106,314</td>\n",
              "      <td>20,691</td>\n",
              "      <td>85,623</td>\n",
              "      <td>85,049</td>\n",
              "      <td>NaN</td>\n",
              "      <td>9,550</td>\n",
              "      <td>-2,278</td>\n",
              "      <td>-83</td>\n",
              "      <td>-329</td>\n",
              "      <td>28.93</td>\n",
              "      <td>24.36</td>\n",
              "      <td>12.67</td>\n",
              "      <td>9.95</td>\n",
              "      <td>24.17</td>\n",
              "      <td>836.86</td>\n",
              "      <td>2,337</td>\n",
              "      <td>13.87</td>\n",
              "      <td>28.929058</td>\n",
              "    </tr>\n",
              "    <tr>\n",
              "      <th>2</th>\n",
              "      <td>19/12</td>\n",
              "      <td>11,982</td>\n",
              "      <td>2,523</td>\n",
              "      <td>2,523</td>\n",
              "      <td>1,794</td>\n",
              "      <td>1,183</td>\n",
              "      <td>1,198</td>\n",
              "      <td>-15</td>\n",
              "      <td>107,121</td>\n",
              "      <td>20,062</td>\n",
              "      <td>87,059</td>\n",
              "      <td>86,506</td>\n",
              "      <td>NaN</td>\n",
              "      <td>9,550</td>\n",
              "      <td>837</td>\n",
              "      <td>-501</td>\n",
              "      <td>-129</td>\n",
              "      <td>21.06</td>\n",
              "      <td>9.87</td>\n",
              "      <td>12.39</td>\n",
              "      <td>9.96</td>\n",
              "      <td>23.04</td>\n",
              "      <td>850.82</td>\n",
              "      <td>873</td>\n",
              "      <td>12.42</td>\n",
              "      <td>21.056585</td>\n",
              "    </tr>\n",
              "    <tr>\n",
              "      <th>3</th>\n",
              "      <td>20/3</td>\n",
              "      <td>11,784</td>\n",
              "      <td>3,150</td>\n",
              "      <td>3,150</td>\n",
              "      <td>4,156</td>\n",
              "      <td>2,939</td>\n",
              "      <td>2,930</td>\n",
              "      <td>9</td>\n",
              "      <td>108,594</td>\n",
              "      <td>24,862</td>\n",
              "      <td>83,732</td>\n",
              "      <td>83,170</td>\n",
              "      <td>562.0</td>\n",
              "      <td>9,550</td>\n",
              "      <td>2,336</td>\n",
              "      <td>-1,392</td>\n",
              "      <td>-86</td>\n",
              "      <td>26.73</td>\n",
              "      <td>24.94</td>\n",
              "      <td>13.05</td>\n",
              "      <td>9.79</td>\n",
              "      <td>29.69</td>\n",
              "      <td>823.16</td>\n",
              "      <td>2,134</td>\n",
              "      <td>9.71</td>\n",
              "      <td>26.731161</td>\n",
              "    </tr>\n",
              "    <tr>\n",
              "      <th>4</th>\n",
              "      <td>20/6</td>\n",
              "      <td>13,188</td>\n",
              "      <td>3,947</td>\n",
              "      <td>3,947</td>\n",
              "      <td>4,020</td>\n",
              "      <td>2,935</td>\n",
              "      <td>2,931</td>\n",
              "      <td>4</td>\n",
              "      <td>110,282</td>\n",
              "      <td>23,386</td>\n",
              "      <td>86,896</td>\n",
              "      <td>86,330</td>\n",
              "      <td>566.0</td>\n",
              "      <td>9,550</td>\n",
              "      <td>7,855</td>\n",
              "      <td>-214</td>\n",
              "      <td>-5,501</td>\n",
              "      <td>29.93</td>\n",
              "      <td>22.25</td>\n",
              "      <td>12.20</td>\n",
              "      <td>9.40</td>\n",
              "      <td>26.91</td>\n",
              "      <td>837.40</td>\n",
              "      <td>2,135</td>\n",
              "      <td>10.46</td>\n",
              "      <td>29.928723</td>\n",
              "    </tr>\n",
              "  </tbody>\n",
              "</table>\n",
              "</div>"
            ],
            "text/plain": [
              "      분기     매출액   영업이익 영업이익(발표기준)  ...   자본유보율 EPS(원) PER(배)     영업이익률2\n",
              "0   19/6  12,578  3,991      3,991  ...  803.22  2,351  13.77  31.730005\n",
              "1   19/9  13,222  3,825      3,825  ...  836.86  2,337  13.87  28.929058\n",
              "2  19/12  11,982  2,523      2,523  ...  850.82    873  12.42  21.056585\n",
              "3   20/3  11,784  3,150      3,150  ...  823.16  2,134   9.71  26.731161\n",
              "4   20/6  13,188  3,947      3,947  ...  837.40  2,135  10.46  29.928723\n",
              "\n",
              "[5 rows x 26 columns]"
            ]
          },
          "metadata": {},
          "execution_count": 1
        }
      ]
    },
    {
      "cell_type": "code",
      "metadata": {
        "id": "82hbPCeecetD"
      },
      "source": [
        ""
      ],
      "execution_count": 1,
      "outputs": []
    },
    {
      "cell_type": "code",
      "metadata": {
        "id": "QeWg_Bp_GKt_",
        "outputId": "91f00c63-1393-4696-e7b8-cc1112472e4b",
        "colab": {
          "base_uri": "https://localhost:8080/",
          "height": 111
        }
      },
      "source": [
        "headers = ['구분', '종가', '발행주식수', '시가총액', '시장점유율']\n",
        "data = [['18년', 101500, 137292497, 13935188445500, 62.0],\n",
        "        ['19년', 93800, 137292497, 12878036218600, 63.5]]\n",
        "\n",
        "df2 = pd.DataFrame(data)\n",
        "df2.columns = headers\n",
        "\n",
        "# PDR = (시가총액 / (시장규모 * 점유율)) * 100\n",
        "tam = 15000000000000\n",
        "df2['PDR'] = (df2['시가총액'] / (tam * df2['시장점유율']/100)) * 100\n",
        "df2"
      ],
      "execution_count": 2,
      "outputs": [
        {
          "output_type": "execute_result",
          "data": {
            "text/html": [
              "<div>\n",
              "<style scoped>\n",
              "    .dataframe tbody tr th:only-of-type {\n",
              "        vertical-align: middle;\n",
              "    }\n",
              "\n",
              "    .dataframe tbody tr th {\n",
              "        vertical-align: top;\n",
              "    }\n",
              "\n",
              "    .dataframe thead th {\n",
              "        text-align: right;\n",
              "    }\n",
              "</style>\n",
              "<table border=\"1\" class=\"dataframe\">\n",
              "  <thead>\n",
              "    <tr style=\"text-align: right;\">\n",
              "      <th></th>\n",
              "      <th>구분</th>\n",
              "      <th>종가</th>\n",
              "      <th>발행주식수</th>\n",
              "      <th>시가총액</th>\n",
              "      <th>시장점유율</th>\n",
              "      <th>PDR</th>\n",
              "    </tr>\n",
              "  </thead>\n",
              "  <tbody>\n",
              "    <tr>\n",
              "      <th>0</th>\n",
              "      <td>18년</td>\n",
              "      <td>101500</td>\n",
              "      <td>137292497</td>\n",
              "      <td>13935188445500</td>\n",
              "      <td>62.0</td>\n",
              "      <td>149.840736</td>\n",
              "    </tr>\n",
              "    <tr>\n",
              "      <th>1</th>\n",
              "      <td>19년</td>\n",
              "      <td>93800</td>\n",
              "      <td>137292497</td>\n",
              "      <td>12878036218600</td>\n",
              "      <td>63.5</td>\n",
              "      <td>135.202480</td>\n",
              "    </tr>\n",
              "  </tbody>\n",
              "</table>\n",
              "</div>"
            ],
            "text/plain": [
              "    구분      종가      발행주식수            시가총액  시장점유율         PDR\n",
              "0  18년  101500  137292497  13935188445500   62.0  149.840736\n",
              "1  19년   93800  137292497  12878036218600   63.5  135.202480"
            ]
          },
          "metadata": {},
          "execution_count": 2
        }
      ]
    },
    {
      "cell_type": "markdown",
      "metadata": {
        "id": "XBtwwrzAnKzk"
      },
      "source": [
        "## 2. String Manipulation\n",
        "\n",
        "- replace가 아닌 다른 방법을 사용하여 19년도 2분기의 매출액 을 integer로 변경하세요. 결과값은 12578이 나와야합니다.\n",
        "  \n"
      ]
    },
    {
      "cell_type": "code",
      "metadata": {
        "id": "9-sR5inqnM0L",
        "outputId": "6ad3180b-b391-4766-87e5-a4e04d5755b2",
        "colab": {
          "base_uri": "https://localhost:8080/"
        }
      },
      "source": [
        "import re\n",
        "\n",
        "def comma_num_to_int(text):\n",
        "  if str(type(text)) == \"<class 'str'>\":\n",
        "    print('in')\n",
        "    n = re.sub(\",\", \"\", text)\n",
        "    return int(n)\n",
        "  else:\n",
        "    print('not in')\n",
        "    print(type(text))\n",
        "    return text\n",
        "\n",
        "target = df.index[(df['분기'] == '19/6')]\n",
        "df['매출액'][target[0]] = comma_num_to_int(df.loc[target[0]]['매출액'])\n",
        "df['매출액'][target[0]]"
      ],
      "execution_count": 3,
      "outputs": [
        {
          "output_type": "stream",
          "name": "stdout",
          "text": [
            "in\n"
          ]
        },
        {
          "output_type": "stream",
          "name": "stderr",
          "text": [
            "/usr/local/lib/python3.7/dist-packages/ipykernel_launcher.py:14: SettingWithCopyWarning: \n",
            "A value is trying to be set on a copy of a slice from a DataFrame\n",
            "\n",
            "See the caveats in the documentation: https://pandas.pydata.org/pandas-docs/stable/user_guide/indexing.html#returning-a-view-versus-a-copy\n",
            "  \n"
          ]
        },
        {
          "output_type": "execute_result",
          "data": {
            "text/plain": [
              "12578"
            ]
          },
          "metadata": {},
          "execution_count": 3
        }
      ]
    },
    {
      "cell_type": "markdown",
      "metadata": {
        "id": "357MIyg6nNWj"
      },
      "source": [
        "## 3. Apply\n",
        "- 데이터셋의 분기를 제외한 모든 feature에 대해서 수치형 데이터 (`int`, `float`) 로 수정하고, `describe`를 통해 summary statistics 를 확인하세요.\n",
        "- 단 결측치는 `0`으로 처리합니다."
      ]
    },
    {
      "cell_type": "code",
      "metadata": {
        "id": "Sp93h2pvFs7P",
        "outputId": "9dc5cff6-d81f-4103-cac0-6e0d1fcb7997",
        "colab": {
          "base_uri": "https://localhost:8080/"
        }
      },
      "source": [
        "import copy\n",
        "\n",
        "# 각 컬럼별 타입 확인\n",
        "df.dtypes\n",
        "\n",
        "# 결측치 처리\n",
        "df.isna()\n",
        "df.fillna(0)\n",
        "\n",
        "for column in df.columns:\n",
        "  if(df)\n",
        "  print(column)\n",
        "\n"
      ],
      "execution_count": 13,
      "outputs": [
        {
          "output_type": "stream",
          "name": "stdout",
          "text": [
            "분기\n",
            "매출액\n",
            "영업이익\n",
            "영업이익(발표기준)\n",
            "세전계속사업이익\n",
            "당기순이익\n",
            "당기순이익(지배)\n",
            "당기순이익(비지배)\n",
            "자산총계\n",
            "부채총계\n",
            "자본총계\n",
            "자본총계(지배)\n",
            "자본총계(비지배)\n",
            "자본금\n",
            "영업활동현금흐름\n",
            "투자활동현금흐름\n",
            "재무활동현금흐름\n",
            "영업이익률\n",
            "순이익률\n",
            "ROE(%)\n",
            "ROA(%)\n",
            "부채비율\n",
            "자본유보율\n",
            "EPS(원)\n",
            "PER(배)\n",
            "영업이익률2\n"
          ]
        }
      ]
    },
    {
      "cell_type": "markdown",
      "metadata": {
        "id": "L8k0LiHmo5EU"
      },
      "source": [
        "## 🔥 도전과제\n",
        "\n"
      ]
    },
    {
      "cell_type": "markdown",
      "metadata": {
        "id": "sm0x-1HEoss0"
      },
      "source": [
        "### NA Value Handling\n",
        "\n",
        "- 19년도 4분기의 당기순이익(비지배) 부분을 Na로 대체하세요\n",
        "- 이후 해당 결측치를 mean imputation 방법을 사용하여 처리하세요.\n",
        "\n"
      ]
    },
    {
      "cell_type": "code",
      "metadata": {
        "id": "B2GsUS0HosSD"
      },
      "source": [
        "# 이 곳에 답안을 작성하시길 바랍니다"
      ],
      "execution_count": null,
      "outputs": []
    },
    {
      "cell_type": "markdown",
      "metadata": {
        "id": "x8gq5wkdotTj"
      },
      "source": [
        "### Feature Engineering\n",
        "\n",
        "Relative Perfomance 라는 새로운 feature를 계산하세요.\n",
        "\n",
        "이는 최근 1년치 매출액의 평균값을 기준으로 \n",
        "\n",
        "- 10% 이상 -> `S`\n",
        "- 5% 이상 -> `A`\n",
        "- -5 ~ 5% -> `B`\n",
        "- -5%이하 -> `C`\n",
        "- 10%이하 -> `D`\n",
        "\n",
        "라는 값을 갖는 feature입니다.\n",
        "\n",
        "20년도 2분기에 해당하는 결과값은 `A`가 나와야합니다.\n",
        "\n",
        "각각에 해당하는 등급이 나오기 위해서 필요한 매출액을 추가로 서술하세요."
      ]
    },
    {
      "cell_type": "code",
      "metadata": {
        "id": "JqoaRyQjpaRm"
      },
      "source": [
        "# 이 곳에 답안을 작성하시길 바랍니다"
      ],
      "execution_count": null,
      "outputs": []
    }
  ]
}