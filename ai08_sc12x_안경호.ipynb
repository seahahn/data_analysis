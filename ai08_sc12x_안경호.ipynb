{
  "nbformat": 4,
  "nbformat_minor": 5,
  "metadata": {
    "kernelspec": {
      "display_name": "Python 3",
      "language": "python",
      "name": "python3"
    },
    "language_info": {
      "codemirror_mode": {
        "name": "ipython",
        "version": 3
      },
      "file_extension": ".py",
      "mimetype": "text/x-python",
      "name": "python",
      "nbconvert_exporter": "python",
      "pygments_lexer": "ipython3",
      "version": "3.8.2"
    },
    "colab": {
      "name": "ai08_sc12x_안경호.ipynb",
      "provenance": [],
      "collapsed_sections": []
    }
  },
  "cells": [
    {
      "cell_type": "markdown",
      "metadata": {
        "id": "c39839c2-240a-4ae6-b73b-40a7eefae393"
      },
      "source": [
        "# SC12x\n",
        "\n",
        "## 데이터 탐색 및 가설 검정\n",
        "\n",
        "이번 SC 에서 여러분은 가상의 마케팅 데이터를 활용한 통계 분석을 진행하시게 됩니다. \n",
        "\n",
        "## 데이터셋 정보 :   \n",
        "이 데이터셋은 알뜰 구매를 도와주는 XYZ사의 마케팅 정보를 다룹니다. 개인 정보는 보호를 위해 제거 되어 있습니다.\n",
        "\n",
        "**Attribute Information:**\n",
        "> 2,240 customers of XYZ company:\n",
        "\n",
        "- ID - 고객의 고유값\n",
        "- Year_Birth - 고객의 출생연도\n",
        "- Education - 고객의 최종학력\n",
        "- Marital_Status - 고객의 혼인여부\n",
        "- Income - 고객의 연간 수입\n",
        "- Kidhome - 자녀가 미취학아동인지 여부 (1 - yes, 0 - no)\n",
        "- Teenhome - 자녀가 10대 청소년인지 여부 (1 - yes, 0 - no)\n",
        "- Dt_Customer - 서비스 가입 시기\n",
        "- Recency - 마지막 구매 시기 (일)\n",
        "- MntWines - 최근 2년간 구매한 와인 구매 총액\n",
        "- MntFruits- 최근 2년간 구매한 과일 구매 총액\n",
        "- MntMeatProducts - 최근 2년간 구매한 정육 구매 총액\n",
        "- MntFishProducts - 최근 2년간 구매한 어류 구매 총액\n",
        "- MntSweetProducts - 최근 2년간 구매한 과자 구매 총액\n",
        "- MntGoldProds - 최근 2년간 구매한 황금 구매 총액\n",
        "- NumDealsPurchases - 할인을 통해 제품을 구매한 횟수\n",
        "- NumWebPurchases - 회사의 웹사이트를 통해 구매한 횟수\n",
        "- NumStorePurchases - 가게에서 직접 구매한 횟수\n",
        "- NumWebVisitsMonth - 회사의 웹사이트를 방문한 횟수\n",
        "- Complain - 고객의 최근 2년간 회사에 대한 클레임 여부 (1 - yes, 0 - no)\n",
        "- Country - 고객의 국적"
      ],
      "id": "c39839c2-240a-4ae6-b73b-40a7eefae393"
    },
    {
      "cell_type": "markdown",
      "metadata": {
        "id": "980a3d4b-3c4f-4b0b-bccb-304550e6651d"
      },
      "source": [
        "## Part 1 - 데이터 불러오기"
      ],
      "id": "980a3d4b-3c4f-4b0b-bccb-304550e6651d"
    },
    {
      "cell_type": "markdown",
      "metadata": {
        "id": "3ae7e642-06e6-474c-b7b1-5894f303cab0"
      },
      "source": [
        "### 1) 데이터셋을 업로드합니다"
      ],
      "id": "3ae7e642-06e6-474c-b7b1-5894f303cab0"
    },
    {
      "cell_type": "code",
      "metadata": {
        "id": "a80eed92-08da-47d1-b5d8-106ab899bd41"
      },
      "source": [
        "# 1차\n",
        "# from google.colab import files\n",
        "\n",
        "# uploaded = files.upload()"
      ],
      "id": "a80eed92-08da-47d1-b5d8-106ab899bd41",
      "execution_count": 1,
      "outputs": []
    },
    {
      "cell_type": "code",
      "metadata": {
        "id": "53yfPWaPgqk3"
      },
      "source": [
        "# 2차\n",
        "data_url = 'https://docs.google.com/uc?export=download&id=1tLxd_JW-XNs9KidARE9oBXjqo998D1yM'"
      ],
      "id": "53yfPWaPgqk3",
      "execution_count": 2,
      "outputs": []
    },
    {
      "cell_type": "markdown",
      "metadata": {
        "id": "3fd217d1-44f8-4d1b-9dfb-2256256c0329"
      },
      "source": [
        "### 2) 결측치가 있는지 확인한 후 있다면 제거하세요"
      ],
      "id": "3fd217d1-44f8-4d1b-9dfb-2256256c0329"
    },
    {
      "cell_type": "code",
      "metadata": {
        "id": "604bd686-b49f-4a5e-bd2d-22230cec7380"
      },
      "source": [
        "import pandas as pd\n",
        "import numpy as np\n",
        "from scipy import stats\n",
        "from scipy.stats import t\n",
        "import matplotlib.pyplot as plt\n",
        "import seaborn as sns"
      ],
      "id": "604bd686-b49f-4a5e-bd2d-22230cec7380",
      "execution_count": 3,
      "outputs": []
    },
    {
      "cell_type": "code",
      "metadata": {
        "colab": {
          "base_uri": "https://localhost:8080/"
        },
        "id": "pfNqE--LkIJP",
        "outputId": "4fba2805-2e21-4214-bbed-478de60aa64d"
      },
      "source": [
        "# df = pd.read_csv('./sc12x_dataset.csv', encoding='cp949')\n",
        "df = pd.read_csv(data_url, encoding='cp949')\n",
        "df.isna().sum()"
      ],
      "id": "pfNqE--LkIJP",
      "execution_count": 4,
      "outputs": [
        {
          "output_type": "execute_result",
          "data": {
            "text/plain": [
              "Unnamed: 0            0\n",
              "ID                    0\n",
              "Year_Birth            0\n",
              "Country               0\n",
              "Education             0\n",
              "Marital_Status        0\n",
              " Income              24\n",
              "Kidhome               0\n",
              "Teenhome              0\n",
              "Dt_Customer           0\n",
              "Recency               0\n",
              "MntWines              0\n",
              "MntFruits             0\n",
              "MntMeatProducts       0\n",
              "MntFishProducts       0\n",
              "MntSweetProducts      0\n",
              "MntGoldProds          0\n",
              "NumDealsPurchases     0\n",
              "NumWebPurchases       0\n",
              "NumStorePurchases     0\n",
              "NumWebVisitsMonth     0\n",
              "Complain              0\n",
              "dtype: int64"
            ]
          },
          "metadata": {},
          "execution_count": 4
        }
      ]
    },
    {
      "cell_type": "code",
      "metadata": {
        "colab": {
          "base_uri": "https://localhost:8080/"
        },
        "id": "oRYSk_n38N1n",
        "outputId": "dafaca60-87ff-495c-90f1-6b969c11b8bf"
      },
      "source": [
        "df.dropna(inplace=True)\n",
        "df.isna().sum()"
      ],
      "id": "oRYSk_n38N1n",
      "execution_count": 5,
      "outputs": [
        {
          "output_type": "execute_result",
          "data": {
            "text/plain": [
              "Unnamed: 0           0\n",
              "ID                   0\n",
              "Year_Birth           0\n",
              "Country              0\n",
              "Education            0\n",
              "Marital_Status       0\n",
              " Income              0\n",
              "Kidhome              0\n",
              "Teenhome             0\n",
              "Dt_Customer          0\n",
              "Recency              0\n",
              "MntWines             0\n",
              "MntFruits            0\n",
              "MntMeatProducts      0\n",
              "MntFishProducts      0\n",
              "MntSweetProducts     0\n",
              "MntGoldProds         0\n",
              "NumDealsPurchases    0\n",
              "NumWebPurchases      0\n",
              "NumStorePurchases    0\n",
              "NumWebVisitsMonth    0\n",
              "Complain             0\n",
              "dtype: int64"
            ]
          },
          "metadata": {},
          "execution_count": 5
        }
      ]
    },
    {
      "cell_type": "markdown",
      "metadata": {
        "id": "b5affff0-6353-4176-811e-0a167ea2678c"
      },
      "source": [
        "### 3) 아래의 특성들을 만드세요\n",
        "\n",
        "1. **TotalMntProducts** - 최근 2년간 구매한 모든 제품 가격들을 합한 값을 가진 계산한 특성입니다\n",
        "\n",
        "2. **TotalNumPurchases** - 구매횟수를 모두 합친 값을 가진 특성입니다\n",
        "\n",
        "3. **DaysSinceJoined** - 오늘 날짜를 기준으로 가입한 기간을 보여주는 특성입니다 \n",
        "\n",
        "4. **VIP** - 누적 구매 금액이 $2,000 이상을 넘고, 오늘을 기준으로 가입기간이 5년 이상이 된다면 1, 아니면 0의 값을 가진 칼럼을 만듭니다"
      ],
      "id": "b5affff0-6353-4176-811e-0a167ea2678c"
    },
    {
      "cell_type": "code",
      "metadata": {
        "colab": {
          "base_uri": "https://localhost:8080/",
          "height": 240
        },
        "id": "551941f2-27a1-4192-a3f8-b24fa0607862",
        "outputId": "ca80b104-525f-446e-9fe2-328cb8b78ca3"
      },
      "source": [
        "from datetime import datetime\n",
        "\n",
        "mnt_list = list(df.loc[:, 'MntWines':'MntGoldProds'])\n",
        "num_list = list(df.loc[:, 'NumDealsPurchases':'NumStorePurchases'])\n",
        "df['TotalMntProducts'] = df.loc[:, mnt_list].sum(axis=1)\n",
        "df['TotalNumPurchases'] = df.loc[:, num_list].sum(axis=1)\n",
        "df['DaysSinceJoined'] = (datetime.now() - pd.to_datetime(df['Dt_Customer'])).dt.days\n",
        "df['VIP'] = np.where((df['TotalMntProducts'] >= 2000) & (df['DaysSinceJoined'] >= 365*5), 1, 0)\n",
        "\n",
        "df.head()"
      ],
      "id": "551941f2-27a1-4192-a3f8-b24fa0607862",
      "execution_count": 6,
      "outputs": [
        {
          "output_type": "execute_result",
          "data": {
            "text/html": [
              "<div>\n",
              "<style scoped>\n",
              "    .dataframe tbody tr th:only-of-type {\n",
              "        vertical-align: middle;\n",
              "    }\n",
              "\n",
              "    .dataframe tbody tr th {\n",
              "        vertical-align: top;\n",
              "    }\n",
              "\n",
              "    .dataframe thead th {\n",
              "        text-align: right;\n",
              "    }\n",
              "</style>\n",
              "<table border=\"1\" class=\"dataframe\">\n",
              "  <thead>\n",
              "    <tr style=\"text-align: right;\">\n",
              "      <th></th>\n",
              "      <th>Unnamed: 0</th>\n",
              "      <th>ID</th>\n",
              "      <th>Year_Birth</th>\n",
              "      <th>Country</th>\n",
              "      <th>Education</th>\n",
              "      <th>Marital_Status</th>\n",
              "      <th>Income</th>\n",
              "      <th>Kidhome</th>\n",
              "      <th>Teenhome</th>\n",
              "      <th>Dt_Customer</th>\n",
              "      <th>Recency</th>\n",
              "      <th>MntWines</th>\n",
              "      <th>MntFruits</th>\n",
              "      <th>MntMeatProducts</th>\n",
              "      <th>MntFishProducts</th>\n",
              "      <th>MntSweetProducts</th>\n",
              "      <th>MntGoldProds</th>\n",
              "      <th>NumDealsPurchases</th>\n",
              "      <th>NumWebPurchases</th>\n",
              "      <th>NumStorePurchases</th>\n",
              "      <th>NumWebVisitsMonth</th>\n",
              "      <th>Complain</th>\n",
              "      <th>TotalMntProducts</th>\n",
              "      <th>TotalNumPurchases</th>\n",
              "      <th>DaysSinceJoined</th>\n",
              "      <th>VIP</th>\n",
              "    </tr>\n",
              "  </thead>\n",
              "  <tbody>\n",
              "    <tr>\n",
              "      <th>0</th>\n",
              "      <td>0</td>\n",
              "      <td>1826</td>\n",
              "      <td>1970</td>\n",
              "      <td>SP</td>\n",
              "      <td>Graduation</td>\n",
              "      <td>Divorced</td>\n",
              "      <td>$84,835.00</td>\n",
              "      <td>0</td>\n",
              "      <td>0</td>\n",
              "      <td>6/16/14</td>\n",
              "      <td>0</td>\n",
              "      <td>189</td>\n",
              "      <td>104</td>\n",
              "      <td>379</td>\n",
              "      <td>111</td>\n",
              "      <td>189</td>\n",
              "      <td>218</td>\n",
              "      <td>1</td>\n",
              "      <td>4</td>\n",
              "      <td>6</td>\n",
              "      <td>1</td>\n",
              "      <td>0</td>\n",
              "      <td>1190</td>\n",
              "      <td>11</td>\n",
              "      <td>2677</td>\n",
              "      <td>0</td>\n",
              "    </tr>\n",
              "    <tr>\n",
              "      <th>1</th>\n",
              "      <td>1</td>\n",
              "      <td>1</td>\n",
              "      <td>1961</td>\n",
              "      <td>CA</td>\n",
              "      <td>Graduation</td>\n",
              "      <td>Single</td>\n",
              "      <td>$57,091.00</td>\n",
              "      <td>0</td>\n",
              "      <td>0</td>\n",
              "      <td>6/15/14</td>\n",
              "      <td>0</td>\n",
              "      <td>464</td>\n",
              "      <td>5</td>\n",
              "      <td>64</td>\n",
              "      <td>7</td>\n",
              "      <td>0</td>\n",
              "      <td>37</td>\n",
              "      <td>1</td>\n",
              "      <td>7</td>\n",
              "      <td>7</td>\n",
              "      <td>5</td>\n",
              "      <td>0</td>\n",
              "      <td>577</td>\n",
              "      <td>15</td>\n",
              "      <td>2678</td>\n",
              "      <td>0</td>\n",
              "    </tr>\n",
              "    <tr>\n",
              "      <th>2</th>\n",
              "      <td>2</td>\n",
              "      <td>10476</td>\n",
              "      <td>1958</td>\n",
              "      <td>US</td>\n",
              "      <td>Graduation</td>\n",
              "      <td>Married</td>\n",
              "      <td>$67,267.00</td>\n",
              "      <td>0</td>\n",
              "      <td>1</td>\n",
              "      <td>5/13/14</td>\n",
              "      <td>0</td>\n",
              "      <td>134</td>\n",
              "      <td>11</td>\n",
              "      <td>59</td>\n",
              "      <td>15</td>\n",
              "      <td>2</td>\n",
              "      <td>30</td>\n",
              "      <td>1</td>\n",
              "      <td>3</td>\n",
              "      <td>5</td>\n",
              "      <td>2</td>\n",
              "      <td>0</td>\n",
              "      <td>251</td>\n",
              "      <td>9</td>\n",
              "      <td>2711</td>\n",
              "      <td>0</td>\n",
              "    </tr>\n",
              "    <tr>\n",
              "      <th>3</th>\n",
              "      <td>3</td>\n",
              "      <td>1386</td>\n",
              "      <td>1967</td>\n",
              "      <td>AUS</td>\n",
              "      <td>Graduation</td>\n",
              "      <td>Together</td>\n",
              "      <td>$32,474.00</td>\n",
              "      <td>1</td>\n",
              "      <td>1</td>\n",
              "      <td>5/11/14</td>\n",
              "      <td>0</td>\n",
              "      <td>10</td>\n",
              "      <td>0</td>\n",
              "      <td>1</td>\n",
              "      <td>0</td>\n",
              "      <td>0</td>\n",
              "      <td>0</td>\n",
              "      <td>1</td>\n",
              "      <td>1</td>\n",
              "      <td>2</td>\n",
              "      <td>7</td>\n",
              "      <td>0</td>\n",
              "      <td>11</td>\n",
              "      <td>4</td>\n",
              "      <td>2713</td>\n",
              "      <td>0</td>\n",
              "    </tr>\n",
              "    <tr>\n",
              "      <th>4</th>\n",
              "      <td>4</td>\n",
              "      <td>5371</td>\n",
              "      <td>1989</td>\n",
              "      <td>SP</td>\n",
              "      <td>Graduation</td>\n",
              "      <td>Single</td>\n",
              "      <td>$21,474.00</td>\n",
              "      <td>1</td>\n",
              "      <td>0</td>\n",
              "      <td>4/8/14</td>\n",
              "      <td>0</td>\n",
              "      <td>6</td>\n",
              "      <td>16</td>\n",
              "      <td>24</td>\n",
              "      <td>11</td>\n",
              "      <td>0</td>\n",
              "      <td>34</td>\n",
              "      <td>2</td>\n",
              "      <td>3</td>\n",
              "      <td>2</td>\n",
              "      <td>7</td>\n",
              "      <td>0</td>\n",
              "      <td>91</td>\n",
              "      <td>7</td>\n",
              "      <td>2746</td>\n",
              "      <td>0</td>\n",
              "    </tr>\n",
              "  </tbody>\n",
              "</table>\n",
              "</div>"
            ],
            "text/plain": [
              "   Unnamed: 0     ID  Year_Birth  ... TotalNumPurchases DaysSinceJoined VIP\n",
              "0           0   1826        1970  ...                11            2677   0\n",
              "1           1      1        1961  ...                15            2678   0\n",
              "2           2  10476        1958  ...                 9            2711   0\n",
              "3           3   1386        1967  ...                 4            2713   0\n",
              "4           4   5371        1989  ...                 7            2746   0\n",
              "\n",
              "[5 rows x 26 columns]"
            ]
          },
          "metadata": {},
          "execution_count": 6
        }
      ]
    },
    {
      "cell_type": "markdown",
      "metadata": {
        "id": "4dfef8dd-c8df-40d7-b3af-80b8ccfaf9ae"
      },
      "source": [
        "## Part 2 - 가설 검정\n",
        "\n",
        "### Hypothesis Test    \n",
        "   - 수치형 (numerical/continuous) 칼럼이 어떤 차이를 보이는지 t-test를 통해 가설을 세우고 검증하세요. (최소 2개)\n",
        "   - 범주형 (categorical) 칼럼이 어떤 차이를 보이는지 $\\chi^2-test$를 통해 가설을 세우고 검증하세요. (최소 2개)  \n",
        "  **Hint:** categorical feature 간의 \"cross tab\"을 생성하여 탐색해 보세요 (aka [contingency tables](https://en.wikipedia.org/wiki/Contingency_table)). 그리고 $\\chi^2 test$를 적용해 보세요. [pandas.crosstab](http://pandas.pydata.org/pandas-docs/stable/reference/api/pandas.crosstab.html)을 사용하면 contingency table 을 생성할 수 있습니다. 그리고 [scipy.stats.chi2_contingency](https://docs.scipy.org/doc/scipy/reference/generated/scipy.stats.chi2_contingency.html)를 사용하면 $\\chi^2$ statistics 를 계산할 수 있습니다.    "
      ],
      "id": "4dfef8dd-c8df-40d7-b3af-80b8ccfaf9ae"
    },
    {
      "cell_type": "code",
      "metadata": {
        "colab": {
          "base_uri": "https://localhost:8080/"
        },
        "id": "haQL97xc0JpJ",
        "outputId": "fe9d0c1e-19ac-4c13-cf32-c0afa8a1ae0f"
      },
      "source": [
        "!pip install scipy --upgrade"
      ],
      "id": "haQL97xc0JpJ",
      "execution_count": 7,
      "outputs": [
        {
          "output_type": "stream",
          "name": "stdout",
          "text": [
            "Requirement already satisfied: scipy in /usr/local/lib/python3.7/dist-packages (1.7.1)\n",
            "Requirement already satisfied: numpy<1.23.0,>=1.16.5 in /usr/local/lib/python3.7/dist-packages (from scipy) (1.19.5)\n"
          ]
        }
      ]
    },
    {
      "cell_type": "code",
      "metadata": {
        "colab": {
          "base_uri": "https://localhost:8080/",
          "height": 69
        },
        "id": "698873e9-52cd-4451-8385-0e6239d4100d",
        "outputId": "7d071699-442a-483d-9c90-e0c0b74d9310"
      },
      "source": [
        "# t-test\n",
        "# 1. 평균적으로 어류보다 정육을 많이 구매했을 것이다\n",
        "# H0 : np.mean(MntMeatProducts) = np.mean(MntFishProducts)\n",
        "# H1 : np.mean(MntMeatProducts) > np.mean(MntFishProducts)\n",
        "meat = df['MntMeatProducts']\n",
        "fish = df['MntFishProducts']\n",
        "t_ans, pv_ans = stats.ttest_ind(meat, fish, alternative='greater')\n",
        "print(t_ans)\n",
        "print(pv_ans)\n",
        "\n",
        "if((pv_ans) >= 0.05):\n",
        "  ans = '없음'\n",
        "elif((t_ans > 0) & ((pv_ans) < 0.05)):\n",
        "  ans = '정육'\n",
        "else:\n",
        "  ans = '어류'\n",
        "\n",
        "ans"
      ],
      "id": "698873e9-52cd-4451-8385-0e6239d4100d",
      "execution_count": 8,
      "outputs": [
        {
          "output_type": "stream",
          "name": "stdout",
          "text": [
            "26.376211620426563\n",
            "7.777240283327478e-143\n"
          ]
        },
        {
          "output_type": "execute_result",
          "data": {
            "application/vnd.google.colaboratory.intrinsic+json": {
              "type": "string"
            },
            "text/plain": [
              "'정육'"
            ]
          },
          "metadata": {},
          "execution_count": 8
        }
      ]
    },
    {
      "cell_type": "code",
      "metadata": {
        "colab": {
          "base_uri": "https://localhost:8080/"
        },
        "id": "iWgb9Ogh05z9",
        "outputId": "d25e3af9-0a45-4b2e-92a1-7dffc1d1e9b4"
      },
      "source": [
        "# 2. 평균적으로 총 구매 횟수가 10회 정도일 것이다\n",
        "# H0 = np.mean(TotalNumPurchases) == 10\n",
        "# H1 = np.mean(TotalNumPurchases) != 10\n",
        "total_purchases = df['TotalNumPurchases']\n",
        "print(np.mean(total_purchases))\n",
        "\n",
        "print(stats.ttest_1samp(total_purchases, 10))\n",
        "\n",
        "pv = stats.ttest_1samp(total_purchases, 10).pvalue\n",
        "pv\n",
        "# pv <= 0.05 이므로 H0는 기각"
      ],
      "id": "iWgb9Ogh05z9",
      "execution_count": 9,
      "outputs": [
        {
          "output_type": "stream",
          "name": "stdout",
          "text": [
            "12.209837545126353\n",
            "Ttest_1sampResult(statistic=17.748372030590293, pvalue=5.306078062355462e-66)\n"
          ]
        },
        {
          "output_type": "execute_result",
          "data": {
            "text/plain": [
              "5.306078062355462e-66"
            ]
          },
          "metadata": {},
          "execution_count": 9
        }
      ]
    },
    {
      "cell_type": "code",
      "metadata": {
        "colab": {
          "base_uri": "https://localhost:8080/"
        },
        "id": "IEIcLbhZiA5c",
        "outputId": "177c169d-de34-4b83-89bf-2b277e28b1f0"
      },
      "source": [
        "# 참고\n",
        "\n",
        "\"\"\"\n",
        "귀무 가설 : 웹에서의 구매횟수와 가게의 구매횟수 평균은 통계적으로 유의미한 차이가 없다\n",
        "대안 가설 : 웹에서의 구매횟수와 가게의 구매횟수 평균은 통계적으로 유의미한 차이가 있을 것이다\n",
        "\n",
        "\n",
        "t-test로 웹에서의 구매횟수와 가게에서의 구매횟수를 비교했을 때 p-value가 0.05보다 매우 낮게 나왔으므로 귀무가설을\n",
        "기각하고, 웹에서의 구매횟수와 가게의 구매횟수 평균은 통계적으로 유의미한 차이가 있다고 결론 지을 수 있다.\n",
        "\n",
        "\"\"\" \n",
        "\n",
        "stats.ttest_ind(df['NumWebPurchases'], df['NumStorePurchases'])"
      ],
      "id": "IEIcLbhZiA5c",
      "execution_count": 10,
      "outputs": [
        {
          "output_type": "execute_result",
          "data": {
            "text/plain": [
              "Ttest_indResult(statistic=-18.994289044976455, pvalue=2.103546667549773e-77)"
            ]
          },
          "metadata": {},
          "execution_count": 10
        }
      ]
    },
    {
      "cell_type": "code",
      "metadata": {
        "colab": {
          "base_uri": "https://localhost:8080/"
        },
        "id": "kNrLlOl-2Q2J",
        "outputId": "577097ae-44fe-4ef5-95b1-795b706e2bc0"
      },
      "source": [
        "# chi_square test\n",
        "# 1. 국적과 학력은 연관이 있다\n",
        "# H0 : 국적과 학력은 연관이 없다\n",
        "# H1 : 국적과 학력은 연관이 있다\n",
        "df_nat_edu = pd.crosstab(df['Country'], df['Education'])\n",
        "df_nat_edu.head()\n",
        "\n",
        "_, df_nat_edu_p, _, _ = stats.chi2_contingency(df_nat_edu)\n",
        "df_nat_edu_p\n",
        "# p-value가 0.05보다 크기 때문에 귀무가설을 채택한다.\n",
        "# 따라서 국적과 학력은 연관이 없다고 볼 수 있다."
      ],
      "id": "kNrLlOl-2Q2J",
      "execution_count": 11,
      "outputs": [
        {
          "output_type": "execute_result",
          "data": {
            "text/plain": [
              "0.37432259145466185"
            ]
          },
          "metadata": {},
          "execution_count": 11
        }
      ]
    },
    {
      "cell_type": "code",
      "metadata": {
        "colab": {
          "base_uri": "https://localhost:8080/"
        },
        "id": "FADdgKh-6wNR",
        "outputId": "e3d8f39e-804e-4256-a3c1-6863e59e4c73"
      },
      "source": [
        "# 2. 학력과 혼인 여부는 관계가 있다\n",
        "# H0 : 학력과 혼인 여부는 관계가 없다\n",
        "# H1 : 학력과 혼인 여부는 관계가 있다\n",
        "df_edu_mar = pd.crosstab(df['Education'], df['Marital_Status'])\n",
        "df_edu_mar.head()\n",
        "\n",
        "_, df_edu_mar_p, _, _ = stats.chi2_contingency(df_edu_mar)\n",
        "df_edu_mar_p\n",
        "# p-value가 0.05보다 크기 때문에 귀무가설을 채택한다.\n",
        "# 따라서 학력과 혼인 여부는 연관이 없다고 볼 수 있다."
      ],
      "id": "FADdgKh-6wNR",
      "execution_count": 12,
      "outputs": [
        {
          "output_type": "execute_result",
          "data": {
            "text/plain": [
              "0.5304403824967144"
            ]
          },
          "metadata": {},
          "execution_count": 12
        }
      ]
    },
    {
      "cell_type": "code",
      "metadata": {
        "colab": {
          "base_uri": "https://localhost:8080/"
        },
        "id": "214fAFQ1iT_X",
        "outputId": "5d997dc3-bb56-464e-e6a0-9e36674426a3"
      },
      "source": [
        "# 참고\n",
        "\n",
        "\"\"\"\n",
        "귀무 가설 : 소비자의 국적과 교육 수준 차이는 서로 연관이 없을 것이다.\n",
        "대안 가설 : 소비자의 국적과 교육 수준 차이는 서로 연관이 있을 것이다.\n",
        "\n",
        "\n",
        "chi-square로 소비자의 국적과 교육 수준 차이 간에 관계 (독립인지 종속인지) 를 비교했을 때, p-value가 0.3이 나왔으므로\n",
        "귀무가설을 기각하지 못하며, 소비자의 국적과 교육 수준 차이는 서로 연관이 없다고 결론 지을 수 있다.\n",
        "\n",
        "\"\"\" \n",
        "\n",
        "stats.chi2_contingency(pd.crosstab(df['Education'], df['Country']))"
      ],
      "id": "214fAFQ1iT_X",
      "execution_count": 13,
      "outputs": [
        {
          "output_type": "execute_result",
          "data": {
            "text/plain": [
              "(29.769450542095363,\n",
              " 0.3743225914546619,\n",
              " 28,\n",
              " array([[1.32671480e+01, 2.40072202e+01, 1.04693141e+01, 1.32671480e+01,\n",
              "         2.70758123e-01, 3.04151625e+01, 9.86462094e+01, 9.65703971e+00],\n",
              "        [3.58212996e+00, 6.48194946e+00, 2.82671480e+00, 3.58212996e+00,\n",
              "         7.31046931e-02, 8.21209386e+00, 2.66344765e+01, 2.60740072e+00],\n",
              "        [7.40306859e+01, 1.33960289e+02, 5.84187726e+01, 7.40306859e+01,\n",
              "         1.51083032e+00, 1.69716606e+02, 5.50445848e+02, 5.38862816e+01],\n",
              "        [2.42125451e+01, 4.38131769e+01, 1.91064982e+01, 2.42125451e+01,\n",
              "         4.94133574e-01, 5.55076715e+01, 1.80029332e+02, 1.76240975e+01],\n",
              "        [3.19074910e+01, 5.77373646e+01, 2.51787004e+01, 3.19074910e+01,\n",
              "         6.51173285e-01, 7.31484657e+01, 2.37244134e+02, 2.32251805e+01]]))"
            ]
          },
          "metadata": {},
          "execution_count": 13
        }
      ]
    },
    {
      "cell_type": "markdown",
      "metadata": {
        "id": "fe2d3868-0826-4f59-bba3-8219abb422d9"
      },
      "source": [
        "## Part 3 - Analysis and Interpretation\n",
        "\n",
        "자, 위 파트들에서 우리는 데이터들을 잘 관찰했습니다. 다음의 질문들에 텍스트로 답변하십시오.  \n",
        "\n",
        "1) 여러분들이 수행한 두 개 이상의 t-test 들을 해석하고 설명해 보세요.\n",
        "2) 여러분들이 수행한 두 개 이상의 $\\chi^2$ test 들을 해석하고 설명해 보세요."
      ],
      "id": "fe2d3868-0826-4f59-bba3-8219abb422d9"
    },
    {
      "cell_type": "markdown",
      "metadata": {
        "id": "55cec2cd-3e51-408c-adf3-b6d8cfb1b9c1"
      },
      "source": [
        "**t-test**\n",
        "1. 평균적으로 어류보다 정육을 많이 구매했을 것이라는 가설을 대안가설로 하여 One-tailed t-test를 시행하였다. 그 결과 p값은 0.05보다 작게 나왔다. p값이 0.05보다 작게 나왔으므로 두 집단의 평균의 차이가 유의미하다고 볼 수 있다. 또한 통계치가 0보다 크게 나왔다. 즉, 평균적으로 어류보다 정육을 많이 구매했을 것이라고 볼 수 있다.\n",
        "\n",
        "2. 고객들의 평균 구매 횟수가 10회 정도일 것이라는 가설을 귀무가설로 하여 t-test를 시행하였다. 그 결과 p값이 0.05보다 작게 나왔으므로 고객들의 평균 구매 횟수는 10회 정도가 아닐 것으로 볼 수 있다."
      ],
      "id": "55cec2cd-3e51-408c-adf3-b6d8cfb1b9c1"
    },
    {
      "cell_type": "markdown",
      "metadata": {
        "id": "WSoXKyJBB0xs"
      },
      "source": [
        "**chi square test**\n",
        "1. 국적과 학력은 연관이 없다는 가설을 귀무가설로 하여 chi squared test를 시행하였다. 그 결과 p값이 0.05보다 크게 나왔으므로 귀무가설을 채택하여 고객들의 국적과 학력은 연관이 없다고 볼 수 있다.\n",
        "\n",
        "2. 학력과 혼인 여부는 관계가 없다는 가설을 귀무가설로 하여 chi squared test를 시행하였다. 그 결과 p값이 0.05보다 크게 나왔으므로 귀무가설을 채택하여 고객들의 학력과 혼인 여부는 연관이 없다고 볼 수 있다."
      ],
      "id": "WSoXKyJBB0xs"
    },
    {
      "cell_type": "markdown",
      "metadata": {
        "id": "ef1670f6-ecee-4ac4-ba5c-8c0245ce9542"
      },
      "source": [
        "# Advanced Goals: \n",
        "> SC 에서 3점을 얻고 싶으시다면 아래의 문제를 모두 풀어주세요. 다만 2점을 얻었다면 충분합니다. 시간과 여유가 있는 분들만 도전해 보시기 바랍니다. \n",
        "\n",
        "## Part 1: \n",
        "\n",
        "여러분들의 dataframe column들이 적절한 data type을 가지도록 작업해 보세요.   \n",
        "**Hint:** 특정 column datatype 이 float 이나 integer 로 되어있음에도 불구하고 \"object\" 라고 되어 있는 경우가 있습니다. 이 경우, `pd.to_numeric()`, `pd.to_datetime()` 과 같은 방법으로 칼럼들을 변환해 보세요. \n",
        "주석을 통해 읽는 이가 쉽게 읽을 수 있고, 전체 내용을 쉽게 따라갈 수 있다면 3점을 얻을 수 있습니다. \n",
        "\n",
        "## Part 2:\n",
        "\n",
        "데이터 셋의 적절한 column들의 조합으로 $t-test$와 $\\chi^2 test$가 쉽게 수행될 수 있도록 함수를 작성해 보세요.\n",
        "**데이터 타입에 알맞은 가설검정이 실행되야 하는 것을 잊지 마세요**\n",
        "\n",
        "## Part 3: \n",
        "평균 추정치에 대한 신뢰 구간(confidence interval)을 계산하고 결과를 작성하세요 (최소 두 개 선택). 계산한 추정치가 얼마나 정확한지 시각적으로 확인할 수 있도록 matplotlib, seaborn 등의 시각화 라이브러리를 활용해서 나타내세요"
      ],
      "id": "ef1670f6-ecee-4ac4-ba5c-8c0245ce9542"
    },
    {
      "cell_type": "code",
      "metadata": {
        "id": "9c36d746-4327-4bea-91c4-bb74f29bb5ba",
        "colab": {
          "base_uri": "https://localhost:8080/"
        },
        "outputId": "dd4790a3-baa8-4602-a65b-114b1322cb02"
      },
      "source": [
        "# Part 1\n",
        "df.dtypes"
      ],
      "id": "9c36d746-4327-4bea-91c4-bb74f29bb5ba",
      "execution_count": 14,
      "outputs": [
        {
          "output_type": "execute_result",
          "data": {
            "text/plain": [
              "Unnamed: 0            int64\n",
              "ID                    int64\n",
              "Year_Birth            int64\n",
              "Country              object\n",
              "Education            object\n",
              "Marital_Status       object\n",
              " Income              object\n",
              "Kidhome               int64\n",
              "Teenhome              int64\n",
              "Dt_Customer          object\n",
              "Recency               int64\n",
              "MntWines              int64\n",
              "MntFruits             int64\n",
              "MntMeatProducts       int64\n",
              "MntFishProducts       int64\n",
              "MntSweetProducts      int64\n",
              "MntGoldProds          int64\n",
              "NumDealsPurchases     int64\n",
              "NumWebPurchases       int64\n",
              "NumStorePurchases     int64\n",
              "NumWebVisitsMonth     int64\n",
              "Complain              int64\n",
              "TotalMntProducts      int64\n",
              "TotalNumPurchases     int64\n",
              "DaysSinceJoined       int64\n",
              "VIP                   int64\n",
              "dtype: object"
            ]
          },
          "metadata": {},
          "execution_count": 14
        }
      ]
    },
    {
      "cell_type": "code",
      "metadata": {
        "id": "aEbL-TKDD442",
        "colab": {
          "base_uri": "https://localhost:8080/",
          "height": 240
        },
        "outputId": "84921a79-00ed-4d64-c602-8ec84161f981"
      },
      "source": [
        "df.head()"
      ],
      "id": "aEbL-TKDD442",
      "execution_count": 15,
      "outputs": [
        {
          "output_type": "execute_result",
          "data": {
            "text/html": [
              "<div>\n",
              "<style scoped>\n",
              "    .dataframe tbody tr th:only-of-type {\n",
              "        vertical-align: middle;\n",
              "    }\n",
              "\n",
              "    .dataframe tbody tr th {\n",
              "        vertical-align: top;\n",
              "    }\n",
              "\n",
              "    .dataframe thead th {\n",
              "        text-align: right;\n",
              "    }\n",
              "</style>\n",
              "<table border=\"1\" class=\"dataframe\">\n",
              "  <thead>\n",
              "    <tr style=\"text-align: right;\">\n",
              "      <th></th>\n",
              "      <th>Unnamed: 0</th>\n",
              "      <th>ID</th>\n",
              "      <th>Year_Birth</th>\n",
              "      <th>Country</th>\n",
              "      <th>Education</th>\n",
              "      <th>Marital_Status</th>\n",
              "      <th>Income</th>\n",
              "      <th>Kidhome</th>\n",
              "      <th>Teenhome</th>\n",
              "      <th>Dt_Customer</th>\n",
              "      <th>Recency</th>\n",
              "      <th>MntWines</th>\n",
              "      <th>MntFruits</th>\n",
              "      <th>MntMeatProducts</th>\n",
              "      <th>MntFishProducts</th>\n",
              "      <th>MntSweetProducts</th>\n",
              "      <th>MntGoldProds</th>\n",
              "      <th>NumDealsPurchases</th>\n",
              "      <th>NumWebPurchases</th>\n",
              "      <th>NumStorePurchases</th>\n",
              "      <th>NumWebVisitsMonth</th>\n",
              "      <th>Complain</th>\n",
              "      <th>TotalMntProducts</th>\n",
              "      <th>TotalNumPurchases</th>\n",
              "      <th>DaysSinceJoined</th>\n",
              "      <th>VIP</th>\n",
              "    </tr>\n",
              "  </thead>\n",
              "  <tbody>\n",
              "    <tr>\n",
              "      <th>0</th>\n",
              "      <td>0</td>\n",
              "      <td>1826</td>\n",
              "      <td>1970</td>\n",
              "      <td>SP</td>\n",
              "      <td>Graduation</td>\n",
              "      <td>Divorced</td>\n",
              "      <td>$84,835.00</td>\n",
              "      <td>0</td>\n",
              "      <td>0</td>\n",
              "      <td>6/16/14</td>\n",
              "      <td>0</td>\n",
              "      <td>189</td>\n",
              "      <td>104</td>\n",
              "      <td>379</td>\n",
              "      <td>111</td>\n",
              "      <td>189</td>\n",
              "      <td>218</td>\n",
              "      <td>1</td>\n",
              "      <td>4</td>\n",
              "      <td>6</td>\n",
              "      <td>1</td>\n",
              "      <td>0</td>\n",
              "      <td>1190</td>\n",
              "      <td>11</td>\n",
              "      <td>2677</td>\n",
              "      <td>0</td>\n",
              "    </tr>\n",
              "    <tr>\n",
              "      <th>1</th>\n",
              "      <td>1</td>\n",
              "      <td>1</td>\n",
              "      <td>1961</td>\n",
              "      <td>CA</td>\n",
              "      <td>Graduation</td>\n",
              "      <td>Single</td>\n",
              "      <td>$57,091.00</td>\n",
              "      <td>0</td>\n",
              "      <td>0</td>\n",
              "      <td>6/15/14</td>\n",
              "      <td>0</td>\n",
              "      <td>464</td>\n",
              "      <td>5</td>\n",
              "      <td>64</td>\n",
              "      <td>7</td>\n",
              "      <td>0</td>\n",
              "      <td>37</td>\n",
              "      <td>1</td>\n",
              "      <td>7</td>\n",
              "      <td>7</td>\n",
              "      <td>5</td>\n",
              "      <td>0</td>\n",
              "      <td>577</td>\n",
              "      <td>15</td>\n",
              "      <td>2678</td>\n",
              "      <td>0</td>\n",
              "    </tr>\n",
              "    <tr>\n",
              "      <th>2</th>\n",
              "      <td>2</td>\n",
              "      <td>10476</td>\n",
              "      <td>1958</td>\n",
              "      <td>US</td>\n",
              "      <td>Graduation</td>\n",
              "      <td>Married</td>\n",
              "      <td>$67,267.00</td>\n",
              "      <td>0</td>\n",
              "      <td>1</td>\n",
              "      <td>5/13/14</td>\n",
              "      <td>0</td>\n",
              "      <td>134</td>\n",
              "      <td>11</td>\n",
              "      <td>59</td>\n",
              "      <td>15</td>\n",
              "      <td>2</td>\n",
              "      <td>30</td>\n",
              "      <td>1</td>\n",
              "      <td>3</td>\n",
              "      <td>5</td>\n",
              "      <td>2</td>\n",
              "      <td>0</td>\n",
              "      <td>251</td>\n",
              "      <td>9</td>\n",
              "      <td>2711</td>\n",
              "      <td>0</td>\n",
              "    </tr>\n",
              "    <tr>\n",
              "      <th>3</th>\n",
              "      <td>3</td>\n",
              "      <td>1386</td>\n",
              "      <td>1967</td>\n",
              "      <td>AUS</td>\n",
              "      <td>Graduation</td>\n",
              "      <td>Together</td>\n",
              "      <td>$32,474.00</td>\n",
              "      <td>1</td>\n",
              "      <td>1</td>\n",
              "      <td>5/11/14</td>\n",
              "      <td>0</td>\n",
              "      <td>10</td>\n",
              "      <td>0</td>\n",
              "      <td>1</td>\n",
              "      <td>0</td>\n",
              "      <td>0</td>\n",
              "      <td>0</td>\n",
              "      <td>1</td>\n",
              "      <td>1</td>\n",
              "      <td>2</td>\n",
              "      <td>7</td>\n",
              "      <td>0</td>\n",
              "      <td>11</td>\n",
              "      <td>4</td>\n",
              "      <td>2713</td>\n",
              "      <td>0</td>\n",
              "    </tr>\n",
              "    <tr>\n",
              "      <th>4</th>\n",
              "      <td>4</td>\n",
              "      <td>5371</td>\n",
              "      <td>1989</td>\n",
              "      <td>SP</td>\n",
              "      <td>Graduation</td>\n",
              "      <td>Single</td>\n",
              "      <td>$21,474.00</td>\n",
              "      <td>1</td>\n",
              "      <td>0</td>\n",
              "      <td>4/8/14</td>\n",
              "      <td>0</td>\n",
              "      <td>6</td>\n",
              "      <td>16</td>\n",
              "      <td>24</td>\n",
              "      <td>11</td>\n",
              "      <td>0</td>\n",
              "      <td>34</td>\n",
              "      <td>2</td>\n",
              "      <td>3</td>\n",
              "      <td>2</td>\n",
              "      <td>7</td>\n",
              "      <td>0</td>\n",
              "      <td>91</td>\n",
              "      <td>7</td>\n",
              "      <td>2746</td>\n",
              "      <td>0</td>\n",
              "    </tr>\n",
              "  </tbody>\n",
              "</table>\n",
              "</div>"
            ],
            "text/plain": [
              "   Unnamed: 0     ID  Year_Birth  ... TotalNumPurchases DaysSinceJoined VIP\n",
              "0           0   1826        1970  ...                11            2677   0\n",
              "1           1      1        1961  ...                15            2678   0\n",
              "2           2  10476        1958  ...                 9            2711   0\n",
              "3           3   1386        1967  ...                 4            2713   0\n",
              "4           4   5371        1989  ...                 7            2746   0\n",
              "\n",
              "[5 rows x 26 columns]"
            ]
          },
          "metadata": {},
          "execution_count": 15
        }
      ]
    },
    {
      "cell_type": "code",
      "metadata": {
        "id": "TBUmrA7XEG5U",
        "colab": {
          "base_uri": "https://localhost:8080/",
          "height": 240
        },
        "outputId": "1180aba4-3fc0-46f6-e512-c98be9538673"
      },
      "source": [
        "#컬럼명 변경\n",
        "df.rename(columns={' Income ': 'Income'}, inplace=True)\n",
        "\n",
        "# 고객의 연간 수입을 float로 형변환\n",
        "def toNum(input):\n",
        "  return float(input.replace('$','').replace(',',''))\n",
        "df['Income'] = df['Income'].apply(toNum)\n",
        "\n",
        "# 고객의 서비스 가입 시기를 날짜 형식으로 변경\n",
        "df['Dt_Customer'] = pd.to_datetime(df['Dt_Customer'])\n",
        "df.head()"
      ],
      "id": "TBUmrA7XEG5U",
      "execution_count": 16,
      "outputs": [
        {
          "output_type": "execute_result",
          "data": {
            "text/html": [
              "<div>\n",
              "<style scoped>\n",
              "    .dataframe tbody tr th:only-of-type {\n",
              "        vertical-align: middle;\n",
              "    }\n",
              "\n",
              "    .dataframe tbody tr th {\n",
              "        vertical-align: top;\n",
              "    }\n",
              "\n",
              "    .dataframe thead th {\n",
              "        text-align: right;\n",
              "    }\n",
              "</style>\n",
              "<table border=\"1\" class=\"dataframe\">\n",
              "  <thead>\n",
              "    <tr style=\"text-align: right;\">\n",
              "      <th></th>\n",
              "      <th>Unnamed: 0</th>\n",
              "      <th>ID</th>\n",
              "      <th>Year_Birth</th>\n",
              "      <th>Country</th>\n",
              "      <th>Education</th>\n",
              "      <th>Marital_Status</th>\n",
              "      <th>Income</th>\n",
              "      <th>Kidhome</th>\n",
              "      <th>Teenhome</th>\n",
              "      <th>Dt_Customer</th>\n",
              "      <th>Recency</th>\n",
              "      <th>MntWines</th>\n",
              "      <th>MntFruits</th>\n",
              "      <th>MntMeatProducts</th>\n",
              "      <th>MntFishProducts</th>\n",
              "      <th>MntSweetProducts</th>\n",
              "      <th>MntGoldProds</th>\n",
              "      <th>NumDealsPurchases</th>\n",
              "      <th>NumWebPurchases</th>\n",
              "      <th>NumStorePurchases</th>\n",
              "      <th>NumWebVisitsMonth</th>\n",
              "      <th>Complain</th>\n",
              "      <th>TotalMntProducts</th>\n",
              "      <th>TotalNumPurchases</th>\n",
              "      <th>DaysSinceJoined</th>\n",
              "      <th>VIP</th>\n",
              "    </tr>\n",
              "  </thead>\n",
              "  <tbody>\n",
              "    <tr>\n",
              "      <th>0</th>\n",
              "      <td>0</td>\n",
              "      <td>1826</td>\n",
              "      <td>1970</td>\n",
              "      <td>SP</td>\n",
              "      <td>Graduation</td>\n",
              "      <td>Divorced</td>\n",
              "      <td>84835.0</td>\n",
              "      <td>0</td>\n",
              "      <td>0</td>\n",
              "      <td>2014-06-16</td>\n",
              "      <td>0</td>\n",
              "      <td>189</td>\n",
              "      <td>104</td>\n",
              "      <td>379</td>\n",
              "      <td>111</td>\n",
              "      <td>189</td>\n",
              "      <td>218</td>\n",
              "      <td>1</td>\n",
              "      <td>4</td>\n",
              "      <td>6</td>\n",
              "      <td>1</td>\n",
              "      <td>0</td>\n",
              "      <td>1190</td>\n",
              "      <td>11</td>\n",
              "      <td>2677</td>\n",
              "      <td>0</td>\n",
              "    </tr>\n",
              "    <tr>\n",
              "      <th>1</th>\n",
              "      <td>1</td>\n",
              "      <td>1</td>\n",
              "      <td>1961</td>\n",
              "      <td>CA</td>\n",
              "      <td>Graduation</td>\n",
              "      <td>Single</td>\n",
              "      <td>57091.0</td>\n",
              "      <td>0</td>\n",
              "      <td>0</td>\n",
              "      <td>2014-06-15</td>\n",
              "      <td>0</td>\n",
              "      <td>464</td>\n",
              "      <td>5</td>\n",
              "      <td>64</td>\n",
              "      <td>7</td>\n",
              "      <td>0</td>\n",
              "      <td>37</td>\n",
              "      <td>1</td>\n",
              "      <td>7</td>\n",
              "      <td>7</td>\n",
              "      <td>5</td>\n",
              "      <td>0</td>\n",
              "      <td>577</td>\n",
              "      <td>15</td>\n",
              "      <td>2678</td>\n",
              "      <td>0</td>\n",
              "    </tr>\n",
              "    <tr>\n",
              "      <th>2</th>\n",
              "      <td>2</td>\n",
              "      <td>10476</td>\n",
              "      <td>1958</td>\n",
              "      <td>US</td>\n",
              "      <td>Graduation</td>\n",
              "      <td>Married</td>\n",
              "      <td>67267.0</td>\n",
              "      <td>0</td>\n",
              "      <td>1</td>\n",
              "      <td>2014-05-13</td>\n",
              "      <td>0</td>\n",
              "      <td>134</td>\n",
              "      <td>11</td>\n",
              "      <td>59</td>\n",
              "      <td>15</td>\n",
              "      <td>2</td>\n",
              "      <td>30</td>\n",
              "      <td>1</td>\n",
              "      <td>3</td>\n",
              "      <td>5</td>\n",
              "      <td>2</td>\n",
              "      <td>0</td>\n",
              "      <td>251</td>\n",
              "      <td>9</td>\n",
              "      <td>2711</td>\n",
              "      <td>0</td>\n",
              "    </tr>\n",
              "    <tr>\n",
              "      <th>3</th>\n",
              "      <td>3</td>\n",
              "      <td>1386</td>\n",
              "      <td>1967</td>\n",
              "      <td>AUS</td>\n",
              "      <td>Graduation</td>\n",
              "      <td>Together</td>\n",
              "      <td>32474.0</td>\n",
              "      <td>1</td>\n",
              "      <td>1</td>\n",
              "      <td>2014-05-11</td>\n",
              "      <td>0</td>\n",
              "      <td>10</td>\n",
              "      <td>0</td>\n",
              "      <td>1</td>\n",
              "      <td>0</td>\n",
              "      <td>0</td>\n",
              "      <td>0</td>\n",
              "      <td>1</td>\n",
              "      <td>1</td>\n",
              "      <td>2</td>\n",
              "      <td>7</td>\n",
              "      <td>0</td>\n",
              "      <td>11</td>\n",
              "      <td>4</td>\n",
              "      <td>2713</td>\n",
              "      <td>0</td>\n",
              "    </tr>\n",
              "    <tr>\n",
              "      <th>4</th>\n",
              "      <td>4</td>\n",
              "      <td>5371</td>\n",
              "      <td>1989</td>\n",
              "      <td>SP</td>\n",
              "      <td>Graduation</td>\n",
              "      <td>Single</td>\n",
              "      <td>21474.0</td>\n",
              "      <td>1</td>\n",
              "      <td>0</td>\n",
              "      <td>2014-04-08</td>\n",
              "      <td>0</td>\n",
              "      <td>6</td>\n",
              "      <td>16</td>\n",
              "      <td>24</td>\n",
              "      <td>11</td>\n",
              "      <td>0</td>\n",
              "      <td>34</td>\n",
              "      <td>2</td>\n",
              "      <td>3</td>\n",
              "      <td>2</td>\n",
              "      <td>7</td>\n",
              "      <td>0</td>\n",
              "      <td>91</td>\n",
              "      <td>7</td>\n",
              "      <td>2746</td>\n",
              "      <td>0</td>\n",
              "    </tr>\n",
              "  </tbody>\n",
              "</table>\n",
              "</div>"
            ],
            "text/plain": [
              "   Unnamed: 0     ID  Year_Birth  ... TotalNumPurchases DaysSinceJoined VIP\n",
              "0           0   1826        1970  ...                11            2677   0\n",
              "1           1      1        1961  ...                15            2678   0\n",
              "2           2  10476        1958  ...                 9            2711   0\n",
              "3           3   1386        1967  ...                 4            2713   0\n",
              "4           4   5371        1989  ...                 7            2746   0\n",
              "\n",
              "[5 rows x 26 columns]"
            ]
          },
          "metadata": {},
          "execution_count": 16
        }
      ]
    },
    {
      "cell_type": "code",
      "metadata": {
        "colab": {
          "base_uri": "https://localhost:8080/"
        },
        "id": "-sIUy1HRITdA",
        "outputId": "bf9f2012-a310-4d18-9082-3493703f3685"
      },
      "source": [
        "df.dtypes"
      ],
      "id": "-sIUy1HRITdA",
      "execution_count": 17,
      "outputs": [
        {
          "output_type": "execute_result",
          "data": {
            "text/plain": [
              "Unnamed: 0                    int64\n",
              "ID                            int64\n",
              "Year_Birth                    int64\n",
              "Country                      object\n",
              "Education                    object\n",
              "Marital_Status               object\n",
              "Income                      float64\n",
              "Kidhome                       int64\n",
              "Teenhome                      int64\n",
              "Dt_Customer          datetime64[ns]\n",
              "Recency                       int64\n",
              "MntWines                      int64\n",
              "MntFruits                     int64\n",
              "MntMeatProducts               int64\n",
              "MntFishProducts               int64\n",
              "MntSweetProducts              int64\n",
              "MntGoldProds                  int64\n",
              "NumDealsPurchases             int64\n",
              "NumWebPurchases               int64\n",
              "NumStorePurchases             int64\n",
              "NumWebVisitsMonth             int64\n",
              "Complain                      int64\n",
              "TotalMntProducts              int64\n",
              "TotalNumPurchases             int64\n",
              "DaysSinceJoined               int64\n",
              "VIP                           int64\n",
              "dtype: object"
            ]
          },
          "metadata": {},
          "execution_count": 17
        }
      ]
    },
    {
      "cell_type": "code",
      "metadata": {
        "colab": {
          "base_uri": "https://localhost:8080/"
        },
        "id": "b991c6c7-d850-4e48-a301-9204573e112d",
        "outputId": "29172752-b9fc-4711-d2cc-d743529db477"
      },
      "source": [
        "# Part 2\n",
        "import numbers\n",
        "\n",
        "def t_test(a, b, alter='two-sided'):\n",
        "  if(a.dtypes == np.object):\n",
        "    err = 'a의 타입이 수치형이 아님'\n",
        "    return err\n",
        "  if(b.dtypes == np.object):\n",
        "    err = 'b의 타입이 수치형이 아님'\n",
        "    return err\n",
        "\n",
        "  t_ans, pv_ans = stats.ttest_ind(a, b, alternative=alter)\n",
        "  return t_ans, pv_ans\n",
        "\n",
        "t_test(df['MntMeatProducts'], df['MntFishProducts'], 'greater')"
      ],
      "id": "b991c6c7-d850-4e48-a301-9204573e112d",
      "execution_count": 18,
      "outputs": [
        {
          "output_type": "execute_result",
          "data": {
            "text/plain": [
              "(26.376211620426563, 7.777240283327478e-143)"
            ]
          },
          "metadata": {},
          "execution_count": 18
        }
      ]
    },
    {
      "cell_type": "code",
      "metadata": {
        "colab": {
          "base_uri": "https://localhost:8080/"
        },
        "id": "R-vVWtIRLCGe",
        "outputId": "2d69eb2a-5716-4138-8330-a1d18a40f619"
      },
      "source": [
        "def chi_test(a, b):\n",
        "  if(a.dtypes != np.object):\n",
        "    err = 'a의 타입이 범주형이 아님'\n",
        "    return err\n",
        "  if(b.dtypes != np.object):\n",
        "    err = 'b의 타입이 범주형이 아님'\n",
        "    return err\n",
        "\n",
        "  df_tmp = pd.crosstab(a, b)\n",
        "  chi, p, _, _ = stats.chi2_contingency(df_tmp)\n",
        "  return chi, p\n",
        "\n",
        "chi_test(df['Country'], df['Education'])"
      ],
      "id": "R-vVWtIRLCGe",
      "execution_count": 19,
      "outputs": [
        {
          "output_type": "execute_result",
          "data": {
            "text/plain": [
              "(29.76945054209536, 0.37432259145466185)"
            ]
          },
          "metadata": {},
          "execution_count": 19
        }
      ]
    },
    {
      "cell_type": "code",
      "metadata": {
        "id": "ILOE02K_koIR"
      },
      "source": [
        "# 참고\n",
        "### 이곳에 Part 2 답안을 작성해주시기 바랍니다\n",
        "\n",
        "def which_test_by_dtypes(df1, df2):\n",
        "    \n",
        "    # 사용자 지정 함수 영역 내에서 라이브러리 import\n",
        "    import numpy as np\n",
        "    from scipy.stats import ttest_ind, chi2_contingency\n",
        "        \n",
        "    # t-test    \n",
        "    if (np.issubdtype(df1.dtype, np.number)) & (np.issubdtype(df2.dtype, np.number)):\n",
        "        return ttest_ind(df1, df2)\n",
        "    \n",
        "    # chi-square\n",
        "    else :\n",
        "        cross = pd.crosstab(df1, df2)\n",
        "        return chi2_contingency(cross)[:2]"
      ],
      "id": "ILOE02K_koIR",
      "execution_count": null,
      "outputs": []
    },
    {
      "cell_type": "code",
      "metadata": {
        "id": "a73ac1bb-cefe-46e4-a396-ba0622085f79"
      },
      "source": [
        "# Part 3\n",
        "def confidence_interval(data, confidence = 0.95):\n",
        "    \n",
        "    data = np.array(data)\n",
        "    mean = np.mean(data)\n",
        "    n = len(data)\n",
        "\n",
        "    # standard error of the mean.\n",
        "    # scipy.stats.sem(a, axis=0, ddof=1, nan_policy='propagate')\n",
        "    stderr = stats.sem(data) \n",
        "\n",
        "    # ddof = delta 자유도. 표본의 편향을 조정할 자유도입니다. 기본값은 1\n",
        "    interval = stderr * stats.t.ppf((1+confidence)/2 , n-1)\n",
        "\n",
        "    # 리턴 값으로는 평균에서 구간을 빼고, 더한 값 두개를 리턴합니다.\n",
        "    return (mean - interval, mean + interval)"
      ],
      "id": "a73ac1bb-cefe-46e4-a396-ba0622085f79",
      "execution_count": 20,
      "outputs": []
    },
    {
      "cell_type": "code",
      "metadata": {
        "colab": {
          "base_uri": "https://localhost:8080/"
        },
        "id": "TX9Bv1F3zUhr",
        "outputId": "25e688e2-ebc4-44f8-e652-71bf65fcae6c"
      },
      "source": [
        "s1 = df.sample(n=20, random_state=42)\n",
        "s2 = df.sample(n=200, random_state=42)\n",
        "\n",
        "s1_mean = s1['Income'].mean()\n",
        "print(s1_mean)\n",
        "s2_mean = s2['Income'].mean()\n",
        "print(s2_mean)"
      ],
      "id": "TX9Bv1F3zUhr",
      "execution_count": 21,
      "outputs": [
        {
          "output_type": "stream",
          "name": "stdout",
          "text": [
            "52148.65\n",
            "54383.135\n"
          ]
        }
      ]
    },
    {
      "cell_type": "code",
      "metadata": {
        "colab": {
          "base_uri": "https://localhost:8080/"
        },
        "id": "CzQjQkH80LYz",
        "outputId": "6a4c8616-fb0c-44d1-9f20-02e50abc4ae0"
      },
      "source": [
        "CI1 = confidence_interval(s1['Income'])\n",
        "CI2 = confidence_interval(s2['Income'])\n",
        "CI1, CI2"
      ],
      "id": "CzQjQkH80LYz",
      "execution_count": 22,
      "outputs": [
        {
          "output_type": "execute_result",
          "data": {
            "text/plain": [
              "((40865.68108916119, 63431.61891083881),\n",
              " (51517.17996096207, 57249.09003903793))"
            ]
          },
          "metadata": {},
          "execution_count": 22
        }
      ]
    },
    {
      "cell_type": "code",
      "metadata": {
        "colab": {
          "base_uri": "https://localhost:8080/",
          "height": 336
        },
        "id": "Li9WCtRF09fq",
        "outputId": "ea91ad65-c102-4113-ce4b-ed39089f1ddd"
      },
      "source": [
        "fig = plt.figure()\n",
        "ax = fig.add_axes([0,0,1,1])\n",
        "\n",
        "sample = ['s1', 's2']\n",
        "pop_mean = np.mean(df['Income'])\n",
        "\n",
        "plt.bar(x='s1', height=s1_mean, yerr=CI1[0]-s1_mean, capsize=10)\n",
        "plt.bar(x='s2', height=s2_mean, yerr=CI2[0]-s2_mean, capsize=10)\n",
        "plt.axhline(pop_mean, linestyle='--', color='#4000c7')\n",
        "plt.axhline(s1_mean, color = 'black', xmin = 0.15, xmax = 0.35)\n",
        "plt.axhline(s2_mean, color = 'black', xmin = 0.65, xmax = 0.85)\n",
        "\n",
        "plt.show()"
      ],
      "id": "Li9WCtRF09fq",
      "execution_count": 24,
      "outputs": [
        {
          "output_type": "display_data",
          "data": {
            "image/png": "[encoded data removed]",
            "text/plain": [
              "<Figure size 432x288 with 1 Axes>"
            ]
          },
          "metadata": {
            "needs_background": "light"
          }
        }
      ]
    }
  ]
}