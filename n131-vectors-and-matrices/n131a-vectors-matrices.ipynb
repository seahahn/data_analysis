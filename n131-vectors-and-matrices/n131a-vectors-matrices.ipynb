{
  "nbformat": 4,
  "nbformat_minor": 0,
  "metadata": {
    "colab": {
      "name": "n131a-vectors-matrices.ipynb",
      "provenance": []
    },
    "kernelspec": {
      "display_name": "Python 3",
      "language": "python",
      "name": "python3"
    },
    "language_info": {
      "codemirror_mode": {
        "name": "ipython",
        "version": 3
      },
      "file_extension": ".py",
      "mimetype": "text/x-python",
      "name": "python",
      "nbconvert_exporter": "python",
      "pygments_lexer": "ipython3",
      "version": "3.8.2"
    }
  },
  "cells": [
    {
      "cell_type": "markdown",
      "metadata": {
        "id": "Y7hxe5O-9ukJ"
      },
      "source": [
        "<img src='https://i.imgur.com/RDAD11M.png' width = '200' align = 'right'>\n",
        "\n",
        "## *DATA SCIENCE / SECTION 1 / SPRINT 3 / NOTE 1*\n",
        "\n",
        "# 📝 Assignment"
      ]
    },
    {
      "cell_type": "markdown",
      "metadata": {
        "id": "yXA3GwWhY9KL"
      },
      "source": [
        "## 1. Portfolio\n",
        "\n",
        "`Dot product` & `Matrix Multiplication` 을 이용하여 다음 포트폴리오의 사람별 총합을 계산하세요.\n",
        "- 결과는 `res`에 list형태로 저장합니다.\n",
        "\n",
        "|People|Name|Price|Amount|\n",
        "|:-:|:-:|:-:|:-:|\n",
        "|X|A|100|35|\n",
        "|X|B|500|10|\n",
        "|X|C|250|25|\n",
        "|X|D|50|40|\n",
        "|Y|A|100|-|\n",
        "|Y|B|500|50|\n",
        "|Y|C|250|50|\n",
        "|Y|D|50|-|\n",
        "|Z|A|100|-|\n",
        "|Z|B|500|-|\n",
        "|Z|C|250|100|\n",
        "|Z|D|50|-|\n",
        "\n"
      ]
    },
    {
      "cell_type": "code",
      "metadata": {
        "id": "ErSR5soVblfv"
      },
      "source": [
        "import pandas as pd\n",
        "import numpy as np"
      ],
      "execution_count": 1,
      "outputs": []
    },
    {
      "cell_type": "code",
      "metadata": {
        "id": "sgGoSBagDh6M"
      },
      "source": [
        "data_url = 'https://docs.google.com/uc?export=download&id=1wXgGXvv-a6yAnOBYoPjk2SvaxfBbp2Gv'\n",
        "\n",
        "df = pd.read_csv(data_url, delimiter='\\t')\n",
        "\n",
        "# 결측치 0으로 대체 및 숫자로 형변환 & 인덱스 설정\n",
        "df.loc[df['Amount'] == '-', 'Amount'] = 0\n",
        "df.Amount = pd.to_numeric(df.Amount)\n",
        "df.set_index('People', inplace=True)"
      ],
      "execution_count": 2,
      "outputs": []
    },
    {
      "cell_type": "code",
      "metadata": {
        "id": "PEap90Mnx7PJ"
      },
      "source": [
        "# People 내의 값을 넣으면 그 사람에 해당하는 총합을 산출하는 함수\n",
        "def total(person):\n",
        "  price = df.loc[person, 'Price']\n",
        "  amount = df.loc[person, 'Amount']\n",
        "  p = np.array(price)\n",
        "  a = np.array(amount)\n",
        "  return np.dot(p, a)"
      ],
      "execution_count": 3,
      "outputs": []
    },
    {
      "cell_type": "code",
      "metadata": {
        "id": "CXCHmNbAy65Z",
        "outputId": "d8b36638-acd4-4fd8-d947-9f748ff779c5",
        "colab": {
          "base_uri": "https://localhost:8080/"
        }
      },
      "source": [
        "# People에서 각각의 고유한 값을 가져오기\n",
        "people = []\n",
        "for value in df.index:\n",
        "  if value not in people: \n",
        "    people.append(value)\n",
        "\n",
        "people"
      ],
      "execution_count": 4,
      "outputs": [
        {
          "output_type": "execute_result",
          "data": {
            "text/plain": [
              "['X', 'Y', 'Z']"
            ]
          },
          "metadata": {},
          "execution_count": 4
        }
      ]
    },
    {
      "cell_type": "code",
      "metadata": {
        "id": "BYDVqsat1jh-",
        "outputId": "4b5192e5-7b98-4168-ef34-5de49e93b17a",
        "colab": {
          "base_uri": "https://localhost:8080/"
        }
      },
      "source": [
        "res = []\n",
        "for person in people:\n",
        "  res.append(total(person))\n",
        "\n",
        "res\n",
        "\n",
        "# 참고\n",
        "# name = np.array([100, 500, 250, 50])\n",
        "\n",
        "# X = np.array([35, 10, 25, 40])\n",
        "# Y = np.array([0, 50, 50, 0])\n",
        "# Z = np.array([0, 0, 100, 0])\n",
        "\n",
        "# res = [np.dot(name, person) for person in (X, Y, Z)]"
      ],
      "execution_count": 5,
      "outputs": [
        {
          "output_type": "execute_result",
          "data": {
            "text/plain": [
              "[16750, 37500, 25000]"
            ]
          },
          "metadata": {},
          "execution_count": 5
        }
      ]
    },
    {
      "cell_type": "markdown",
      "metadata": {
        "id": "dMgAVgIuGe_B"
      },
      "source": [
        "## 2. Norms\n",
        "\n",
        "주어진 값 $x_0, x_1, ... x_n$ 를 element로 갖는 벡터 $v$에 대하여 \n",
        "\n",
        "$L_1$ Norm 의 정의는 다음과 같습니다. \n",
        "\n",
        "$|v| = |x_0| + |x_1| + ... + |x_n|$\n",
        "\n",
        "$L_2$ Norm 의 정의는 다음과 같습니다.\n",
        "\n",
        "$||v|| = \\sqrt {{x_0}^2 + {x_1}^2 + ... + {x_n}^2}$\n",
        "\n",
        "이를 참조하여 주어진 벡터에 대해서 $L_2$ Norm 의 값과 $L_1$ Norm 의 값의 차이(**절대값**)를 계산하는 함수를 만드세요.\n",
        "\n"
      ]
    },
    {
      "cell_type": "code",
      "metadata": {
        "id": "XrYfAExIGemC"
      },
      "source": [
        "def NormDif(v): # v = np.array()\n",
        "  l_1 = sum(np.abs(v))\n",
        "  l_2 = np.sqrt(sum(np.square(v)))\n",
        "  return np.abs(l_2 - l_1)"
      ],
      "execution_count": 6,
      "outputs": []
    },
    {
      "cell_type": "code",
      "metadata": {
        "id": "0aRuKzeX3yxQ",
        "outputId": "bc726e56-f85c-48a5-be55-86458b34813f",
        "colab": {
          "base_uri": "https://localhost:8080/"
        }
      },
      "source": [
        "ex = np.array([100, 500, 250, 50])\n",
        "NormDif(ex)"
      ],
      "execution_count": 7,
      "outputs": [
        {
          "output_type": "execute_result",
          "data": {
            "text/plain": [
              "329.912287450431"
            ]
          },
          "metadata": {},
          "execution_count": 7
        }
      ]
    },
    {
      "cell_type": "markdown",
      "metadata": {
        "id": "VBJHWdyalU4G"
      },
      "source": [
        "## 3. Errors\n",
        "\n",
        "\n",
        "\n",
        "- 2개의 벡터와, error의 타입을 입력받아 그 결과값을 계산하는 함수를 작성하세요.\n",
        "\n",
        "- 여기서 error의 타입은 `MSE`, `MAE` 2가지 입니다.\n",
        "\n"
      ]
    },
    {
      "cell_type": "code",
      "metadata": {
        "id": "LQy8_pEUHHDC"
      },
      "source": [
        "def error(x, y, type) :\n",
        "  if type == 'MSE':\n",
        "    result = sum(np.square(x-y))/len(x)\n",
        "  elif type == 'MAE':\n",
        "    result = sum(np.abs(x-y))/len(x)\n",
        "  else:\n",
        "    result = 'type error'\n",
        "  return result"
      ],
      "execution_count": 8,
      "outputs": []
    },
    {
      "cell_type": "code",
      "metadata": {
        "id": "vvBJ5yup6YsF",
        "outputId": "0fa4d23c-4f47-46ac-aca2-e043dc1c2f6a",
        "colab": {
          "base_uri": "https://localhost:8080/"
        }
      },
      "source": [
        "ex1 = np.array([0, 50, 50, 0])\n",
        "ex2 = np.array([0, 0, 100, 0])\n",
        "error(ex1, ex2, 'MSE'), error(ex1, ex2, 'MAE')"
      ],
      "execution_count": 9,
      "outputs": [
        {
          "output_type": "execute_result",
          "data": {
            "text/plain": [
              "(1250.0, 25.0)"
            ]
          },
          "metadata": {},
          "execution_count": 9
        }
      ]
    },
    {
      "cell_type": "markdown",
      "metadata": {
        "id": "l2Teph_aS16e"
      },
      "source": [
        "# 4. Inverse\n",
        "\n",
        "- 주어진 matrix에 대해서 inverse matrix를 계산하여 반환하는 함수를 작성하세요. \n",
        "- 이 때 inverse 계산이 불가능 한 경우 `-1` 을 반환합니다."
      ]
    },
    {
      "cell_type": "code",
      "metadata": {
        "id": "1hseshZkS1eX"
      },
      "source": [
        "def myInverse(m) : # m = np.array()\n",
        "  try:\n",
        "    det = np.linalg.det(m)\n",
        "    return np.linalg.inv(m)\n",
        "  except:\n",
        "    return -1"
      ],
      "execution_count": 10,
      "outputs": []
    },
    {
      "cell_type": "code",
      "metadata": {
        "id": "bfV-SwkL8xA4",
        "outputId": "89fbb92d-46f1-493b-ddea-aae1244927d7",
        "colab": {
          "base_uri": "https://localhost:8080/"
        }
      },
      "source": [
        "ex3 = np.array([1,2,3,4])\n",
        "myInverse(ex3)"
      ],
      "execution_count": 11,
      "outputs": [
        {
          "output_type": "execute_result",
          "data": {
            "text/plain": [
              "-1"
            ]
          },
          "metadata": {},
          "execution_count": 11
        }
      ]
    },
    {
      "cell_type": "code",
      "metadata": {
        "id": "OJyGe21V9HlQ",
        "outputId": "bee09a31-83d7-4b4e-cea2-ebad896acf13",
        "colab": {
          "base_uri": "https://localhost:8080/"
        }
      },
      "source": [
        "ex4 = np.array([[1, 2], [3, 6]])\n",
        "myInverse(ex4)"
      ],
      "execution_count": 12,
      "outputs": [
        {
          "output_type": "execute_result",
          "data": {
            "text/plain": [
              "-1"
            ]
          },
          "metadata": {},
          "execution_count": 12
        }
      ]
    },
    {
      "cell_type": "code",
      "metadata": {
        "id": "7LzSTvggCnmK",
        "outputId": "e8ac5fa8-7344-491f-d725-edc8c865c279",
        "colab": {
          "base_uri": "https://localhost:8080/"
        }
      },
      "source": [
        "ex5 = [[0,2],[2,0]] ## np.array() 로 만들지 않아도 결과는 array 형태로 나옴\n",
        "myInverse(ex5)"
      ],
      "execution_count": 13,
      "outputs": [
        {
          "output_type": "execute_result",
          "data": {
            "text/plain": [
              "array([[0. , 0.5],\n",
              "       [0.5, 0. ]])"
            ]
          },
          "metadata": {},
          "execution_count": 13
        }
      ]
    },
    {
      "cell_type": "markdown",
      "metadata": {
        "id": "V0iTO4McYjtk"
      },
      "source": [
        "# 🔥 도전과제 \n",
        "\n"
      ]
    },
    {
      "cell_type": "markdown",
      "metadata": {
        "id": "3p45qAIGFTBZ"
      },
      "source": [
        "다음 링크의 내용을 참조하여 **Cramer's rule**을 사용해 $x_1$, $x_2$, $x_3$의 값을 구하세요.\n",
        "\n",
        "<https://youtu.be/6StS7VjtuGI>\n",
        "<https://youtu.be/YFzpYBvevgA>\n",
        "\n",
        "\n",
        "$x_1$ + $2x_3$ = 6\n",
        "\n",
        "$-3x_1$ + $4x_2$ + $6x_3$ = 30\n",
        "\n",
        "$-x_1$ $-2x_2$ + $3x_3$ = 8\n",
        "\n"
      ]
    },
    {
      "cell_type": "code",
      "metadata": {
        "id": "qTDdDlphCRJj"
      },
      "source": [
        "# 연립방정식을 행렬로 만들기\n",
        "A = np.array([\n",
        "     [1, 0, 2],\n",
        "     [-3, 4, 6],\n",
        "     [-1, -2, 3]\n",
        "])\n",
        "\n",
        "B = np.array([\n",
        "     [6],\n",
        "     [30],\n",
        "     [8]\n",
        "])"
      ],
      "execution_count": 14,
      "outputs": []
    },
    {
      "cell_type": "code",
      "metadata": {
        "id": "1LfmRxoVLh-K"
      },
      "source": [
        "# 크라메르 공식 함수로 구현\n",
        "def cramer(A, B):\n",
        "  x_arr = [] # 미지수 결과값 넣을 리스트\n",
        "  det_a = np.linalg.det(A) # 좌변의 미지수에 붙어 있는 행렬 A의 행렬식 구하기\n",
        "  \n",
        "  for i in range(len(B)): # 미지수 개수 = 행렬 B의 길이 이므로 B의 길이만큼 반복\n",
        "    n = A.copy() # 행렬 A 그대로 가져오기(각 미지수에 해당하는 열 값 바꾸기 위함)\n",
        "    n[:, i] = B[:, 0] # 미지수 위치에 해당되는 열 값 바꾸기\n",
        "    det_sub = np.linalg.det(n) # 열 값 바꾼 행렬의 행렬식 구하기\n",
        "    result = det_sub / det_a\n",
        "    x_arr.append(result)\n",
        "  \n",
        "  return x_arr"
      ],
      "execution_count": 15,
      "outputs": []
    },
    {
      "cell_type": "code",
      "metadata": {
        "id": "AgL6YqWuiEEv",
        "outputId": "f496fb74-3bf6-42fc-b2d7-023c41d6fc3c",
        "colab": {
          "base_uri": "https://localhost:8080/"
        }
      },
      "source": [
        "cramer(A, B)"
      ],
      "execution_count": 16,
      "outputs": [
        {
          "output_type": "execute_result",
          "data": {
            "text/plain": [
              "[-0.9090909090909088, 1.6363636363636358, 3.4545454545454533]"
            ]
          },
          "metadata": {},
          "execution_count": 16
        }
      ]
    },
    {
      "cell_type": "code",
      "metadata": {
        "id": "4lO2GDnunHI7",
        "outputId": "ab7138ef-823c-457e-8600-75f7536e9422",
        "colab": {
          "base_uri": "https://localhost:8080/"
        }
      },
      "source": [
        "# 4차 이상의 행렬도 동일한 방식으로 계산됨\n",
        "C = np.array([\n",
        "     [1, 0, 2, 5],\n",
        "     [-3, 4, 6, -1],\n",
        "     [-1, -2, 3, 7],\n",
        "     [5, 1, -4, -6]\n",
        "])\n",
        "\n",
        "D = np.array([\n",
        "     [6],\n",
        "     [30],\n",
        "     [8],\n",
        "     [20]\n",
        "])\n",
        "\n",
        "cramer(C, D)"
      ],
      "execution_count": 17,
      "outputs": [
        {
          "output_type": "execute_result",
          "data": {
            "text/plain": [
              "[10.141592920353984,\n",
              " -10.389380530973444,\n",
              " 15.80530973451328,\n",
              " -7.1504424778761075]"
            ]
          },
          "metadata": {},
          "execution_count": 17
        }
      ]
    }
  ]
}