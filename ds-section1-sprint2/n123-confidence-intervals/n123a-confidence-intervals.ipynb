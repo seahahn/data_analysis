{
  "nbformat": 4,
  "nbformat_minor": 0,
  "metadata": {
    "colab": {
      "name": "n123a-confidence-intervals.ipynb",
      "provenance": [],
      "collapsed_sections": []
    },
    "kernelspec": {
      "display_name": "Python 3",
      "language": "python",
      "name": "python3"
    },
    "language_info": {
      "codemirror_mode": {
        "name": "ipython",
        "version": 3
      },
      "file_extension": ".py",
      "mimetype": "text/x-python",
      "name": "python",
      "nbconvert_exporter": "python",
      "pygments_lexer": "ipython3",
      "version": "3.9.4"
    }
  },
  "cells": [
    {
      "cell_type": "markdown",
      "metadata": {
        "id": "g_c3L9CeANiJ"
      },
      "source": [
        "<img src='https://i.imgur.com/RDAD11M.png' width = '200' align = 'right'>\n",
        "\n",
        "## *DATA SCIENCE / SECTION 1 / SPRINT 2 / NOTE 3*\n",
        "\n",
        "# 📝 Assignment\n",
        "\n",
        "# 신뢰구간\n",
        "\n",
        "서울시 기간별 시간평균 대기환경 정보 데이터셋을 이용합니다.\n",
        "\n",
        "<img src='https://user-images.githubusercontent.com/6457691/89852263-740add80-dbc9-11ea-9e6b-8059b3f7e479.png'>\n",
        "\n",
        "<https://data.seoul.go.kr/dataList/OA-2221/S/1/datasetView.do>\n",
        "\n",
        "### `2020년 3월`의 송파구 데이터만 사용합니다.\n",
        "\n"
      ]
    },
    {
      "cell_type": "markdown",
      "metadata": {
        "id": "9BT9olD8zGyP"
      },
      "source": [
        "## 1. 데이터셋을 불러오세요\n",
        "\n",
        "  - 데이터는 `df`라는 변수에 저장되어야 하며\n",
        "  - Feature로는 `측정일시`, `측정소명`, `오존(ppm)` 만 사용합니다.\n",
        "  - 인덱스를 초기화 합니다."
      ]
    },
    {
      "cell_type": "code",
      "metadata": {
        "id": "C1Tql4HDGefU"
      },
      "source": [
        "import pandas as pd\n",
        "import numpy as np\n",
        "from scipy.stats import t\n",
        "import matplotlib.pyplot as plt\n",
        "import seaborn as sns"
      ],
      "execution_count": 1,
      "outputs": []
    },
    {
      "cell_type": "code",
      "metadata": {
        "id": "hslYcGOGCMdM",
        "outputId": "2187abb8-c4d2-46d0-f9c4-b4b1de9b1b98",
        "colab": {
          "base_uri": "https://localhost:8080/",
          "height": 417
        }
      },
      "source": [
        "data_url = 'https://docs.google.com/uc?export=download&id=1dfb9UyAlRybZw09vaxxvYKPcpIAKS6zl'\n",
        "\n",
        "df = pd.read_csv(data_url, usecols = ['측정일시', '측정소명', '오존(ppm)'], encoding='cp949')\n",
        "\n",
        "df = df[df['측정소명'].isin(['송파구'])].reset_index(drop=True)\n",
        "df"
      ],
      "execution_count": 2,
      "outputs": [
        {
          "output_type": "execute_result",
          "data": {
            "text/html": [
              "<div>\n",
              "<style scoped>\n",
              "    .dataframe tbody tr th:only-of-type {\n",
              "        vertical-align: middle;\n",
              "    }\n",
              "\n",
              "    .dataframe tbody tr th {\n",
              "        vertical-align: top;\n",
              "    }\n",
              "\n",
              "    .dataframe thead th {\n",
              "        text-align: right;\n",
              "    }\n",
              "</style>\n",
              "<table border=\"1\" class=\"dataframe\">\n",
              "  <thead>\n",
              "    <tr style=\"text-align: right;\">\n",
              "      <th></th>\n",
              "      <th>측정일시</th>\n",
              "      <th>측정소명</th>\n",
              "      <th>오존(ppm)</th>\n",
              "    </tr>\n",
              "  </thead>\n",
              "  <tbody>\n",
              "    <tr>\n",
              "      <th>0</th>\n",
              "      <td>202003312300</td>\n",
              "      <td>송파구</td>\n",
              "      <td>0.020</td>\n",
              "    </tr>\n",
              "    <tr>\n",
              "      <th>1</th>\n",
              "      <td>202003312200</td>\n",
              "      <td>송파구</td>\n",
              "      <td>0.021</td>\n",
              "    </tr>\n",
              "    <tr>\n",
              "      <th>2</th>\n",
              "      <td>202003312100</td>\n",
              "      <td>송파구</td>\n",
              "      <td>0.025</td>\n",
              "    </tr>\n",
              "    <tr>\n",
              "      <th>3</th>\n",
              "      <td>202003312000</td>\n",
              "      <td>송파구</td>\n",
              "      <td>0.032</td>\n",
              "    </tr>\n",
              "    <tr>\n",
              "      <th>4</th>\n",
              "      <td>202003311900</td>\n",
              "      <td>송파구</td>\n",
              "      <td>0.034</td>\n",
              "    </tr>\n",
              "    <tr>\n",
              "      <th>...</th>\n",
              "      <td>...</td>\n",
              "      <td>...</td>\n",
              "      <td>...</td>\n",
              "    </tr>\n",
              "    <tr>\n",
              "      <th>739</th>\n",
              "      <td>202003010400</td>\n",
              "      <td>송파구</td>\n",
              "      <td>0.002</td>\n",
              "    </tr>\n",
              "    <tr>\n",
              "      <th>740</th>\n",
              "      <td>202003010300</td>\n",
              "      <td>송파구</td>\n",
              "      <td>0.002</td>\n",
              "    </tr>\n",
              "    <tr>\n",
              "      <th>741</th>\n",
              "      <td>202003010200</td>\n",
              "      <td>송파구</td>\n",
              "      <td>0.002</td>\n",
              "    </tr>\n",
              "    <tr>\n",
              "      <th>742</th>\n",
              "      <td>202003010100</td>\n",
              "      <td>송파구</td>\n",
              "      <td>0.002</td>\n",
              "    </tr>\n",
              "    <tr>\n",
              "      <th>743</th>\n",
              "      <td>202003010000</td>\n",
              "      <td>송파구</td>\n",
              "      <td>0.002</td>\n",
              "    </tr>\n",
              "  </tbody>\n",
              "</table>\n",
              "<p>744 rows × 3 columns</p>\n",
              "</div>"
            ],
            "text/plain": [
              "             측정일시 측정소명  오존(ppm)\n",
              "0    202003312300  송파구    0.020\n",
              "1    202003312200  송파구    0.021\n",
              "2    202003312100  송파구    0.025\n",
              "3    202003312000  송파구    0.032\n",
              "4    202003311900  송파구    0.034\n",
              "..            ...  ...      ...\n",
              "739  202003010400  송파구    0.002\n",
              "740  202003010300  송파구    0.002\n",
              "741  202003010200  송파구    0.002\n",
              "742  202003010100  송파구    0.002\n",
              "743  202003010000  송파구    0.002\n",
              "\n",
              "[744 rows x 3 columns]"
            ]
          },
          "metadata": {},
          "execution_count": 2
        }
      ]
    },
    {
      "cell_type": "markdown",
      "metadata": {
        "id": "wOQ-9E8uYcni"
      },
      "source": [
        "## 2. 데이터셋으로 부터 2개의 샘플을 생성하세요.\n",
        "\n",
        "- `s1`에 저장된 1개는 20개의 데이터, `s2`에 저장된 다른 1개는 200개이며 \n",
        "- 두 경우 모두 `random_state`로 `42`를 설정합니다."
      ]
    },
    {
      "cell_type": "code",
      "metadata": {
        "id": "QP55yQ07GcMb"
      },
      "source": [
        "s1 = df.sample(n=20, random_state=42)\n",
        "s2 = df.sample(n=200, random_state=42)"
      ],
      "execution_count": 3,
      "outputs": []
    },
    {
      "cell_type": "markdown",
      "metadata": {
        "id": "y2Rz-8O-YmF9"
      },
      "source": [
        "## 3. 두 샘플데이터에 대해서 `오존(ppm)`항목의 표본 평균을 계산하세요."
      ]
    },
    {
      "cell_type": "code",
      "metadata": {
        "id": "CdV4Tl1hGa6z",
        "outputId": "b32e7c7e-9025-4e22-c8f7-3273e8070d86",
        "colab": {
          "base_uri": "https://localhost:8080/"
        }
      },
      "source": [
        "s1_mean = s1['오존(ppm)'].mean()\n",
        "print(s1_mean)\n",
        "s2_mean = s2['오존(ppm)'].mean()\n",
        "print(s2_mean)"
      ],
      "execution_count": 4,
      "outputs": [
        {
          "output_type": "stream",
          "name": "stdout",
          "text": [
            "0.021750000000000002\n",
            "0.02291999999999995\n"
          ]
        }
      ]
    },
    {
      "cell_type": "markdown",
      "metadata": {
        "id": "9tIHBlM_SyGR"
      },
      "source": [
        "## 4. 위에서 추정한 값들을 바탕으로, 95%에 해당하는 신뢰구간을 `CI1과` `CI2`에 계산하세요.\n",
        "\n",
        "  - `ddof`는 `1`을 사용합니다."
      ]
    },
    {
      "cell_type": "code",
      "metadata": {
        "id": "rjq59rjMGZ-w",
        "outputId": "5cdc0476-acaf-478d-e7b3-8aad740f56c4",
        "colab": {
          "base_uri": "https://localhost:8080/"
        }
      },
      "source": [
        "# 표본의 크기\n",
        "n1 = len(s1)\n",
        "n2 = len(s2)\n",
        "\n",
        "# 자유도\n",
        "dof1 = n1-1\n",
        "dof2 = n2-1\n",
        "\n",
        "# 평균의 평균\n",
        "s1_m_mean = np.mean(s1_mean)\n",
        "s2_m_mean = np.mean(s2_mean)\n",
        "\n",
        "# 표본의 표준편차\n",
        "s1_std = np.std(s1['오존(ppm)'], ddof = 1)\n",
        "s2_std = np.std(s2['오존(ppm)'], ddof = 1)\n",
        "\n",
        "# 표준 오차\n",
        "std_err1 = s1_std / n1 ** 0.5 # sample_std / sqrt(n)\n",
        "std_err2 = s2_std / n2 ** 0.5 # sample_std / sqrt(n)\n",
        "\n",
        "CI1 = t.interval(.95, dof1, loc = s1_m_mean, scale = std_err1)\n",
        "CI2 = t.interval(.95, dof2, loc = s2_m_mean, scale = std_err2)\n",
        "print(\"CI1 95% 신뢰구간: \", CI1)\n",
        "print(\"CI1 95% 신뢰구간: \", CI2)\n",
        "\n",
        "# https://docs.scipy.org/doc/scipy/reference/generated/scipy.stats.t.html"
      ],
      "execution_count": 5,
      "outputs": [
        {
          "output_type": "stream",
          "name": "stdout",
          "text": [
            "CI1 95% 신뢰구간:  (0.015060460813957323, 0.02843953918604268)\n",
            "CI1 95% 신뢰구간:  (0.021006515262626202, 0.0248334847373737)\n"
          ]
        }
      ]
    },
    {
      "cell_type": "code",
      "metadata": {
        "id": "B-0Mb5-NA9oS"
      },
      "source": [
        "# 참고\n",
        "# from scipy import stats\n",
        "\n",
        "# def confidence_interval(data, confidence = 0.95):\n",
        "    \n",
        "#     data = np.array(data)\n",
        "#     mean = np.mean(data)\n",
        "#     n = len(data)\n",
        "\n",
        "#     # standard error of the mean.\n",
        "#     # scipy.stats.sem(a, axis=0, ddof=1, nan_policy='propagate')\n",
        "#     stderr = stats.sem(data) \n",
        "\n",
        "#     # ddof = delta 자유도. 표본의 편향을 조정할 자유도입니다. 기본값은 1\n",
        "#     interval = stderr * stats.t.ppf( (1 + confidence) / 2 , n - 1)\n",
        "\n",
        "#     # 리턴 값으로는 평균에서 구간을 빼고, 더한 값 두개를 리턴합니다.\n",
        "#     return (mean - interval, mean + interval)"
      ],
      "execution_count": 6,
      "outputs": []
    },
    {
      "cell_type": "markdown",
      "metadata": {
        "id": "HsTtONTNawFi"
      },
      "source": [
        "## 5. `plt.bar`를 사용하여 다음과 같은 신뢰구간 시각화를 그리세요.\n",
        "  - 이때 보라색 선에 해당 하는 값을 `pop_mean`에 저장하세요.\n",
        "  - `colors = '#4000c7'`을 사용하세요.\n",
        "\n",
        "<img src='https://i.imgur.com/3orh30m.png'>\n",
        "\n",
        "\n",
        "\n",
        "\n"
      ]
    },
    {
      "cell_type": "code",
      "metadata": {
        "id": "skjzyQaJGIIw",
        "outputId": "135d56c3-4122-4901-d9f2-62d6f2d1b16f",
        "colab": {
          "base_uri": "https://localhost:8080/",
          "height": 282
        }
      },
      "source": [
        "pop_mean = df['오존(ppm)'].mean()\n",
        "print(pop_mean)\n",
        "\n",
        "x = np.arange(2)\n",
        "x_label = ['s1', 's2']\n",
        "values = [s1_mean, s2_mean]\n",
        "yerrs = [std_err1, std_err2]\n",
        "colors = ['#4C92C3', '#FF983E']\n",
        "\n",
        "plt.axhline(pop_mean, 0.05, 0.95, color='#4000c7', linestyle='dashed', linewidth=1)\n",
        "plt.errorbar(x, values, yerr=yerrs, fmt='|k', ecolor='black', capsize=7)\n",
        "plt.bar(x, values, xerr=0.2, color=colors)\n",
        "plt.xticks(x, x_label)\n",
        "\n",
        "plt.show()"
      ],
      "execution_count": 7,
      "outputs": [
        {
          "output_type": "stream",
          "name": "stdout",
          "text": [
            "0.023588709677419318\n"
          ]
        },
        {
          "output_type": "display_data",
          "data": {
            "image/png": "[encoded data removed]",
            "text/plain": [
              "<Figure size 432x288 with 1 Axes>"
            ]
          },
          "metadata": {
            "needs_background": "light"
          }
        }
      ]
    },
    {
      "cell_type": "code",
      "metadata": {
        "id": "xXKPNzHsA7IW"
      },
      "source": [
        "# 참고\n",
        "# fig = plt.figure()\n",
        "# ax = fig.add_axes([0,0,1,1])\n",
        "\n",
        "\n",
        "# sample = ['s1', 's2']\n",
        "# pop_mean = np.mean(df['오존(ppm)'])\n",
        "\n",
        "# plt.bar(x='s1', height=s1_mean, yerr=CI1[0]-s1_mean, capsize=10)\n",
        "# plt.bar(x='s2', height=s2_mean, yerr=CI2[0]-s2_mean, capsize=10)\n",
        "# plt.axhline(pop_mean, linestyle='--', color='#4000c7')\n",
        "# plt.axhline(s1_mean, color = 'black', xmin = 0.15, xmax = 0.35)\n",
        "# plt.axhline(s2_mean, color = 'black', xmin = 0.65, xmax = 0.85)\n",
        "\n",
        "# plt.show()"
      ],
      "execution_count": 8,
      "outputs": []
    },
    {
      "cell_type": "markdown",
      "metadata": {
        "id": "cvtnsGLJa4bW"
      },
      "source": [
        "# 🔥 도전과제\n",
        "> 아래 두 문제를 모두 다 하시면 됩니다."
      ]
    },
    {
      "cell_type": "markdown",
      "metadata": {
        "id": "ie_xQYk12TbX"
      },
      "source": [
        "## 1. [plotly](https://plotly.com/) 나 [seaborn](http://seaborn.pydata.org/index.html), [bokeh](https://docs.bokeh.org/en/latest/index.html) 등 다른 시각화 라이브러리를 선택하여 앞에서 그렸던 신뢰구간을 해당 라이브러리를 선택하여 그려보세요."
      ]
    },
    {
      "cell_type": "code",
      "metadata": {
        "id": "UpFeWb8gy4pr",
        "outputId": "b4f34385-f78f-453c-e3aa-567a2cb09e20",
        "colab": {
          "base_uri": "https://localhost:8080/",
          "height": 417
        }
      },
      "source": [
        "s_1 = s1[['오존(ppm)']].reset_index()\n",
        "s_1['index'] = 's1'\n",
        "s_2 = s2[['오존(ppm)']].reset_index()\n",
        "s_2['index'] = 's2'\n",
        "\n",
        "s_1 = s_1.melt(id_vars = 'index', value_vars = ['오존(ppm)'])\n",
        "s_2 = s_2.melt(id_vars = 'index', value_vars = ['오존(ppm)'])\n",
        "\n",
        "s = pd.concat([s_1, s_2])\n",
        "s"
      ],
      "execution_count": 9,
      "outputs": [
        {
          "output_type": "execute_result",
          "data": {
            "text/html": [
              "<div>\n",
              "<style scoped>\n",
              "    .dataframe tbody tr th:only-of-type {\n",
              "        vertical-align: middle;\n",
              "    }\n",
              "\n",
              "    .dataframe tbody tr th {\n",
              "        vertical-align: top;\n",
              "    }\n",
              "\n",
              "    .dataframe thead th {\n",
              "        text-align: right;\n",
              "    }\n",
              "</style>\n",
              "<table border=\"1\" class=\"dataframe\">\n",
              "  <thead>\n",
              "    <tr style=\"text-align: right;\">\n",
              "      <th></th>\n",
              "      <th>index</th>\n",
              "      <th>variable</th>\n",
              "      <th>value</th>\n",
              "    </tr>\n",
              "  </thead>\n",
              "  <tbody>\n",
              "    <tr>\n",
              "      <th>0</th>\n",
              "      <td>s1</td>\n",
              "      <td>오존(ppm)</td>\n",
              "      <td>0.021</td>\n",
              "    </tr>\n",
              "    <tr>\n",
              "      <th>1</th>\n",
              "      <td>s1</td>\n",
              "      <td>오존(ppm)</td>\n",
              "      <td>0.020</td>\n",
              "    </tr>\n",
              "    <tr>\n",
              "      <th>2</th>\n",
              "      <td>s1</td>\n",
              "      <td>오존(ppm)</td>\n",
              "      <td>0.002</td>\n",
              "    </tr>\n",
              "    <tr>\n",
              "      <th>3</th>\n",
              "      <td>s1</td>\n",
              "      <td>오존(ppm)</td>\n",
              "      <td>0.009</td>\n",
              "    </tr>\n",
              "    <tr>\n",
              "      <th>4</th>\n",
              "      <td>s1</td>\n",
              "      <td>오존(ppm)</td>\n",
              "      <td>0.044</td>\n",
              "    </tr>\n",
              "    <tr>\n",
              "      <th>...</th>\n",
              "      <td>...</td>\n",
              "      <td>...</td>\n",
              "      <td>...</td>\n",
              "    </tr>\n",
              "    <tr>\n",
              "      <th>195</th>\n",
              "      <td>s2</td>\n",
              "      <td>오존(ppm)</td>\n",
              "      <td>0.022</td>\n",
              "    </tr>\n",
              "    <tr>\n",
              "      <th>196</th>\n",
              "      <td>s2</td>\n",
              "      <td>오존(ppm)</td>\n",
              "      <td>0.026</td>\n",
              "    </tr>\n",
              "    <tr>\n",
              "      <th>197</th>\n",
              "      <td>s2</td>\n",
              "      <td>오존(ppm)</td>\n",
              "      <td>0.031</td>\n",
              "    </tr>\n",
              "    <tr>\n",
              "      <th>198</th>\n",
              "      <td>s2</td>\n",
              "      <td>오존(ppm)</td>\n",
              "      <td>0.002</td>\n",
              "    </tr>\n",
              "    <tr>\n",
              "      <th>199</th>\n",
              "      <td>s2</td>\n",
              "      <td>오존(ppm)</td>\n",
              "      <td>0.034</td>\n",
              "    </tr>\n",
              "  </tbody>\n",
              "</table>\n",
              "<p>220 rows × 3 columns</p>\n",
              "</div>"
            ],
            "text/plain": [
              "    index variable  value\n",
              "0      s1  오존(ppm)  0.021\n",
              "1      s1  오존(ppm)  0.020\n",
              "2      s1  오존(ppm)  0.002\n",
              "3      s1  오존(ppm)  0.009\n",
              "4      s1  오존(ppm)  0.044\n",
              "..    ...      ...    ...\n",
              "195    s2  오존(ppm)  0.022\n",
              "196    s2  오존(ppm)  0.026\n",
              "197    s2  오존(ppm)  0.031\n",
              "198    s2  오존(ppm)  0.002\n",
              "199    s2  오존(ppm)  0.034\n",
              "\n",
              "[220 rows x 3 columns]"
            ]
          },
          "metadata": {},
          "execution_count": 9
        }
      ]
    },
    {
      "cell_type": "code",
      "metadata": {
        "id": "sReVGWfFtHP-",
        "outputId": "8e5ed691-6558-47fa-b82d-652c14b92438",
        "colab": {
          "base_uri": "https://localhost:8080/",
          "height": 265
        }
      },
      "source": [
        "(sns.barplot(x=x_label, y=values, yerr=yerrs, xerr=.2, errwidth=1.5, capsize=0.2)\n",
        ".axhline(pop_mean, 0.05, 0.95, color='#4000c7', linestyle='dashed', linewidth=1))\n",
        "\n",
        "plt.show;"
      ],
      "execution_count": 10,
      "outputs": [
        {
          "output_type": "display_data",
          "data": {
            "image/png": "[encoded data removed]",
            "text/plain": [
              "<Figure size 432x288 with 1 Axes>"
            ]
          },
          "metadata": {
            "needs_background": "light"
          }
        }
      ]
    },
    {
      "cell_type": "markdown",
      "metadata": {
        "id": "rfC_r9kl2VQj"
      },
      "source": [
        "## 2. 위 데이터의 `초미세먼지` 데이터를 사용하여, 큰 수의 법칙과, 중심극한정리를 구현하는 코드를 작성하세요."
      ]
    },
    {
      "cell_type": "code",
      "metadata": {
        "id": "3WzqW4jT3AvR",
        "outputId": "45d353db-d733-4d57-ac85-f460c64a5af0",
        "colab": {
          "base_uri": "https://localhost:8080/",
          "height": 203
        }
      },
      "source": [
        "# 초미세먼지 데이터 준비\n",
        "df2 = pd.read_csv(data_url, usecols=['초미세먼지(㎍/㎥)'], encoding='cp949')\n",
        "\n",
        "df2.head()"
      ],
      "execution_count": 11,
      "outputs": [
        {
          "output_type": "execute_result",
          "data": {
            "text/html": [
              "<div>\n",
              "<style scoped>\n",
              "    .dataframe tbody tr th:only-of-type {\n",
              "        vertical-align: middle;\n",
              "    }\n",
              "\n",
              "    .dataframe tbody tr th {\n",
              "        vertical-align: top;\n",
              "    }\n",
              "\n",
              "    .dataframe thead th {\n",
              "        text-align: right;\n",
              "    }\n",
              "</style>\n",
              "<table border=\"1\" class=\"dataframe\">\n",
              "  <thead>\n",
              "    <tr style=\"text-align: right;\">\n",
              "      <th></th>\n",
              "      <th>초미세먼지(㎍/㎥)</th>\n",
              "    </tr>\n",
              "  </thead>\n",
              "  <tbody>\n",
              "    <tr>\n",
              "      <th>0</th>\n",
              "      <td>22</td>\n",
              "    </tr>\n",
              "    <tr>\n",
              "      <th>1</th>\n",
              "      <td>21</td>\n",
              "    </tr>\n",
              "    <tr>\n",
              "      <th>2</th>\n",
              "      <td>24</td>\n",
              "    </tr>\n",
              "    <tr>\n",
              "      <th>3</th>\n",
              "      <td>18</td>\n",
              "    </tr>\n",
              "    <tr>\n",
              "      <th>4</th>\n",
              "      <td>21</td>\n",
              "    </tr>\n",
              "  </tbody>\n",
              "</table>\n",
              "</div>"
            ],
            "text/plain": [
              "   초미세먼지(㎍/㎥)\n",
              "0          22\n",
              "1          21\n",
              "2          24\n",
              "3          18\n",
              "4          21"
            ]
          },
          "metadata": {},
          "execution_count": 11
        }
      ]
    },
    {
      "cell_type": "code",
      "metadata": {
        "id": "VZu179MU9us5",
        "outputId": "e5ebc2b1-369a-4306-a41c-f650b27131a5",
        "colab": {
          "base_uri": "https://localhost:8080/"
        }
      },
      "source": [
        "# 큰 수의 법칙 구현\n",
        "# sample 데이터의 수가 커질 수록, sample의 통계치는 점점 모집단의 모수와 같아진다.\n",
        "\n",
        "# 모집단의 평균과 분산\n",
        "print(df2.mean())\n",
        "print(df2.var())\n",
        "\n",
        "# 표본 크기를 입력하면 이에 해당하는 평균과 분산을 출력하는 함수 선언\n",
        "def checkStats(num):\n",
        "  print(df2.sample(n=num, random_state=43).mean())\n",
        "  print(df2.sample(n=num, random_state=43).var())\n",
        "  print('-------------------')"
      ],
      "execution_count": 12,
      "outputs": [
        {
          "output_type": "stream",
          "name": "stdout",
          "text": [
            "초미세먼지(㎍/㎥)    24.649247\n",
            "dtype: float64\n",
            "초미세먼지(㎍/㎥)    192.02321\n",
            "dtype: float64\n"
          ]
        }
      ]
    },
    {
      "cell_type": "code",
      "metadata": {
        "id": "vhNa8twp-NkG",
        "outputId": "777acc6c-8e11-4168-8b84-b0164610feaa",
        "colab": {
          "base_uri": "https://localhost:8080/"
        }
      },
      "source": [
        "checkStats(10)\n",
        "checkStats(100)\n",
        "checkStats(1000)\n",
        "checkStats(10000)\n",
        "\n",
        "# 표본의 크기가 커질 수록 표본의 통계치와 모집단의 통계치가 가까워진다."
      ],
      "execution_count": 13,
      "outputs": [
        {
          "output_type": "stream",
          "name": "stdout",
          "text": [
            "초미세먼지(㎍/㎥)    35.3\n",
            "dtype: float64\n",
            "초미세먼지(㎍/㎥)    104.455556\n",
            "dtype: float64\n",
            "-------------------\n",
            "초미세먼지(㎍/㎥)    26.43\n",
            "dtype: float64\n",
            "초미세먼지(㎍/㎥)    185.338485\n",
            "dtype: float64\n",
            "-------------------\n",
            "초미세먼지(㎍/㎥)    25.364\n",
            "dtype: float64\n",
            "초미세먼지(㎍/㎥)    188.04555\n",
            "dtype: float64\n",
            "-------------------\n",
            "초미세먼지(㎍/㎥)    24.4625\n",
            "dtype: float64\n",
            "초미세먼지(㎍/㎥)    193.987192\n",
            "dtype: float64\n",
            "-------------------\n"
          ]
        }
      ]
    },
    {
      "cell_type": "code",
      "metadata": {
        "id": "av6mBs2UAIVK"
      },
      "source": [
        "# 중심극한정리 구현\n",
        "# Sample 데이터의 수가 많아질 수록, sample의 평균은 정규분포에 근사한 형태로 나타난다\n",
        "\n",
        "# 표본 평균의 크기에 따라 정규 분포에 가까워지는 형태를 확인하기 위한 함수\n",
        "# 입력된 숫자(num)만큼 표본 평균을 구하여 리스트에 저장 후 이를 히스토그램으로 출력함\n",
        "def checkCLTbyNum(num):\n",
        "  sample_means = []\n",
        "  for x in range(0, num):\n",
        "    sample = df2.sample(n=100).mean()\n",
        "    sample_means.append(sample.mean())\n",
        "\n",
        "  pd.DataFrame(sample_means).hist(color = '#4000c7');"
      ],
      "execution_count": 14,
      "outputs": []
    },
    {
      "cell_type": "code",
      "metadata": {
        "id": "gKqeluGDDO8q",
        "outputId": "8ad79681-4116-412d-bcb5-772e935bd51a",
        "colab": {
          "base_uri": "https://localhost:8080/",
          "height": 1000
        }
      },
      "source": [
        "checkCLTbyNum(10)\n",
        "checkCLTbyNum(100)\n",
        "checkCLTbyNum(1000)\n",
        "checkCLTbyNum(3000)\n",
        "\n",
        "# 표본 평균을 많이 가져올 수록 정규 분포에 가까워진다"
      ],
      "execution_count": 15,
      "outputs": [
        {
          "output_type": "display_data",
          "data": {
            "image/png": "[encoded data removed]",
            "text/plain": [
              "<Figure size 432x288 with 1 Axes>"
            ]
          },
          "metadata": {
            "needs_background": "light"
          }
        },
        {
          "output_type": "display_data",
          "data": {
            "image/png": "[encoded data removed]",
            "text/plain": [
              "<Figure size 432x288 with 1 Axes>"
            ]
          },
          "metadata": {
            "needs_background": "light"
          }
        },
        {
          "output_type": "display_data",
          "data": {
            "image/png": "[encoded data removed]",
            "text/plain": [
              "<Figure size 432x288 with 1 Axes>"
            ]
          },
          "metadata": {
            "needs_background": "light"
          }
        },
        {
          "output_type": "display_data",
          "data": {
            "image/png": "[encoded data removed]",
            "text/plain": [
              "<Figure size 432x288 with 1 Axes>"
            ]
          },
          "metadata": {
            "needs_background": "light"
          }
        }
      ]
    },
    {
      "cell_type": "code",
      "metadata": {
        "id": "5ZOuPyLSEIZG"
      },
      "source": [
        "# 표본의 크기에 따른 표본 평균의 분포 형태 변화 확인하기\n",
        "sample_means_s = []\n",
        "sample_means_m = []\n",
        "sample_means_l = []\n",
        "\n",
        "for x in range(0, 1000):\n",
        "  sample_s = df2.sample(n=10).mean()\n",
        "  sample_m = df2.sample(n=100).mean()\n",
        "  sample_l = df2.sample(n=1000).mean()\n",
        "  sample_means_s.append(sample_s.mean())\n",
        "  sample_means_m.append(sample_m.mean())\n",
        "  sample_means_l.append(sample_l.mean())"
      ],
      "execution_count": 16,
      "outputs": []
    },
    {
      "cell_type": "code",
      "metadata": {
        "id": "wz0RZw8yEwZa",
        "outputId": "e06aa4a2-f652-4e77-d27d-30d9e8527f08",
        "colab": {
          "base_uri": "https://localhost:8080/",
          "height": 266
        }
      },
      "source": [
        "sns.histplot(sample_means_s, color = '#e74c3c')\n",
        "sns.histplot(sample_means_m, color = '#f39c12')\n",
        "sns.histplot(sample_means_l, color = '#27ae60');\n",
        "# sample_means_s -> red \n",
        "# sample_means_m -> orange\n",
        "# sample_means_l -> green\n",
        "\n",
        "# 표본을 많이 추출할 수록 표본 평균 분포의 편차가 줄어든다"
      ],
      "execution_count": 17,
      "outputs": [
        {
          "output_type": "display_data",
          "data": {
            "image/png": "[encoded data removed]",
            "text/plain": [
              "<Figure size 432x288 with 1 Axes>"
            ]
          },
          "metadata": {
            "needs_background": "light"
          }
        }
      ]
    }
  ]
}