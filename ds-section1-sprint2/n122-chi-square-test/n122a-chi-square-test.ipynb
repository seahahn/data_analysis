{
  "nbformat": 4,
  "nbformat_minor": 0,
  "metadata": {
    "colab": {
      "name": "n122-chi-square-test.ipynb",
      "provenance": []
    },
    "kernelspec": {
      "display_name": "Python 3",
      "language": "python",
      "name": "python3"
    },
    "language_info": {
      "codemirror_mode": {
        "name": "ipython",
        "version": 3
      },
      "file_extension": ".py",
      "mimetype": "text/x-python",
      "name": "python",
      "nbconvert_exporter": "python",
      "pygments_lexer": "ipython3",
      "version": "3.9.4"
    }
  },
  "cells": [
    {
      "cell_type": "markdown",
      "metadata": {
        "id": "rQf3dSuc5PqO"
      },
      "source": [
        "<img src='https://i.imgur.com/RDAD11M.png' width = '200' align = 'right'>\n",
        "\n",
        "## *DATA SCIENCE / SECTION 1 / SPRINT 2 / NOTE 2*\n",
        "\n",
        "# 📝 Assignment"
      ]
    },
    {
      "cell_type": "markdown",
      "metadata": {
        "id": "tZ_-Nj-sBBTW"
      },
      "source": [
        "# 카이제곱검정"
      ]
    },
    {
      "cell_type": "markdown",
      "metadata": {
        "id": "11OzdxWTM7UR"
      },
      "source": [
        "\n",
        "## 1. 공공데이터 조작 연습. \n",
        "\n",
        "국가 통계 포털에서 아래 이미지를 참조하여\n",
        "\n",
        "<https://kosis.kr/statisticsList/statisticsListIndex.do?menuId=M_01_01&vwcd=MT_ZTITLE&parmTabId=M_01_01#SelectStatsBoxDiv>\n",
        "\n",
        "**2020년 8월**에 해당하는 규모별 미분양현황 에 대한 데이터셋을 생성하세요. \n",
        "\n",
        "<img src='https://i.imgur.com/aZc4UJO.png' width = 500>\n",
        "\n",
        "- `60m이하`, `60~85m`, `85m초과`의 3개 규모와 (column)\n",
        "- `서울`, `대전`, `대구`, `부산` 4개의 지역을 포함해야합니다. (row)\n",
        "- `민간부문`만 포함합니다\n",
        "- 데이터가 없는 경우는 0으로 처리하세요.\n",
        "\n",
        "이후 데이터셋을 colab으로 불러오세요. 이때 변수의 이름은 `df`를 사용합니다.\n"
      ]
    },
    {
      "cell_type": "code",
      "metadata": {
        "id": "_tQ0hkPFBUtM"
      },
      "source": [
        "import pandas as pd\n",
        "import numpy as np\n",
        "from scipy.stats import chisquare\n",
        "from scipy import stats"
      ],
      "execution_count": 1,
      "outputs": []
    },
    {
      "cell_type": "code",
      "metadata": {
        "id": "IhWdLFndyVAB",
        "colab": {
          "base_uri": "https://localhost:8080/",
          "height": 551
        },
        "outputId": "c164da8c-8c55-46d9-e38e-8d9bb8422450"
      },
      "source": [
        "col = ['~60m2', '60~85m2', '85m2~']\n",
        "row = ['서울', '대전', '대구', '부산']\n",
        "\n",
        "data_url = 'https://docs.google.com/uc?export=download&id=1DcnkxhnK9RcL6HxSJBXgzfT3q7u6YyeA'\n",
        "\n",
        "df = pd.read_csv(data_url, encoding='cp949')\n",
        "df = df.rename(columns={df.columns[0] : '지역', df.columns[2] : '규모'})\n",
        "df"
      ],
      "execution_count": 2,
      "outputs": [
        {
          "output_type": "execute_result",
          "data": {
            "text/html": [
              "<div>\n",
              "<style scoped>\n",
              "    .dataframe tbody tr th:only-of-type {\n",
              "        vertical-align: middle;\n",
              "    }\n",
              "\n",
              "    .dataframe tbody tr th {\n",
              "        vertical-align: top;\n",
              "    }\n",
              "\n",
              "    .dataframe thead th {\n",
              "        text-align: right;\n",
              "    }\n",
              "</style>\n",
              "<table border=\"1\" class=\"dataframe\">\n",
              "  <thead>\n",
              "    <tr style=\"text-align: right;\">\n",
              "      <th></th>\n",
              "      <th>지역</th>\n",
              "      <th>부문(1)</th>\n",
              "      <th>규모</th>\n",
              "      <th>2020. 08</th>\n",
              "    </tr>\n",
              "  </thead>\n",
              "  <tbody>\n",
              "    <tr>\n",
              "      <th>0</th>\n",
              "      <td>서울</td>\n",
              "      <td>민간부문</td>\n",
              "      <td>소계</td>\n",
              "      <td>56</td>\n",
              "    </tr>\n",
              "    <tr>\n",
              "      <th>1</th>\n",
              "      <td>서울</td>\n",
              "      <td>민간부문</td>\n",
              "      <td>60㎡이하</td>\n",
              "      <td>54</td>\n",
              "    </tr>\n",
              "    <tr>\n",
              "      <th>2</th>\n",
              "      <td>서울</td>\n",
              "      <td>민간부문</td>\n",
              "      <td>60∼85㎡</td>\n",
              "      <td>2</td>\n",
              "    </tr>\n",
              "    <tr>\n",
              "      <th>3</th>\n",
              "      <td>서울</td>\n",
              "      <td>민간부문</td>\n",
              "      <td>85㎡초과</td>\n",
              "      <td>0</td>\n",
              "    </tr>\n",
              "    <tr>\n",
              "      <th>4</th>\n",
              "      <td>부산</td>\n",
              "      <td>민간부문</td>\n",
              "      <td>소계</td>\n",
              "      <td>1454</td>\n",
              "    </tr>\n",
              "    <tr>\n",
              "      <th>5</th>\n",
              "      <td>부산</td>\n",
              "      <td>민간부문</td>\n",
              "      <td>60㎡이하</td>\n",
              "      <td>577</td>\n",
              "    </tr>\n",
              "    <tr>\n",
              "      <th>6</th>\n",
              "      <td>부산</td>\n",
              "      <td>민간부문</td>\n",
              "      <td>60∼85㎡</td>\n",
              "      <td>735</td>\n",
              "    </tr>\n",
              "    <tr>\n",
              "      <th>7</th>\n",
              "      <td>부산</td>\n",
              "      <td>민간부문</td>\n",
              "      <td>85㎡초과</td>\n",
              "      <td>142</td>\n",
              "    </tr>\n",
              "    <tr>\n",
              "      <th>8</th>\n",
              "      <td>대구</td>\n",
              "      <td>민간부문</td>\n",
              "      <td>소계</td>\n",
              "      <td>1624</td>\n",
              "    </tr>\n",
              "    <tr>\n",
              "      <th>9</th>\n",
              "      <td>대구</td>\n",
              "      <td>민간부문</td>\n",
              "      <td>60㎡이하</td>\n",
              "      <td>143</td>\n",
              "    </tr>\n",
              "    <tr>\n",
              "      <th>10</th>\n",
              "      <td>대구</td>\n",
              "      <td>민간부문</td>\n",
              "      <td>60∼85㎡</td>\n",
              "      <td>1437</td>\n",
              "    </tr>\n",
              "    <tr>\n",
              "      <th>11</th>\n",
              "      <td>대구</td>\n",
              "      <td>민간부문</td>\n",
              "      <td>85㎡초과</td>\n",
              "      <td>44</td>\n",
              "    </tr>\n",
              "    <tr>\n",
              "      <th>12</th>\n",
              "      <td>대전</td>\n",
              "      <td>민간부문</td>\n",
              "      <td>소계</td>\n",
              "      <td>783</td>\n",
              "    </tr>\n",
              "    <tr>\n",
              "      <th>13</th>\n",
              "      <td>대전</td>\n",
              "      <td>민간부문</td>\n",
              "      <td>60㎡이하</td>\n",
              "      <td>782</td>\n",
              "    </tr>\n",
              "    <tr>\n",
              "      <th>14</th>\n",
              "      <td>대전</td>\n",
              "      <td>민간부문</td>\n",
              "      <td>60∼85㎡</td>\n",
              "      <td>1</td>\n",
              "    </tr>\n",
              "    <tr>\n",
              "      <th>15</th>\n",
              "      <td>대전</td>\n",
              "      <td>민간부문</td>\n",
              "      <td>85㎡초과</td>\n",
              "      <td>0</td>\n",
              "    </tr>\n",
              "  </tbody>\n",
              "</table>\n",
              "</div>"
            ],
            "text/plain": [
              "    지역 부문(1)      규모  2020. 08\n",
              "0   서울  민간부문      소계        56\n",
              "1   서울  민간부문   60㎡이하        54\n",
              "2   서울  민간부문  60∼85㎡         2\n",
              "3   서울  민간부문   85㎡초과         0\n",
              "4   부산  민간부문      소계      1454\n",
              "5   부산  민간부문   60㎡이하       577\n",
              "6   부산  민간부문  60∼85㎡       735\n",
              "7   부산  민간부문   85㎡초과       142\n",
              "8   대구  민간부문      소계      1624\n",
              "9   대구  민간부문   60㎡이하       143\n",
              "10  대구  민간부문  60∼85㎡      1437\n",
              "11  대구  민간부문   85㎡초과        44\n",
              "12  대전  민간부문      소계       783\n",
              "13  대전  민간부문   60㎡이하       782\n",
              "14  대전  민간부문  60∼85㎡         1\n",
              "15  대전  민간부문   85㎡초과         0"
            ]
          },
          "metadata": {},
          "execution_count": 2
        }
      ]
    },
    {
      "cell_type": "code",
      "metadata": {
        "id": "xTdjEh_K39y_",
        "colab": {
          "base_uri": "https://localhost:8080/",
          "height": 206
        },
        "outputId": "434dbcc8-3bf2-496d-844f-cd45273021ec"
      },
      "source": [
        "# 데이터가 tidy 형태이므로 이를 wide 형태로 바꿔준다\n",
        "df = df.pivot_table(index = df.columns[0], columns = df.columns[2], values = '2020. 08')\n",
        "\n",
        "# 형태 변경 후 인덱스와 컬럼을 설정한다\n",
        "df = df.reindex(index=row, columns=['60㎡이하',\t'60∼85㎡',\t'85㎡초과', '소계'])\n",
        "df = df.rename(columns={df.columns[0] : col[0], df.columns[1] : col[1], df.columns[2] : col[2]})\n",
        "df"
      ],
      "execution_count": 3,
      "outputs": [
        {
          "output_type": "execute_result",
          "data": {
            "text/html": [
              "<div>\n",
              "<style scoped>\n",
              "    .dataframe tbody tr th:only-of-type {\n",
              "        vertical-align: middle;\n",
              "    }\n",
              "\n",
              "    .dataframe tbody tr th {\n",
              "        vertical-align: top;\n",
              "    }\n",
              "\n",
              "    .dataframe thead th {\n",
              "        text-align: right;\n",
              "    }\n",
              "</style>\n",
              "<table border=\"1\" class=\"dataframe\">\n",
              "  <thead>\n",
              "    <tr style=\"text-align: right;\">\n",
              "      <th>규모</th>\n",
              "      <th>~60m2</th>\n",
              "      <th>60~85m2</th>\n",
              "      <th>85m2~</th>\n",
              "      <th>소계</th>\n",
              "    </tr>\n",
              "    <tr>\n",
              "      <th>지역</th>\n",
              "      <th></th>\n",
              "      <th></th>\n",
              "      <th></th>\n",
              "      <th></th>\n",
              "    </tr>\n",
              "  </thead>\n",
              "  <tbody>\n",
              "    <tr>\n",
              "      <th>서울</th>\n",
              "      <td>54</td>\n",
              "      <td>2</td>\n",
              "      <td>0</td>\n",
              "      <td>56</td>\n",
              "    </tr>\n",
              "    <tr>\n",
              "      <th>대전</th>\n",
              "      <td>782</td>\n",
              "      <td>1</td>\n",
              "      <td>0</td>\n",
              "      <td>783</td>\n",
              "    </tr>\n",
              "    <tr>\n",
              "      <th>대구</th>\n",
              "      <td>143</td>\n",
              "      <td>1437</td>\n",
              "      <td>44</td>\n",
              "      <td>1624</td>\n",
              "    </tr>\n",
              "    <tr>\n",
              "      <th>부산</th>\n",
              "      <td>577</td>\n",
              "      <td>735</td>\n",
              "      <td>142</td>\n",
              "      <td>1454</td>\n",
              "    </tr>\n",
              "  </tbody>\n",
              "</table>\n",
              "</div>"
            ],
            "text/plain": [
              "규모  ~60m2  60~85m2  85m2~    소계\n",
              "지역                             \n",
              "서울     54        2      0    56\n",
              "대전    782        1      0   783\n",
              "대구    143     1437     44  1624\n",
              "부산    577      735    142  1454"
            ]
          },
          "metadata": {},
          "execution_count": 3
        }
      ]
    },
    {
      "cell_type": "markdown",
      "metadata": {
        "id": "RXPZZuAi3ccI"
      },
      "source": [
        "## 2. 지역에 대해서 one-sample chi-square test를 실행, 해당 결과를 `chi1`에 저장 후 설명해보세요.\n",
        "\n",
        "예시) 만약 **9월달 데이터**를 기준으로 한다면\n",
        "```python\n",
        " [52+2+0, 590+665+142, 113+1061+42, 772+1+0]\n",
        "```\n",
        "을 비교 하게 될 것입니다.\n",
        "\n",
        "\n"
      ]
    },
    {
      "cell_type": "code",
      "metadata": {
        "id": "oIMzAkXks-Sv",
        "colab": {
          "base_uri": "https://localhost:8080/"
        },
        "outputId": "94530c4b-a724-4df3-92ee-23ec40e8be2e"
      },
      "source": [
        "chi1 = chisquare(df['소계'])\n",
        "chi1\n",
        "\n",
        "# one sample Chi-squared test의 귀무가설은 \"표본집단의 분포가 기대와 동일하다.\"이다.\n",
        "# 이에 대한 대립가설은 \"표본집단의 분포가 기대와 동일하지 않다.\"이다.\n",
        "# 그리고 신뢰도가 95%라는 전제하에 \n",
        "# p-value가 0.05보다 작으면 귀무가설을 기각하고 대립가설을 채택하며, \n",
        "# 0.05보다 크면 귀무가설을 기각할 수 없다.\n",
        "\n",
        "# one-sample chi-square test는 대상 데이터의 분포가 예상된 분포와 같은지 아닌지를 판단함\n",
        "# 검정 결과 p > 0.05 라면 이 데이터의 분포는 예상 분포와 동일하다고 볼 수 있고(귀무가설 기각 불가),\n",
        "# p <= 0.05 라면 이 데이터의 분포는 예상 분포와 동일하지 않다고 판단한다(귀무가설 기각).\n",
        "\n",
        "# chisquare() 함수의 경우 매개변수로 f_exp(예상 분포값)을 따로 넣지 않으면\n",
        "# 함수 내부적으로 들어온 데이터 값의 평균을 예상 분포값으로 설정하고서 결과를 보여준다."
      ],
      "execution_count": 4,
      "outputs": [
        {
          "output_type": "execute_result",
          "data": {
            "text/plain": [
              "Power_divergenceResult(statistic=1564.4572376818994, pvalue=0.0)"
            ]
          },
          "metadata": {},
          "execution_count": 4
        }
      ]
    },
    {
      "cell_type": "markdown",
      "metadata": {
        "id": "eMDtugVNRu0q"
      },
      "source": [
        "## 3. 지역과 규모에 대해서 two-sample chi-square test를 실행, 해당 결과를 `chi2`에 저장 후 설명해보세요.\n",
        "\n",
        "예시) **9월달 데이터**를 기준으로 한다면\n",
        "\n",
        "| |-60 | 60-85 | 85- |\n",
        "|:-:|:-:|:-:|:-:|\n",
        "|서울|52|2|0|\n",
        "|대전|772|1|0|\n",
        "|대구|113|1061|42|\n",
        "|부산|590|665|142|\n",
        "\n",
        "에 대해서 검정해야 할 겁니다.\n",
        "\n",
        "\n"
      ]
    },
    {
      "cell_type": "code",
      "metadata": {
        "id": "Ckcr4A4FM7cs",
        "colab": {
          "base_uri": "https://localhost:8080/"
        },
        "outputId": "179657ba-86ca-4f4d-a5ee-27a96cc1cb92"
      },
      "source": [
        "chi2 = stats.chi2_contingency(df.drop(['소계'], axis=1))\n",
        "chi2\n",
        "\n",
        "# chi2_contingency() 함수 결과값 형식 :\n",
        "# (chi2, p, dof, expected)\n",
        "\n",
        "# two sample Chi-squared test는 두 표본집단의 분포가 동일한지 확인할 때 사용한다.\n",
        "# 즉, 두 표본집단이 연관이 있는지, 없는지를 확인할 수 있다.\n",
        "\n",
        "# H0 : 지역과 규모는 연관이 없다\n",
        "# H1 : 지역과 규모는 연관이 있다\n",
        "# p-value가 0.05보다 작기 때문에 귀무가설을 기각하고 대립가설을 채택한다.\n",
        "# 따라서 지역과 규모는 연관이 있다.\n",
        "\n",
        "# 이처럼 two sample Chi-squared test의 귀무가설은 \"두 변수는 연관이 없다(두 변수는 독립이다).\"이다.\n",
        "# 이에 대한 대립가설은 \"두 변수는 연관이 있다(두 변수는 독립이 아니다).\"이다.\n",
        "# 그리고 신뢰도가 95%라는 전제하에 p-value가 0.05보다 작으면 귀무가설을 기각하고 대립가설을 채택하며, \n",
        "# 0.05보다 크면 귀무가설을 기각할 수 없다."
      ],
      "execution_count": 5,
      "outputs": [
        {
          "output_type": "execute_result",
          "data": {
            "text/plain": [
              "(2064.5767314171994, 0.0, 6, array([[ 22.24559612,  31.09522594,   2.65917794],\n",
              "        [311.04110288, 434.77789124,  37.18100587],\n",
              "        [645.12228746, 901.76155221,  77.11616033],\n",
              "        [577.59101353, 807.36533061,  69.04365586]]))"
            ]
          },
          "metadata": {},
          "execution_count": 5
        }
      ]
    },
    {
      "cell_type": "markdown",
      "metadata": {
        "id": "Tf7XPpBP6YqX"
      },
      "source": [
        "### 4. 2번에 대해서 NumPy 를 사용하여 (Scipy를 사용하지 않고) $\\chi^2$ test 시행 후 2번의 결과와 비교해보세요. \n",
        "\n",
        "- `obs`, `exp`, `chi`라는 변수를 사용해야합니다."
      ]
    },
    {
      "cell_type": "code",
      "metadata": {
        "id": "OjFt0b1-wrFL",
        "colab": {
          "base_uri": "https://localhost:8080/"
        },
        "outputId": "79e9d294-e18a-45d2-a381-63c7ab86b7c9"
      },
      "source": [
        "obs = df['소계']\n",
        "\n",
        "exp_val = sum(obs) / len(obs)\n",
        "\n",
        "exp = []\n",
        "for i in range(len(obs)):\n",
        "  exp.append(exp_val)\n",
        "\n",
        "squared = np.power(obs - exp, 2)\n",
        "\n",
        "chi = np.sum(squared / exp)\n",
        "p = 1 - stats.chi2.cdf(chi, len(obs)-1)\n",
        "\n",
        "print(f'chisquare : {chi}, pvalue : {p}')"
      ],
      "execution_count": 6,
      "outputs": [
        {
          "output_type": "stream",
          "name": "stdout",
          "text": [
            "chisquare : 1564.4572376818994, pvalue : 0.0\n"
          ]
        }
      ]
    },
    {
      "cell_type": "markdown",
      "metadata": {
        "id": "a2BrKHq8m8AS"
      },
      "source": [
        "## 🔥 도전 과제\n",
        "\n",
        "아래 세가지를 다하면 됩니다.\n",
        "\n",
        "### 1. Function\n",
        "\n",
        "4번에서 사용한 one sample chisquare test를 함수의 형태로 변경하세요."
      ]
    },
    {
      "cell_type": "code",
      "metadata": {
        "id": "AntnuAkFm-JQ",
        "colab": {
          "base_uri": "https://localhost:8080/"
        },
        "outputId": "ea0be2b1-c697-488b-a71f-40a27ed7ee13"
      },
      "source": [
        "v1 = [18,22,20,15,23,22]\n",
        "v2 = [5,23,26,19,24,23]\n",
        "\n",
        "def myChisq(value):\n",
        "  value = pd.Series(value)\n",
        "\n",
        "  exp_val = sum(value) / len(value)\n",
        "\n",
        "  exp = []\n",
        "  for i in range(len(value)):\n",
        "    exp.append(exp_val)\n",
        "\n",
        "  squared = np.power(value - exp, 2)\n",
        "\n",
        "  x2 = np.sum(squared / exp)\n",
        "  p = 1 - stats.chi2.cdf(x2, len(value)-1)\n",
        "  print(f'chisquare : {x2}, pvalue : {p}')\n",
        "\n",
        "myChisq(v1)\n",
        "myChisq(v2)"
      ],
      "execution_count": 7,
      "outputs": [
        {
          "output_type": "stream",
          "name": "stdout",
          "text": [
            "chisquare : 2.3000000000000003, pvalue : 0.8062668698851285\n",
            "chisquare : 14.8, pvalue : 0.011251979028327308\n"
          ]
        }
      ]
    },
    {
      "cell_type": "markdown",
      "metadata": {
        "id": "4ohsJhQUmEuS"
      },
      "source": [
        "### 2. ANOVA\n",
        "\n",
        "아래 링크를 참조하여 ANOVA 에 대한 글을 읽고\n",
        "\n",
        "<https://partrita.github.io/posts/ANOVA-python/>\n",
        "\n",
        "다음 `4개 그룹에 대해서 평균의 차이가 있는지`에 대한 가설 검정을 시행하세요.\n",
        "\n",
        "A : `38 33 35 92 76 97 88 41 11  9`\n",
        "\n",
        "B : `18 52 62 48 30 40 87 12 97 82`\n",
        "\n",
        "C :  `28 90  5 49 66 73 96 80  4 17`\n",
        "\n",
        "D : ` 8 99  4 12  7 64 18 10  9 20`\n",
        "\n"
      ]
    },
    {
      "cell_type": "code",
      "metadata": {
        "id": "3wBpXYa-0O1u"
      },
      "source": [
        "a = [38, 33, 35, 92, 76, 97, 88, 41, 11, 9]\n",
        "b = [18, 52, 62, 48, 30, 40, 87, 12, 97, 82]\n",
        "c = [28, 90, 5, 49, 66, 73, 96, 80, 4, 17]\n",
        "d = [8, 99, 4, 12, 7, 64, 18, 10, 9, 20]"
      ],
      "execution_count": 8,
      "outputs": []
    },
    {
      "cell_type": "code",
      "metadata": {
        "id": "DMebi5_4UaSn",
        "colab": {
          "base_uri": "https://localhost:8080/"
        },
        "outputId": "8e8a33f8-bd76-4012-a5d5-73a8ba0eadd8"
      },
      "source": [
        "# Null hypothesis: Groups means are equal (no variation in means of groups) \n",
        "# H0: μ1=μ2=…=μp\n",
        "# Alternative hypothesis: At least, one group mean is different from other groups\n",
        "# H1: All μ are not equal\n",
        "\n",
        "stats.f_oneway(a, b, c, d)\n",
        "# pvalue > 0.05 이므로 4개 그룹의 평균 차이는 없을 수도 있다."
      ],
      "execution_count": 9,
      "outputs": [
        {
          "output_type": "execute_result",
          "data": {
            "text/plain": [
              "F_onewayResult(statistic=1.7249594239128412, pvalue=0.17920877113948797)"
            ]
          },
          "metadata": {},
          "execution_count": 9
        }
      ]
    }
  ]
}