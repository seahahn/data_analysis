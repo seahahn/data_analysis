{
  "nbformat": 4,
  "nbformat_minor": 0,
  "metadata": {
    "colab": {
      "name": "n124a-bayesian-inference.ipynb",
      "provenance": [],
      "collapsed_sections": []
    },
    "kernelspec": {
      "display_name": "Python 3",
      "language": "python",
      "name": "python3"
    },
    "language_info": {
      "codemirror_mode": {
        "name": "ipython",
        "version": 3
      },
      "file_extension": ".py",
      "mimetype": "text/x-python",
      "name": "python",
      "nbconvert_exporter": "python",
      "pygments_lexer": "ipython3",
      "version": "3.9.4"
    }
  },
  "cells": [
    {
      "cell_type": "markdown",
      "metadata": {
        "id": "H7OLbevlbd_Z"
      },
      "source": [
        "<img src='https://i.imgur.com/RDAD11M.png' width = '200' align = 'right'>\n",
        "\n",
        "## *DATA SCIENCE / SECTION 1 / SPRINT 2 / NOTE 4*\n",
        "\n",
        "# 📝 Assignment\n",
        "\n",
        "# 베이지안 통계"
      ]
    },
    {
      "cell_type": "markdown",
      "metadata": {
        "id": "lPwZPpad3UOc"
      },
      "source": [
        "## 1. Multiple Choice Test\n",
        "\n",
        "객관식 문제를 푸는 과정에서, 학생은 답을 이미 알고 있거나 찍어야 합니다. \n",
        "\n",
        "학생이 답을 알 확률은 $p$이고, 답을 찍어서 맞출 확률이 $1\\over{m}$ 이라고 할 때 $m$과 $p$를 입력받아 학생이 문제의 답을 알고 맞췄을 확률을 계산하는 함수를 작성하세요."
      ]
    },
    {
      "cell_type": "code",
      "metadata": {
        "id": "trk9r0Tc97Mc"
      },
      "source": [
        "def correct(p, m):\n",
        "  p_e = 1*p + (1/m)*(1-p)\n",
        "  p_h_bar_e = (1*p)/p_e\n",
        "  return p_h_bar_e\n",
        "\n",
        "# prior : 답을 안다 = p\n",
        "#         답을 찍었다 = 1-p\n",
        "# test : 맞음 답앎 = 1      맞음 답찍 = 1/m\n",
        "#        틀림 답앎 = 0      틀림 답찍 = 1 - (1/m)\n",
        "# P(답앎 | 맞음) = (P(맞음 | 답앎) * P(답앎)) / P(맞음)\n",
        "# P(맞음) = P(맞음 | 답앎) * P(답앎) + P(맞음 | 답찍) * P(답찍)\n",
        "#         = 1*p + (1/m) * (1-p)"
      ],
      "execution_count": null,
      "outputs": []
    },
    {
      "cell_type": "markdown",
      "metadata": {
        "id": "Ey38XtDwXwzZ"
      },
      "source": [
        "## 2. Blood Test\n",
        "\n",
        "특정 질병을 가지고 있는 경우 **99%** 의 확률로 탐지 할 수 있는 실험방법이 있습니다.\n",
        "\n",
        "그러나 동시에 이 방법은, **1%** 의 확률로 질병이 없지만 질병이 있다고 진단 하는 경우도 있는데요.\n",
        "\n",
        "실제로 모든 인구중 **0.5%** 만이 이 질병을 가지고 있다고 하겠습니다.\n",
        "\n",
        "특정 사람이 이 방법을 통해 질병이 있다고 진단 받았을때, 실제로 질병을 가지고 있을 확률을 구하는 함수를 작성하세요."
      ]
    },
    {
      "cell_type": "code",
      "metadata": {
        "id": "qKYGZ5fkFjQ-",
        "outputId": "76aae1bd-d5d5-4d90-b34d-092898e65fac",
        "colab": {
          "base_uri": "https://localhost:8080/"
        }
      },
      "source": [
        "def disease(prior, tpr, fpr):\n",
        "  prob = tpr*prior / (tpr*prior + fpr*(1-prior))\n",
        "  return prob\n",
        "\n",
        "disease(0.005, 0.99, 0.01)\n",
        "\n",
        "# prior : 병 O = 0.005\n",
        "#         병 x = 0.995\n",
        "# test : 탐지 O 병 O = 0.99(tpr)      탐지 O 병 X = 0.01(fpr)\n",
        "#        탐지 X 병 O = 0.01           탐지 X 병 X = 0.99\n",
        "\n",
        "# P(병O | 탐지O) = (P(탐지O | 병O) * P(병O)) / P(탐지O)\n",
        "# P(탐지O) = P(탐지O | 병O) * P(병O) + P(탐지O | 병X) * P(병X)"
      ],
      "execution_count": 1,
      "outputs": [
        {
          "output_type": "execute_result",
          "data": {
            "text/plain": [
              "0.33221476510067116"
            ]
          },
          "metadata": {},
          "execution_count": 1
        }
      ]
    },
    {
      "cell_type": "markdown",
      "metadata": {
        "id": "GP7Jv1XvwtkX"
      },
      "source": [
        "## 🔥 도전 과제:\n",
        "\n"
      ]
    },
    {
      "cell_type": "markdown",
      "metadata": {
        "id": "M3WuZEGM3UOd"
      },
      "source": [
        "### 다음 문제를 읽고 답을 구하세요 \n",
        "> Source : Introduction to Probability and Statistics for Engineers and Scientists, 4th Ed.\n",
        "\n",
        "At a certain stage of a criminal investigation, the inspector in charge is **60%** convinced of the guilty of a certain suspect. <br>\n",
        "Suppose now that a new piece of evidence that shows that the criminal has a left-handedness is uncovered. <br>\n",
        "If **20% of population possesses this characteristic**, how certain of the guilt of the suspect should the inspector now be if it turns out that the suspect is among this group? <br>"
      ]
    },
    {
      "cell_type": "code",
      "metadata": {
        "id": "nB7B8lJoXwza",
        "outputId": "89bc350a-0be1-49fa-81ab-6e25194641cc",
        "colab": {
          "base_uri": "https://localhost:8080/"
        }
      },
      "source": [
        "# 용의자가 범인일 가능성 60%\n",
        "# 범인은 왼손잡이라는 증거 발견(범인 = 왼손잡이 -> P(왼O | 유죄) = 1)\n",
        "# 왼손잡이는 전체 인구의 20%\n",
        "\n",
        "# prior : 유죄 = 0.6\n",
        "#         무죄 = 0.4\n",
        "# test : 왼O 유죄 = 1(tpr)      왼O 무죄 = 0.2(fpr)\n",
        "#        왼X 유죄 = 0           왼X 무죄 = 0.8\n",
        "# P(유죄 | 왼O) = (P(왼O | 유죄) * P(유죄)) / P(왼O)\n",
        "# P(왼O) = P(왼O | 유죄) * P(유죄) + P(왼O | 무죄) * P(무죄)\n",
        "\n",
        "def guilt_prob(prior, tpr, fpr):\n",
        "  prob = tpr*prior / (tpr*prior + fpr*(1-prior))\n",
        "  return prob\n",
        "\n",
        "guilt_prob(0.6, 1, 0.2)"
      ],
      "execution_count": 3,
      "outputs": [
        {
          "output_type": "execute_result",
          "data": {
            "text/plain": [
              "0.8823529411764707"
            ]
          },
          "metadata": {},
          "execution_count": 3
        }
      ]
    },
    {
      "cell_type": "markdown",
      "metadata": {
        "id": "Wm5ZL2iZXwzb"
      },
      "source": [
        "After that, the new evidence is subject to different possible interpretations, and in fact only shows that it is **90% likely that the criminal possess this characteristic**.  \n",
        "In this case how likely would it be that the suspect is guilty?"
      ]
    },
    {
      "cell_type": "code",
      "metadata": {
        "id": "m64eECzpXwzb",
        "outputId": "18de84c5-3c12-4483-ff45-a2f48af484bd",
        "colab": {
          "base_uri": "https://localhost:8080/"
        }
      },
      "source": [
        "# 범인은 왼손잡이라는 증거가 다른 방식으로도 해석됨\n",
        "# 그 결과 범인이 왼손잡이일 확률은 90%로 나옴(이전에는 100% 왼손잡이였다는 가정이 바뀜)\n",
        "# 즉, 왼O 유죄 = 0.9(tpr) 이 됨\n",
        "\n",
        "guilt_prob(0.6, 0.9, 0.2)"
      ],
      "execution_count": 4,
      "outputs": [
        {
          "output_type": "execute_result",
          "data": {
            "text/plain": [
              "0.8709677419354838"
            ]
          },
          "metadata": {},
          "execution_count": 4
        }
      ]
    }
  ]
}