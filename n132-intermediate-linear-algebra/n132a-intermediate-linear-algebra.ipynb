{
  "nbformat": 4,
  "nbformat_minor": 0,
  "metadata": {
    "colab": {
      "name": "n132a-intermediate-linear-algebra.ipynb",
      "provenance": []
    },
    "kernelspec": {
      "display_name": "Python 3",
      "language": "python",
      "name": "python3"
    },
    "language_info": {
      "codemirror_mode": {
        "name": "ipython",
        "version": 3
      },
      "file_extension": ".py",
      "mimetype": "text/x-python",
      "name": "python",
      "nbconvert_exporter": "python",
      "pygments_lexer": "ipython3",
      "version": "3.8.2"
    }
  },
  "cells": [
    {
      "cell_type": "markdown",
      "metadata": {
        "id": "GSNiYn8lr6nN"
      },
      "source": [
        "<img src='https://i.imgur.com/RDAD11M.png' width = '200' align = 'right'>\n",
        "\n",
        "## *DATA SCIENCE / SECTION 1 / SPRINT 3 / NOTE 2*\n",
        "\n",
        "# 📝 Assignment\n"
      ]
    },
    {
      "cell_type": "markdown",
      "metadata": {
        "id": "3d4izUhQvh2_"
      },
      "source": [
        "## 1. 주어진 리스트에 대해서 평균, 분산, 표준편차를 구하는 함수를 작성해보세요. (`mean`같은 builtin function 제외)\n",
        "> [243, 278, 184, 249, 207] 에 대해서 해당 함수를 사용한 결과가 아래와 같으면 정답입니다. (소수점 두자리까지만 보여드립니다)\n",
        "- mean : 232.2\n",
        "- var : 1090.96\n",
        "- std : 33.03"
      ]
    },
    {
      "cell_type": "code",
      "metadata": {
        "id": "UmzO1UTav68D"
      },
      "source": [
        "import numpy as np"
      ],
      "execution_count": 1,
      "outputs": []
    },
    {
      "cell_type": "code",
      "metadata": {
        "id": "w1iZfYvBtEA1"
      },
      "source": [
        "data = np.array([243, 278, 184, 249, 207])\n",
        "\n",
        "def mymean(v):\n",
        "  mean = sum(v) / len(v)\n",
        "  return mean\n",
        "\n",
        "def myvar(v):\n",
        "  var = sum([(elem - mymean(v))**2 for elem in v]) / len(v)\n",
        "  return var\n",
        "\n",
        "def mystd(v):\n",
        "  std = np.sqrt(myvar(v))\n",
        "  return std\n",
        "\n",
        "# 참고\n",
        "# def mymean(v):\n",
        "#     return np.sum(v)/len(v)\n",
        "\n",
        "# def myvar(v):\n",
        "#     dev_square = np.power(v - mymean(v),2)\n",
        "#     return np.sum(dev_square)/len(v)\n",
        "\n",
        "# def mystd(v):\n",
        "#     return np.sqrt(myvar(v))"
      ],
      "execution_count": 2,
      "outputs": []
    },
    {
      "cell_type": "code",
      "metadata": {
        "id": "cvT8pEJnv-lm",
        "outputId": "dd775b5e-d97e-44ca-ef7b-87a193dc3750",
        "colab": {
          "base_uri": "https://localhost:8080/"
        }
      },
      "source": [
        "mymean(data), myvar(data), mystd(data)"
      ],
      "execution_count": 3,
      "outputs": [
        {
          "output_type": "execute_result",
          "data": {
            "text/plain": [
              "(232.2, 1090.96, 33.02968361943541)"
            ]
          },
          "metadata": {},
          "execution_count": 3
        }
      ]
    },
    {
      "cell_type": "markdown",
      "metadata": {
        "id": "oh63KaOctEp_"
      },
      "source": [
        "## 2. 위에서 사용된 데이터와 다음 데이터의 공분산과, 상관계수를 구해보세요\n",
        "> [88, 89, 83, 112, 104] 에 대해서 해당 함수를 사용한 결과가 아래와 같으면 정답입니다. (소수점 두자리까지만 보여드립니다) \n",
        "- cov : 1363.7\n",
        "- cor : 0.16"
      ]
    },
    {
      "cell_type": "code",
      "metadata": {
        "id": "G7ZB0krot564",
        "outputId": "3af6f580-fd22-4f28-c0b4-b376d4430417",
        "colab": {
          "base_uri": "https://localhost:8080/"
        }
      },
      "source": [
        "data2 = np.array([88, 89, 83, 112, 104])\n",
        "\n",
        "res4 = np.cov(data, data2)[0, 1] # 공분산\n",
        "res5 = np.corrcoef(data, data2)[0, 1] # 상관계수\n",
        "\n",
        "res4, res5"
      ],
      "execution_count": 4,
      "outputs": [
        {
          "output_type": "execute_result",
          "data": {
            "text/plain": [
              "(71.7, 0.1586897351257077)"
            ]
          },
          "metadata": {},
          "execution_count": 4
        }
      ]
    },
    {
      "cell_type": "code",
      "metadata": {
        "id": "AA9ceyeX6d2Z",
        "outputId": "1798b234-163d-4d98-925e-6a37d74b3c55",
        "colab": {
          "base_uri": "https://localhost:8080/"
        }
      },
      "source": [
        "print(np.cov(data, data2))\n",
        "print(np.corrcoef(data, data2))"
      ],
      "execution_count": 5,
      "outputs": [
        {
          "output_type": "stream",
          "name": "stdout",
          "text": [
            "[[1363.7   71.7]\n",
            " [  71.7  149.7]]\n",
            "[[1.         0.15868974]\n",
            " [0.15868974 1.        ]]\n"
          ]
        }
      ]
    },
    {
      "cell_type": "markdown",
      "metadata": {
        "id": "86iXLzwM2z8l"
      },
      "source": [
        "## 3. 다음 벡터들의 span과, 이가 의미하는 바를 설명하세요. \n",
        "\n",
        "\\begin{align}\n",
        "g = \\begin{bmatrix} 1 & 3 \\end{bmatrix}\n",
        "\\qquad\n",
        "h = \\begin{bmatrix} 2 & 6 \\end{bmatrix}\n",
        "\\end{align}"
      ]
    },
    {
      "cell_type": "code",
      "metadata": {
        "id": "fNpSjPcOScgH",
        "outputId": "23f8d165-48bd-4312-afd3-d7495a9ab07c",
        "colab": {
          "base_uri": "https://localhost:8080/"
        }
      },
      "source": [
        "g = np.array([1, 3])\n",
        "h = np.array([2, 6])\n",
        "gh = np.stack((g, h))\n",
        "\n",
        "res6 = np.linalg.matrix_rank(gh) # span (차원 수)\n",
        "res6\n",
        "\n",
        "# [1, 3]과 [2, 6]은 동일한 벡터이다.\n",
        "# 벡터의 차원 수(rank)는 벡터로 만들 수 있는 공간의 차원을 의미한다.\n",
        "# 위 두 개의 벡터로 만들어질 수 있는 공간이 1차원, 즉 직선이다.\n",
        "# 이는 두 개의 벡터가 동일 선상에 있음을 의미한다.\n",
        "# 결론 : 두 벡터는 같다."
      ],
      "execution_count": 6,
      "outputs": [
        {
          "output_type": "execute_result",
          "data": {
            "text/plain": [
              "1"
            ]
          },
          "metadata": {},
          "execution_count": 6
        }
      ]
    },
    {
      "cell_type": "code",
      "metadata": {
        "id": "9gVjVNATERrK"
      },
      "source": [
        "# 참고\n",
        "# g = np.array([1, 3])\n",
        "# h = np.array([2, 6])\n",
        "\n",
        "# gh_matrix = np.stack((g, h))\n",
        "\n",
        "# res6 = np.linalg.matrix_rank(gh_matrix)\n",
        "\n",
        "# res6\n",
        "\n",
        "# # 한 직선 위에 있는 선형 종속 벡터이다.\n",
        "# # 벡터를 (x,y)라 할 때, span : 3x - y = 0"
      ],
      "execution_count": 7,
      "outputs": []
    },
    {
      "cell_type": "markdown",
      "metadata": {
        "id": "l1deylUj4IHH"
      },
      "source": [
        "## 4. 다음 벡터들의 span과, 이가 의미하는 바를 설명하세요.\n",
        "\n",
        "\\begin{align}\n",
        "l = \\begin{bmatrix} 1 & 2 & 3 \\end{bmatrix}\n",
        "\\qquad\n",
        "m = \\begin{bmatrix} -1 & 0 & 7 \\end{bmatrix}\n",
        "\\qquad\n",
        "n = \\begin{bmatrix} 4 & 8  & 2\\end{bmatrix}\n",
        "\\end{align}"
      ]
    },
    {
      "cell_type": "code",
      "metadata": {
        "id": "NWZ36G8QTMob",
        "outputId": "f509d9ca-21c5-4c07-cf75-43c62a544845",
        "colab": {
          "base_uri": "https://localhost:8080/"
        }
      },
      "source": [
        "l = np.array([1, 2, 3])\n",
        "m = np.array([-1, 0, 7])\n",
        "n = np.array([4, 8, 2])\n",
        "lmn = np.stack((l, m, n))\n",
        "\n",
        "res7 = np.linalg.matrix_rank(lmn)# span (차원 수)\n",
        "res7\n",
        "\n",
        "# 세 개의 벡터로 만들어질 수 있는 공간이 3차원이다.\n",
        "# 이는 각각의 벡터가 다른 방향을 가리키고 있다는 의미이다.\n",
        "# 따라서 세 벡터는 모두 선형독립이다."
      ],
      "execution_count": 8,
      "outputs": [
        {
          "output_type": "execute_result",
          "data": {
            "text/plain": [
              "3"
            ]
          },
          "metadata": {},
          "execution_count": 8
        }
      ]
    },
    {
      "cell_type": "code",
      "metadata": {
        "id": "XH-BlPKl5Ofa",
        "outputId": "3a2ad2f9-7ceb-4ae4-9d94-21dfe22403a6",
        "colab": {
          "base_uri": "https://localhost:8080/"
        }
      },
      "source": [
        "# 호기심 : 단위 벡터와 span의 관계?\n",
        "def getHat(v):\n",
        "  norm = np.linalg.norm(v)\n",
        "  hat = v * (1/norm)\n",
        "  hat_norm = np.linalg.norm(hat)\n",
        "  return hat, hat_norm\n",
        "\n",
        "print(getHat(g), getHat(h))\n",
        "print(getHat(l), getHat(m), getHat(n))\n",
        "\n",
        "a = np.array([-1.5, .5])\n",
        "b = np.array([3, 1])\n",
        "\n",
        "c = np.array([3, 0])\n",
        "d = np.array([-1, 0])\n",
        "\n",
        "print(getHat(a), getHat(b))\n",
        "print(getHat(c), getHat(d))\n",
        "# 벡터가 선형종속이면 단위 벡터가 동일하고,\n",
        "# 선형독립이면 단위 벡터가 다른가?\n",
        "# 결론 : 아니라고 보여짐.\n",
        "# a, b는 종속이고 c, d는 독립인데 둘 다 단위 벡터 결과가 다르게 나옴"
      ],
      "execution_count": 9,
      "outputs": [
        {
          "output_type": "stream",
          "name": "stdout",
          "text": [
            "(array([0.31622777, 0.9486833 ]), 1.0) (array([0.31622777, 0.9486833 ]), 1.0)\n",
            "(array([0.26726124, 0.53452248, 0.80178373]), 1.0) (array([-0.14142136,  0.        ,  0.98994949]), 1.0) (array([0.43643578, 0.87287156, 0.21821789]), 1.0)\n",
            "(array([-0.9486833 ,  0.31622777]), 0.9999999999999999) (array([0.9486833 , 0.31622777]), 0.9999999999999999)\n",
            "(array([1., 0.]), 1.0) (array([-1.,  0.]), 1.0)\n"
          ]
        }
      ]
    },
    {
      "cell_type": "markdown",
      "metadata": {
        "id": "IpJwt9kw6v8U"
      },
      "source": [
        "## 5. 다음 매트릭스의 rank를 구하세요\n",
        "\n",
        "\\begin{align}\n",
        "P = \\begin{bmatrix} \n",
        "0 & 2 & 5 \\\\\n",
        " 3 & 6 & 12 \\\\\n",
        "3 & 2 & 2\n",
        "\\end{bmatrix}\n",
        "\\end{align}"
      ]
    },
    {
      "cell_type": "code",
      "metadata": {
        "id": "CAzw0q3KTu5d",
        "outputId": "980c29ad-188c-49dd-b04f-e3bdc9acfee3",
        "colab": {
          "base_uri": "https://localhost:8080/"
        }
      },
      "source": [
        "p = np.array([\n",
        "        [0, 2, 5],\n",
        "        [3, 6, 12],\n",
        "        [3, 2, 2]\n",
        "      ])\n",
        "\n",
        "res8 = np.linalg.matrix_rank(p)# rank\n",
        "res8"
      ],
      "execution_count": 10,
      "outputs": [
        {
          "output_type": "execute_result",
          "data": {
            "text/plain": [
              "2"
            ]
          },
          "metadata": {},
          "execution_count": 10
        }
      ]
    },
    {
      "cell_type": "markdown",
      "metadata": {
        "id": "TKkrPwRM-Oar"
      },
      "source": [
        "# 🔥 도전과제 \n",
        "\n",
        "주어진 데이터 (x, y)에 대해서 `y = x` 라는 벡터에 대해 projection을 계산하는 함수를 작성하세요. \n",
        "- (x, y) 는 (0, 0) 에서 (x, y)로 가는 벡터라 가정합니다.\n",
        "\n",
        "이후\n",
        "\n",
        "- 입력된 데이터를 파란색 선으로, \n",
        "- `y = x` 라는 벡터를 빨간색 선으로, 마지막으로 \n",
        "- projection 된 선을 녹색 점선(dashed)으로 그래프에 그리세요."
      ]
    },
    {
      "cell_type": "code",
      "metadata": {
        "id": "cp52kZra-ykj",
        "outputId": "9f22532f-089f-4ea4-872b-a000b2ae509e",
        "colab": {
          "base_uri": "https://localhost:8080/"
        }
      },
      "source": [
        "v = [7, 4]\n",
        "w = [7, 7]\n",
        "\n",
        "def myProjection(a, b): # a에 대한 b의 projection 구하기\n",
        "  proj = np.inner(a, b)*np.array(a) / np.square(np.linalg.norm(a))\n",
        "  return proj\n",
        "\n",
        "vprime = myProjection(w, v)\n",
        "vprime"
      ],
      "execution_count": 11,
      "outputs": [
        {
          "output_type": "execute_result",
          "data": {
            "text/plain": [
              "array([5.5, 5.5])"
            ]
          },
          "metadata": {},
          "execution_count": 11
        }
      ]
    },
    {
      "cell_type": "code",
      "metadata": {
        "id": "XzNk8-xNrKAT"
      },
      "source": [
        "import matplotlib.pyplot as plt"
      ],
      "execution_count": 12,
      "outputs": []
    },
    {
      "cell_type": "code",
      "metadata": {
        "id": "6X5ElTDWTUhl",
        "outputId": "69f0aefb-9c68-43cd-fbc4-5b5bdb7034df",
        "colab": {
          "base_uri": "https://localhost:8080/",
          "height": 601
        }
      },
      "source": [
        "# 그래프 뼈대 그리기\n",
        "fig, ax = plt.subplots(figsize=(10, 10))\n",
        "plt.xlim(-1, 10)\n",
        "plt.ylim(-1, 10)\n",
        "ax.grid()\n",
        "ax.tick_params(labelsize = 14)\n",
        "\n",
        "# 그래프 그릴 범위 설정\n",
        "x_lim = ax.get_xlim()\n",
        "y_lim = ax.get_ylim()\n",
        "distance = vprime - v # 벡터 v의 끝점과 y=x 벡터 사이의 거리(x좌표 차이, y좌표 차이)\n",
        "\n",
        "# x축, y축 그리기\n",
        "plt.arrow(0, y_lim[0], 0, y_lim[1], linewidth = 2, head_width = .3, head_length = .5, color = 'black')\n",
        "plt.arrow(x_lim[0], 0, x_lim[1], 0, linewidth = 2, head_width = .3, head_length = .5, color = 'black')\n",
        "\n",
        "ax.plot([x_lim[0], x_lim[1]], [y_lim[0], y_lim[1]], color = 'red') # y = x 그리기\n",
        "ax.arrow(0, 0, v[0], v[1], width = 0.1, color = 'blue', length_includes_head = True) # 주어진 데이터(벡터 v) 그리기\n",
        "ax.arrow(v[0], v[1], distance[0], distance[1], width = 0.05, color = 'gray', linestyle='dashed', length_includes_head = True) # y = x에 대한 벡터 v의 사영(vprime) 위치 잡기\n",
        "ax.arrow(0, 0, vprime[0], vprime[1], width = 0.1, color = 'green', linestyle='dashed', length_includes_head = True, zorder=2) # y = x에 대한 벡터 v의 사영(vprime) 그리기\n",
        "\n",
        "plt.show()"
      ],
      "execution_count": 27,
      "outputs": [
        {
          "output_type": "display_data",
          "data": {
            "image/png": "[encoded data removed]",
            "text/plain": [
              "<Figure size 720x720 with 1 Axes>"
            ]
          },
          "metadata": {
            "needs_background": "light"
          }
        }
      ]
    }
  ]
}