{
  "nbformat": 4,
  "nbformat_minor": 0,
  "metadata": {
    "colab": {
      "name": "n121a-hypothesis-test.ipynb",
      "provenance": []
    },
    "kernelspec": {
      "display_name": "Python 3",
      "language": "python",
      "name": "python3"
    },
    "language_info": {
      "codemirror_mode": {
        "name": "ipython",
        "version": 3
      },
      "file_extension": ".py",
      "mimetype": "text/x-python",
      "name": "python",
      "nbconvert_exporter": "python",
      "pygments_lexer": "ipython3",
      "version": "3.8.2"
    }
  },
  "cells": [
    {
      "cell_type": "markdown",
      "metadata": {
        "id": "Sa5KWMO1ngPN"
      },
      "source": [
        "<img src='https://i.imgur.com/RDAD11M.png' width = '200' align = 'right'>\n",
        "\n",
        "## *DATA SCIENCE / SECTION 1 / SPRINT 2 / NOTE 1*\n",
        "\n",
        "# 📝 Assignment"
      ]
    },
    {
      "cell_type": "markdown",
      "metadata": {
        "id": "9TYi9leFz1f5"
      },
      "source": [
        "# 가설 검정"
      ]
    },
    {
      "cell_type": "markdown",
      "metadata": {
        "id": "gZDO3KBZOJNp"
      },
      "source": [
        "## 1. One-Sample T-test 연습"
      ]
    },
    {
      "cell_type": "markdown",
      "metadata": {
        "id": "CdRkOn9X5BdF"
      },
      "source": [
        "### 데이터 불러오기\n",
        "- [서울시 가로수 데이터셋](https://data.seoul.go.kr/dataList/367/S/2/datasetView.do)을 사용합니다.\n",
        "\n",
        "다음 링크를 참조하세요. \n",
        "<https://ds-lecture-data.s3.ap-northeast-2.amazonaws.com/seoul_tree/seoul_tree.txt>\n"
      ]
    },
    {
      "cell_type": "code",
      "metadata": {
        "id": "bd5YFp7Xvu8P"
      },
      "source": [
        "import pandas as pd\n",
        "import numpy as np\n",
        "from scipy import stats\n",
        "\n",
        "pd.set_option('mode.chained_assignment',  None)"
      ],
      "execution_count": 1,
      "outputs": []
    },
    {
      "cell_type": "code",
      "metadata": {
        "id": "92886Dev3awS",
        "colab": {
          "base_uri": "https://localhost:8080/",
          "height": 1000
        },
        "outputId": "6f90e06e-29ad-4ef9-f4ba-b43cfa24fd70"
      },
      "source": [
        "df = pd.read_csv('https://ds-lecture-data.s3.ap-northeast-2.amazonaws.com/seoul_tree/seoul_tree.txt', sep = \"\\t\")\n",
        "\n",
        "df.drop(df.index[(df['자치구'] == '서울시') | (df['자치구'] == '공원녹지사업소') | (df['자치구'] == '시설관리공단')], inplace = True)\n",
        "df.columns = df.iloc[0] # 첫 행을 헤더로 지정\n",
        "df = df[1:] # 헤더 지정한 행 제외 나머지 행 가져오기\n",
        "df.reset_index(drop=True, inplace=True) # 인덱스 초기화\n",
        "\n",
        "# '기간', '자치구'와 그 외 숫자 형변환할 컬럼을 분리\n",
        "df_object = df.iloc[:, :2]\n",
        "df_numeric = df.iloc[:, 2:]\n",
        "\n",
        "# '기간', '자치구' 제외 나머지 feature에 대해서 수치형 데이터로 수정\n",
        "df_numeric.replace({',': '', '-': '0'}, regex=True, inplace=True)\n",
        "df_numeric = df_numeric.apply(pd.to_numeric)\n",
        "\n",
        "# 분리했던 데이터프레임 합치기\n",
        "df = pd.concat([df_object, df_numeric], axis=1)\n",
        "\n",
        "df\n",
        "\n",
        "# 열 나누기 참고 : [~df['자치구'].isin(['서울시','공원녹지사업소','시설관리공단'])"
      ],
      "execution_count": 2,
      "outputs": [
        {
          "output_type": "execute_result",
          "data": {
            "text/html": [
              "<div>\n",
              "<style scoped>\n",
              "    .dataframe tbody tr th:only-of-type {\n",
              "        vertical-align: middle;\n",
              "    }\n",
              "\n",
              "    .dataframe tbody tr th {\n",
              "        vertical-align: top;\n",
              "    }\n",
              "\n",
              "    .dataframe thead th {\n",
              "        text-align: right;\n",
              "    }\n",
              "</style>\n",
              "<table border=\"1\" class=\"dataframe\">\n",
              "  <thead>\n",
              "    <tr style=\"text-align: right;\">\n",
              "      <th></th>\n",
              "      <th>기간</th>\n",
              "      <th>자치구</th>\n",
              "      <th>노선수</th>\n",
              "      <th>수량</th>\n",
              "      <th>은행나무</th>\n",
              "      <th>양버즘나무</th>\n",
              "      <th>느티나무</th>\n",
              "      <th>왕벚나무</th>\n",
              "      <th>은단풍나무</th>\n",
              "      <th>메타세콰이어</th>\n",
              "      <th>회화나무</th>\n",
              "      <th>가죽나무</th>\n",
              "      <th>감나무</th>\n",
              "      <th>수양버들</th>\n",
              "      <th>튜울립나무</th>\n",
              "      <th>칠엽수</th>\n",
              "      <th>포플러</th>\n",
              "      <th>느릅나무</th>\n",
              "      <th>살구나무</th>\n",
              "      <th>무궁화</th>\n",
              "      <th>소나무</th>\n",
              "      <th>목련</th>\n",
              "      <th>이팝나무</th>\n",
              "      <th>기타</th>\n",
              "    </tr>\n",
              "  </thead>\n",
              "  <tbody>\n",
              "    <tr>\n",
              "      <th>0</th>\n",
              "      <td>2019</td>\n",
              "      <td>종로구</td>\n",
              "      <td>70</td>\n",
              "      <td>7329</td>\n",
              "      <td>4072</td>\n",
              "      <td>1071</td>\n",
              "      <td>619</td>\n",
              "      <td>421</td>\n",
              "      <td>0</td>\n",
              "      <td>1</td>\n",
              "      <td>140</td>\n",
              "      <td>1</td>\n",
              "      <td>0</td>\n",
              "      <td>8</td>\n",
              "      <td>0</td>\n",
              "      <td>17</td>\n",
              "      <td>0</td>\n",
              "      <td>0</td>\n",
              "      <td>0</td>\n",
              "      <td>0</td>\n",
              "      <td>239</td>\n",
              "      <td>0</td>\n",
              "      <td>711</td>\n",
              "      <td>29</td>\n",
              "    </tr>\n",
              "    <tr>\n",
              "      <th>1</th>\n",
              "      <td>2019</td>\n",
              "      <td>중구</td>\n",
              "      <td>48</td>\n",
              "      <td>8250</td>\n",
              "      <td>3640</td>\n",
              "      <td>162</td>\n",
              "      <td>460</td>\n",
              "      <td>289</td>\n",
              "      <td>0</td>\n",
              "      <td>0</td>\n",
              "      <td>176</td>\n",
              "      <td>0</td>\n",
              "      <td>0</td>\n",
              "      <td>0</td>\n",
              "      <td>7</td>\n",
              "      <td>0</td>\n",
              "      <td>0</td>\n",
              "      <td>0</td>\n",
              "      <td>21</td>\n",
              "      <td>46</td>\n",
              "      <td>2162</td>\n",
              "      <td>0</td>\n",
              "      <td>470</td>\n",
              "      <td>817</td>\n",
              "    </tr>\n",
              "    <tr>\n",
              "      <th>2</th>\n",
              "      <td>2019</td>\n",
              "      <td>용산구</td>\n",
              "      <td>39</td>\n",
              "      <td>7835</td>\n",
              "      <td>4444</td>\n",
              "      <td>1422</td>\n",
              "      <td>373</td>\n",
              "      <td>262</td>\n",
              "      <td>0</td>\n",
              "      <td>0</td>\n",
              "      <td>37</td>\n",
              "      <td>0</td>\n",
              "      <td>74</td>\n",
              "      <td>0</td>\n",
              "      <td>13</td>\n",
              "      <td>16</td>\n",
              "      <td>0</td>\n",
              "      <td>0</td>\n",
              "      <td>39</td>\n",
              "      <td>0</td>\n",
              "      <td>51</td>\n",
              "      <td>126</td>\n",
              "      <td>198</td>\n",
              "      <td>780</td>\n",
              "    </tr>\n",
              "    <tr>\n",
              "      <th>3</th>\n",
              "      <td>2019</td>\n",
              "      <td>성동구</td>\n",
              "      <td>38</td>\n",
              "      <td>8120</td>\n",
              "      <td>1090</td>\n",
              "      <td>2401</td>\n",
              "      <td>1975</td>\n",
              "      <td>602</td>\n",
              "      <td>29</td>\n",
              "      <td>48</td>\n",
              "      <td>325</td>\n",
              "      <td>33</td>\n",
              "      <td>146</td>\n",
              "      <td>0</td>\n",
              "      <td>0</td>\n",
              "      <td>1</td>\n",
              "      <td>3</td>\n",
              "      <td>59</td>\n",
              "      <td>0</td>\n",
              "      <td>0</td>\n",
              "      <td>53</td>\n",
              "      <td>0</td>\n",
              "      <td>709</td>\n",
              "      <td>646</td>\n",
              "    </tr>\n",
              "    <tr>\n",
              "      <th>4</th>\n",
              "      <td>2019</td>\n",
              "      <td>광진구</td>\n",
              "      <td>28</td>\n",
              "      <td>7223</td>\n",
              "      <td>1247</td>\n",
              "      <td>2306</td>\n",
              "      <td>1057</td>\n",
              "      <td>940</td>\n",
              "      <td>0</td>\n",
              "      <td>0</td>\n",
              "      <td>153</td>\n",
              "      <td>0</td>\n",
              "      <td>25</td>\n",
              "      <td>0</td>\n",
              "      <td>58</td>\n",
              "      <td>101</td>\n",
              "      <td>0</td>\n",
              "      <td>0</td>\n",
              "      <td>0</td>\n",
              "      <td>0</td>\n",
              "      <td>20</td>\n",
              "      <td>113</td>\n",
              "      <td>760</td>\n",
              "      <td>443</td>\n",
              "    </tr>\n",
              "    <tr>\n",
              "      <th>5</th>\n",
              "      <td>2019</td>\n",
              "      <td>동대문구</td>\n",
              "      <td>43</td>\n",
              "      <td>10664</td>\n",
              "      <td>3749</td>\n",
              "      <td>3342</td>\n",
              "      <td>855</td>\n",
              "      <td>747</td>\n",
              "      <td>0</td>\n",
              "      <td>60</td>\n",
              "      <td>143</td>\n",
              "      <td>7</td>\n",
              "      <td>38</td>\n",
              "      <td>7</td>\n",
              "      <td>37</td>\n",
              "      <td>19</td>\n",
              "      <td>0</td>\n",
              "      <td>1</td>\n",
              "      <td>26</td>\n",
              "      <td>1</td>\n",
              "      <td>0</td>\n",
              "      <td>0</td>\n",
              "      <td>1176</td>\n",
              "      <td>456</td>\n",
              "    </tr>\n",
              "    <tr>\n",
              "      <th>6</th>\n",
              "      <td>2019</td>\n",
              "      <td>중랑구</td>\n",
              "      <td>57</td>\n",
              "      <td>8365</td>\n",
              "      <td>2774</td>\n",
              "      <td>2759</td>\n",
              "      <td>471</td>\n",
              "      <td>354</td>\n",
              "      <td>0</td>\n",
              "      <td>74</td>\n",
              "      <td>0</td>\n",
              "      <td>0</td>\n",
              "      <td>52</td>\n",
              "      <td>0</td>\n",
              "      <td>0</td>\n",
              "      <td>0</td>\n",
              "      <td>0</td>\n",
              "      <td>0</td>\n",
              "      <td>0</td>\n",
              "      <td>212</td>\n",
              "      <td>64</td>\n",
              "      <td>0</td>\n",
              "      <td>449</td>\n",
              "      <td>1156</td>\n",
              "    </tr>\n",
              "    <tr>\n",
              "      <th>7</th>\n",
              "      <td>2019</td>\n",
              "      <td>성북구</td>\n",
              "      <td>78</td>\n",
              "      <td>8449</td>\n",
              "      <td>2722</td>\n",
              "      <td>1282</td>\n",
              "      <td>1014</td>\n",
              "      <td>1656</td>\n",
              "      <td>66</td>\n",
              "      <td>65</td>\n",
              "      <td>38</td>\n",
              "      <td>0</td>\n",
              "      <td>91</td>\n",
              "      <td>0</td>\n",
              "      <td>4</td>\n",
              "      <td>0</td>\n",
              "      <td>0</td>\n",
              "      <td>0</td>\n",
              "      <td>9</td>\n",
              "      <td>5</td>\n",
              "      <td>97</td>\n",
              "      <td>0</td>\n",
              "      <td>853</td>\n",
              "      <td>547</td>\n",
              "    </tr>\n",
              "    <tr>\n",
              "      <th>8</th>\n",
              "      <td>2019</td>\n",
              "      <td>강북구</td>\n",
              "      <td>31</td>\n",
              "      <td>7789</td>\n",
              "      <td>3510</td>\n",
              "      <td>934</td>\n",
              "      <td>324</td>\n",
              "      <td>497</td>\n",
              "      <td>284</td>\n",
              "      <td>0</td>\n",
              "      <td>103</td>\n",
              "      <td>0</td>\n",
              "      <td>0</td>\n",
              "      <td>0</td>\n",
              "      <td>5</td>\n",
              "      <td>0</td>\n",
              "      <td>0</td>\n",
              "      <td>140</td>\n",
              "      <td>0</td>\n",
              "      <td>0</td>\n",
              "      <td>1007</td>\n",
              "      <td>0</td>\n",
              "      <td>575</td>\n",
              "      <td>410</td>\n",
              "    </tr>\n",
              "    <tr>\n",
              "      <th>9</th>\n",
              "      <td>2019</td>\n",
              "      <td>도봉구</td>\n",
              "      <td>63</td>\n",
              "      <td>9572</td>\n",
              "      <td>4914</td>\n",
              "      <td>323</td>\n",
              "      <td>779</td>\n",
              "      <td>2095</td>\n",
              "      <td>6</td>\n",
              "      <td>61</td>\n",
              "      <td>32</td>\n",
              "      <td>0</td>\n",
              "      <td>0</td>\n",
              "      <td>1</td>\n",
              "      <td>15</td>\n",
              "      <td>0</td>\n",
              "      <td>0</td>\n",
              "      <td>0</td>\n",
              "      <td>0</td>\n",
              "      <td>214</td>\n",
              "      <td>15</td>\n",
              "      <td>0</td>\n",
              "      <td>47</td>\n",
              "      <td>1070</td>\n",
              "    </tr>\n",
              "    <tr>\n",
              "      <th>10</th>\n",
              "      <td>2019</td>\n",
              "      <td>노원구</td>\n",
              "      <td>50</td>\n",
              "      <td>14489</td>\n",
              "      <td>6505</td>\n",
              "      <td>3336</td>\n",
              "      <td>1165</td>\n",
              "      <td>1612</td>\n",
              "      <td>0</td>\n",
              "      <td>285</td>\n",
              "      <td>41</td>\n",
              "      <td>0</td>\n",
              "      <td>1</td>\n",
              "      <td>0</td>\n",
              "      <td>0</td>\n",
              "      <td>0</td>\n",
              "      <td>0</td>\n",
              "      <td>26</td>\n",
              "      <td>58</td>\n",
              "      <td>150</td>\n",
              "      <td>32</td>\n",
              "      <td>1</td>\n",
              "      <td>142</td>\n",
              "      <td>1135</td>\n",
              "    </tr>\n",
              "    <tr>\n",
              "      <th>11</th>\n",
              "      <td>2019</td>\n",
              "      <td>은평구</td>\n",
              "      <td>35</td>\n",
              "      <td>9880</td>\n",
              "      <td>4324</td>\n",
              "      <td>1653</td>\n",
              "      <td>680</td>\n",
              "      <td>1748</td>\n",
              "      <td>0</td>\n",
              "      <td>16</td>\n",
              "      <td>422</td>\n",
              "      <td>0</td>\n",
              "      <td>0</td>\n",
              "      <td>0</td>\n",
              "      <td>0</td>\n",
              "      <td>9</td>\n",
              "      <td>0</td>\n",
              "      <td>0</td>\n",
              "      <td>0</td>\n",
              "      <td>3</td>\n",
              "      <td>0</td>\n",
              "      <td>0</td>\n",
              "      <td>443</td>\n",
              "      <td>582</td>\n",
              "    </tr>\n",
              "    <tr>\n",
              "      <th>12</th>\n",
              "      <td>2019</td>\n",
              "      <td>서대문구</td>\n",
              "      <td>39</td>\n",
              "      <td>8627</td>\n",
              "      <td>3474</td>\n",
              "      <td>1890</td>\n",
              "      <td>721</td>\n",
              "      <td>732</td>\n",
              "      <td>0</td>\n",
              "      <td>25</td>\n",
              "      <td>80</td>\n",
              "      <td>0</td>\n",
              "      <td>3</td>\n",
              "      <td>0</td>\n",
              "      <td>10</td>\n",
              "      <td>5</td>\n",
              "      <td>4</td>\n",
              "      <td>0</td>\n",
              "      <td>0</td>\n",
              "      <td>70</td>\n",
              "      <td>0</td>\n",
              "      <td>0</td>\n",
              "      <td>493</td>\n",
              "      <td>1120</td>\n",
              "    </tr>\n",
              "    <tr>\n",
              "      <th>13</th>\n",
              "      <td>2019</td>\n",
              "      <td>마포구</td>\n",
              "      <td>92</td>\n",
              "      <td>14538</td>\n",
              "      <td>3353</td>\n",
              "      <td>3581</td>\n",
              "      <td>3056</td>\n",
              "      <td>1096</td>\n",
              "      <td>0</td>\n",
              "      <td>474</td>\n",
              "      <td>967</td>\n",
              "      <td>0</td>\n",
              "      <td>102</td>\n",
              "      <td>0</td>\n",
              "      <td>0</td>\n",
              "      <td>0</td>\n",
              "      <td>0</td>\n",
              "      <td>0</td>\n",
              "      <td>64</td>\n",
              "      <td>0</td>\n",
              "      <td>124</td>\n",
              "      <td>93</td>\n",
              "      <td>1280</td>\n",
              "      <td>348</td>\n",
              "    </tr>\n",
              "    <tr>\n",
              "      <th>14</th>\n",
              "      <td>2019</td>\n",
              "      <td>양천구</td>\n",
              "      <td>69</td>\n",
              "      <td>13501</td>\n",
              "      <td>5622</td>\n",
              "      <td>3992</td>\n",
              "      <td>1065</td>\n",
              "      <td>956</td>\n",
              "      <td>0</td>\n",
              "      <td>74</td>\n",
              "      <td>176</td>\n",
              "      <td>0</td>\n",
              "      <td>36</td>\n",
              "      <td>0</td>\n",
              "      <td>0</td>\n",
              "      <td>4</td>\n",
              "      <td>0</td>\n",
              "      <td>0</td>\n",
              "      <td>0</td>\n",
              "      <td>197</td>\n",
              "      <td>0</td>\n",
              "      <td>0</td>\n",
              "      <td>784</td>\n",
              "      <td>595</td>\n",
              "    </tr>\n",
              "    <tr>\n",
              "      <th>15</th>\n",
              "      <td>2019</td>\n",
              "      <td>강서구</td>\n",
              "      <td>55</td>\n",
              "      <td>13719</td>\n",
              "      <td>3977</td>\n",
              "      <td>706</td>\n",
              "      <td>2231</td>\n",
              "      <td>2508</td>\n",
              "      <td>0</td>\n",
              "      <td>1651</td>\n",
              "      <td>201</td>\n",
              "      <td>0</td>\n",
              "      <td>0</td>\n",
              "      <td>0</td>\n",
              "      <td>0</td>\n",
              "      <td>110</td>\n",
              "      <td>0</td>\n",
              "      <td>0</td>\n",
              "      <td>0</td>\n",
              "      <td>59</td>\n",
              "      <td>282</td>\n",
              "      <td>0</td>\n",
              "      <td>1426</td>\n",
              "      <td>568</td>\n",
              "    </tr>\n",
              "    <tr>\n",
              "      <th>16</th>\n",
              "      <td>2019</td>\n",
              "      <td>구로구</td>\n",
              "      <td>81</td>\n",
              "      <td>11548</td>\n",
              "      <td>3594</td>\n",
              "      <td>1527</td>\n",
              "      <td>1884</td>\n",
              "      <td>2157</td>\n",
              "      <td>13</td>\n",
              "      <td>3</td>\n",
              "      <td>0</td>\n",
              "      <td>0</td>\n",
              "      <td>0</td>\n",
              "      <td>5</td>\n",
              "      <td>0</td>\n",
              "      <td>17</td>\n",
              "      <td>0</td>\n",
              "      <td>0</td>\n",
              "      <td>0</td>\n",
              "      <td>0</td>\n",
              "      <td>30</td>\n",
              "      <td>26</td>\n",
              "      <td>1082</td>\n",
              "      <td>1210</td>\n",
              "    </tr>\n",
              "    <tr>\n",
              "      <th>17</th>\n",
              "      <td>2019</td>\n",
              "      <td>금천구</td>\n",
              "      <td>30</td>\n",
              "      <td>6603</td>\n",
              "      <td>3545</td>\n",
              "      <td>1024</td>\n",
              "      <td>407</td>\n",
              "      <td>1123</td>\n",
              "      <td>0</td>\n",
              "      <td>35</td>\n",
              "      <td>177</td>\n",
              "      <td>0</td>\n",
              "      <td>27</td>\n",
              "      <td>0</td>\n",
              "      <td>0</td>\n",
              "      <td>7</td>\n",
              "      <td>0</td>\n",
              "      <td>0</td>\n",
              "      <td>0</td>\n",
              "      <td>0</td>\n",
              "      <td>5</td>\n",
              "      <td>0</td>\n",
              "      <td>184</td>\n",
              "      <td>69</td>\n",
              "    </tr>\n",
              "    <tr>\n",
              "      <th>18</th>\n",
              "      <td>2019</td>\n",
              "      <td>영등포구</td>\n",
              "      <td>114</td>\n",
              "      <td>18220</td>\n",
              "      <td>5879</td>\n",
              "      <td>3439</td>\n",
              "      <td>3419</td>\n",
              "      <td>2952</td>\n",
              "      <td>147</td>\n",
              "      <td>51</td>\n",
              "      <td>99</td>\n",
              "      <td>0</td>\n",
              "      <td>57</td>\n",
              "      <td>0</td>\n",
              "      <td>12</td>\n",
              "      <td>174</td>\n",
              "      <td>0</td>\n",
              "      <td>0</td>\n",
              "      <td>0</td>\n",
              "      <td>0</td>\n",
              "      <td>40</td>\n",
              "      <td>19</td>\n",
              "      <td>1281</td>\n",
              "      <td>651</td>\n",
              "    </tr>\n",
              "    <tr>\n",
              "      <th>19</th>\n",
              "      <td>2019</td>\n",
              "      <td>동작구</td>\n",
              "      <td>29</td>\n",
              "      <td>7083</td>\n",
              "      <td>2178</td>\n",
              "      <td>829</td>\n",
              "      <td>1421</td>\n",
              "      <td>1127</td>\n",
              "      <td>0</td>\n",
              "      <td>116</td>\n",
              "      <td>8</td>\n",
              "      <td>0</td>\n",
              "      <td>0</td>\n",
              "      <td>0</td>\n",
              "      <td>0</td>\n",
              "      <td>0</td>\n",
              "      <td>0</td>\n",
              "      <td>0</td>\n",
              "      <td>0</td>\n",
              "      <td>206</td>\n",
              "      <td>7</td>\n",
              "      <td>0</td>\n",
              "      <td>397</td>\n",
              "      <td>794</td>\n",
              "    </tr>\n",
              "    <tr>\n",
              "      <th>20</th>\n",
              "      <td>2019</td>\n",
              "      <td>관악구</td>\n",
              "      <td>32</td>\n",
              "      <td>10154</td>\n",
              "      <td>2280</td>\n",
              "      <td>2188</td>\n",
              "      <td>185</td>\n",
              "      <td>2416</td>\n",
              "      <td>0</td>\n",
              "      <td>95</td>\n",
              "      <td>149</td>\n",
              "      <td>0</td>\n",
              "      <td>219</td>\n",
              "      <td>0</td>\n",
              "      <td>0</td>\n",
              "      <td>0</td>\n",
              "      <td>0</td>\n",
              "      <td>0</td>\n",
              "      <td>0</td>\n",
              "      <td>1120</td>\n",
              "      <td>59</td>\n",
              "      <td>0</td>\n",
              "      <td>249</td>\n",
              "      <td>1194</td>\n",
              "    </tr>\n",
              "    <tr>\n",
              "      <th>21</th>\n",
              "      <td>2019</td>\n",
              "      <td>서초구</td>\n",
              "      <td>56</td>\n",
              "      <td>16548</td>\n",
              "      <td>3800</td>\n",
              "      <td>5036</td>\n",
              "      <td>3409</td>\n",
              "      <td>254</td>\n",
              "      <td>0</td>\n",
              "      <td>1159</td>\n",
              "      <td>478</td>\n",
              "      <td>11</td>\n",
              "      <td>0</td>\n",
              "      <td>0</td>\n",
              "      <td>0</td>\n",
              "      <td>721</td>\n",
              "      <td>0</td>\n",
              "      <td>0</td>\n",
              "      <td>0</td>\n",
              "      <td>91</td>\n",
              "      <td>0</td>\n",
              "      <td>0</td>\n",
              "      <td>446</td>\n",
              "      <td>1143</td>\n",
              "    </tr>\n",
              "    <tr>\n",
              "      <th>22</th>\n",
              "      <td>2019</td>\n",
              "      <td>강남구</td>\n",
              "      <td>60</td>\n",
              "      <td>23349</td>\n",
              "      <td>7210</td>\n",
              "      <td>7559</td>\n",
              "      <td>2991</td>\n",
              "      <td>2455</td>\n",
              "      <td>0</td>\n",
              "      <td>864</td>\n",
              "      <td>524</td>\n",
              "      <td>0</td>\n",
              "      <td>0</td>\n",
              "      <td>0</td>\n",
              "      <td>65</td>\n",
              "      <td>0</td>\n",
              "      <td>0</td>\n",
              "      <td>0</td>\n",
              "      <td>0</td>\n",
              "      <td>0</td>\n",
              "      <td>0</td>\n",
              "      <td>0</td>\n",
              "      <td>768</td>\n",
              "      <td>913</td>\n",
              "    </tr>\n",
              "    <tr>\n",
              "      <th>23</th>\n",
              "      <td>2019</td>\n",
              "      <td>송파구</td>\n",
              "      <td>99</td>\n",
              "      <td>22858</td>\n",
              "      <td>11894</td>\n",
              "      <td>4180</td>\n",
              "      <td>2400</td>\n",
              "      <td>992</td>\n",
              "      <td>0</td>\n",
              "      <td>14</td>\n",
              "      <td>0</td>\n",
              "      <td>0</td>\n",
              "      <td>0</td>\n",
              "      <td>11</td>\n",
              "      <td>722</td>\n",
              "      <td>329</td>\n",
              "      <td>0</td>\n",
              "      <td>0</td>\n",
              "      <td>0</td>\n",
              "      <td>0</td>\n",
              "      <td>215</td>\n",
              "      <td>0</td>\n",
              "      <td>1651</td>\n",
              "      <td>450</td>\n",
              "    </tr>\n",
              "    <tr>\n",
              "      <th>24</th>\n",
              "      <td>2019</td>\n",
              "      <td>강동구</td>\n",
              "      <td>66</td>\n",
              "      <td>17152</td>\n",
              "      <td>5474</td>\n",
              "      <td>4284</td>\n",
              "      <td>2417</td>\n",
              "      <td>2309</td>\n",
              "      <td>0</td>\n",
              "      <td>0</td>\n",
              "      <td>57</td>\n",
              "      <td>0</td>\n",
              "      <td>0</td>\n",
              "      <td>0</td>\n",
              "      <td>0</td>\n",
              "      <td>0</td>\n",
              "      <td>0</td>\n",
              "      <td>0</td>\n",
              "      <td>0</td>\n",
              "      <td>0</td>\n",
              "      <td>0</td>\n",
              "      <td>0</td>\n",
              "      <td>642</td>\n",
              "      <td>1969</td>\n",
              "    </tr>\n",
              "  </tbody>\n",
              "</table>\n",
              "</div>"
            ],
            "text/plain": [
              "0     기간   자치구  노선수     수량   은행나무  양버즘나무  ...  살구나무   무궁화   소나무   목련  이팝나무    기타\n",
              "0   2019   종로구   70   7329   4072   1071  ...     0     0   239    0   711    29\n",
              "1   2019    중구   48   8250   3640    162  ...    21    46  2162    0   470   817\n",
              "2   2019   용산구   39   7835   4444   1422  ...    39     0    51  126   198   780\n",
              "3   2019   성동구   38   8120   1090   2401  ...     0     0    53    0   709   646\n",
              "4   2019   광진구   28   7223   1247   2306  ...     0     0    20  113   760   443\n",
              "5   2019  동대문구   43  10664   3749   3342  ...    26     1     0    0  1176   456\n",
              "6   2019   중랑구   57   8365   2774   2759  ...     0   212    64    0   449  1156\n",
              "7   2019   성북구   78   8449   2722   1282  ...     9     5    97    0   853   547\n",
              "8   2019   강북구   31   7789   3510    934  ...     0     0  1007    0   575   410\n",
              "9   2019   도봉구   63   9572   4914    323  ...     0   214    15    0    47  1070\n",
              "10  2019   노원구   50  14489   6505   3336  ...    58   150    32    1   142  1135\n",
              "11  2019   은평구   35   9880   4324   1653  ...     0     3     0    0   443   582\n",
              "12  2019  서대문구   39   8627   3474   1890  ...     0    70     0    0   493  1120\n",
              "13  2019   마포구   92  14538   3353   3581  ...    64     0   124   93  1280   348\n",
              "14  2019   양천구   69  13501   5622   3992  ...     0   197     0    0   784   595\n",
              "15  2019   강서구   55  13719   3977    706  ...     0    59   282    0  1426   568\n",
              "16  2019   구로구   81  11548   3594   1527  ...     0     0    30   26  1082  1210\n",
              "17  2019   금천구   30   6603   3545   1024  ...     0     0     5    0   184    69\n",
              "18  2019  영등포구  114  18220   5879   3439  ...     0     0    40   19  1281   651\n",
              "19  2019   동작구   29   7083   2178    829  ...     0   206     7    0   397   794\n",
              "20  2019   관악구   32  10154   2280   2188  ...     0  1120    59    0   249  1194\n",
              "21  2019   서초구   56  16548   3800   5036  ...     0    91     0    0   446  1143\n",
              "22  2019   강남구   60  23349   7210   7559  ...     0     0     0    0   768   913\n",
              "23  2019   송파구   99  22858  11894   4180  ...     0     0   215    0  1651   450\n",
              "24  2019   강동구   66  17152   5474   4284  ...     0     0     0    0   642  1969\n",
              "\n",
              "[25 rows x 24 columns]"
            ]
          },
          "metadata": {},
          "execution_count": 2
        }
      ]
    },
    {
      "cell_type": "markdown",
      "metadata": {
        "id": "oxsx9cN7dUPp"
      },
      "source": [
        "### \"서울시에는 구별로 평균 약 400 그루 정도의 `이팝나무`가 있다\"라는 가설에 대해 가설검정을 시행하세요.\n",
        "\n",
        "- 단, `서울시`, `공원녹지사업소`, `시설관리공단` 부분의 데이터는 제외합니다.\n",
        "- 가설검정 결과의 pvalue 값을 `pv1`에 저장하세요. (`.pvalue` 사용)"
      ]
    },
    {
      "cell_type": "code",
      "metadata": {
        "id": "nfucb5GYpn1D",
        "colab": {
          "base_uri": "https://localhost:8080/"
        },
        "outputId": "a2dee87b-ed9c-4b53-db8a-bb765c31b852"
      },
      "source": [
        "# H0 = 서울시에는 구별로 평균 약 400 그루 정도의 이팝나무가 있다\n",
        "# H1 = 서울시에는 구별로 평균 약 400 그루 정도의 이팝나무가 있지 않다(평균이 400이 아님)\n",
        "e_pub = df['이팝나무']\n",
        "print(np.mean(e_pub))\n",
        "\n",
        "print(stats.ttest_1samp(e_pub, 400))\n",
        "\n",
        "pv1 = stats.ttest_1samp(e_pub, 400).pvalue\n",
        "pv1\n",
        "# pv1 < 0.05 이므로 H0는 기각"
      ],
      "execution_count": 3,
      "outputs": [
        {
          "output_type": "stream",
          "name": "stdout",
          "text": [
            "688.64\n",
            "Ttest_1sampResult(statistic=3.3809205562101288, pvalue=0.002470712850935819)\n"
          ]
        },
        {
          "output_type": "execute_result",
          "data": {
            "text/plain": [
              "0.002470712850935819"
            ]
          },
          "metadata": {},
          "execution_count": 3
        }
      ]
    },
    {
      "cell_type": "markdown",
      "metadata": {
        "id": "yAkyHaEnbNYa"
      },
      "source": [
        "### 이번에는 10개의 구를 샘플링하여, 위에 대한 가설검정을 다시 한번 시행해보세요.\n",
        "\n",
        "- 단, 아래의 코드를 참조하여 sample을 위한 seed 는 123로 설정하세요.\n",
        "- 가설검정 결과의 pvalue값을 `pv2`에 저장하세요\n"
      ]
    },
    {
      "cell_type": "code",
      "metadata": {
        "id": "DbQPGNNLq_AN",
        "colab": {
          "base_uri": "https://localhost:8080/"
        },
        "outputId": "718d436f-6920-4e0e-c829-4cd5b6b0a91a"
      },
      "source": [
        "np.random.seed(123) # 123번 시드로 난수 세트 고정\n",
        "\n",
        "sample = np.random.choice(e_pub, size = 10) # 무작위로 10개 구 가져와서 123번 시드에 저장\n",
        "\n",
        "print(np.mean(sample)) # 10개 구 이팝나무 그루 수 평균\n",
        "\n",
        "print(stats.ttest_1samp(sample, 400)) # T-test(1 sample) 결과\n",
        "\n",
        "pv2 = stats.ttest_1samp(sample, 400).pvalue # P-value 값 저장\n",
        "pv2\n",
        "# pv2 > 0.05 이므로 H0 는 채택(서울시에는 구별로 평균 약 400 그루 정도의 이팝나무가 있을 수도 있다)"
      ],
      "execution_count": 4,
      "outputs": [
        {
          "output_type": "stream",
          "name": "stdout",
          "text": [
            "479.7\n",
            "Ttest_1sampResult(statistic=0.706555193453698, pvalue=0.49772576203804575)\n"
          ]
        },
        {
          "output_type": "execute_result",
          "data": {
            "text/plain": [
              "0.49772576203804575"
            ]
          },
          "metadata": {},
          "execution_count": 4
        }
      ]
    },
    {
      "cell_type": "markdown",
      "metadata": {
        "id": "TPT-ZTt0PuIk"
      },
      "source": [
        "## 2. Two-Sample T-test 연습"
      ]
    },
    {
      "cell_type": "markdown",
      "metadata": {
        "id": "2WZnCBsR_2jT"
      },
      "source": [
        "### \"서울시의 구별 평균 느티나무수와 왕벚나무의 수는 차이가 없다\"라는 가설에 대해 가설검정을 시행하세요.\n",
        "\n",
        "- 단, `서울시`, `공원녹지사업소`, `시설관리공단` 부분의 데이터는 제외합니다.\n",
        "- 가설검정 결과의 pvalue를 `pv3`에 저장하세요"
      ]
    },
    {
      "cell_type": "code",
      "metadata": {
        "id": "lAs832N1tc7k",
        "colab": {
          "base_uri": "https://localhost:8080/"
        },
        "outputId": "3a3c31f8-c68d-48e1-bb8a-aaade1cbb8dc"
      },
      "source": [
        "# H0 = 서울시의 구별 평균 느티나무수와 왕벚나무의 수는 차이가 없다\n",
        "# H1 = 서울시의 구별 평균 느티나무수와 왕벚나무의 수는 차이가 있다\n",
        "n_ti = df['느티나무']\n",
        "king_sakura = df['왕벚나무']\n",
        "print(np.mean(n_ti))\n",
        "print(np.mean(king_sakura))\n",
        "\n",
        "print(stats.ttest_ind(n_ti, king_sakura))\n",
        "\n",
        "pv3 = stats.ttest_ind(n_ti, king_sakura).pvalue\n",
        "pv3\n",
        "# pv3 > 0.05 이므로 H0는 채택 (서울시의 구별 평균 느티나무수와 왕벚나무의 수는 차이가 없을 수도 있다)"
      ],
      "execution_count": 5,
      "outputs": [
        {
          "output_type": "stream",
          "name": "stdout",
          "text": [
            "1415.12\n",
            "1292.0\n",
            "Ttest_indResult(statistic=0.4629256014492562, pvalue=0.6455096880085703)\n"
          ]
        },
        {
          "output_type": "execute_result",
          "data": {
            "text/plain": [
              "0.6455096880085703"
            ]
          },
          "metadata": {},
          "execution_count": 5
        }
      ]
    },
    {
      "cell_type": "markdown",
      "metadata": {
        "id": "vhhXvirEAeCH"
      },
      "source": [
        "\n",
        "### Two-Sample One-tailed test를 사용하여 **평균 느티나무수가 왕벚나무 수보다 크다**라는 가설에 대한 가설검정을 시행하세요.\n",
        "- 해당 가설검정의 결과를 `ans`에 저장하세요.\n",
        "\n",
        "이 때 `ans`가 가질 수 있는 값은 아래와 같습니다 :\n",
        "1. \"느티나무\" ( 느티나무의 수가 통계적으로 유의하게 많은 경우 )\n",
        "2. \"왕벚나무\" ( 왕벚나무의 수가 통계적으로 유의하게 많은 경우 )\n",
        "3. \"없음\" (통계적으로 유의하지 않은 경우)\n",
        "\n",
        "Two-Sample One-tailed test를 scipy에서 하는 방법은 아래의 링크를 참고 하세요  \n",
        "참고 링크 : https://docs.scipy.org/doc/scipy/reference/generated/scipy.stats.ttest_ind.html"
      ]
    },
    {
      "cell_type": "code",
      "metadata": {
        "id": "ABNFzkjKz1f-",
        "colab": {
          "base_uri": "https://localhost:8080/"
        },
        "outputId": "3525632f-836b-4105-e288-ee7fd16ad16f"
      },
      "source": [
        "# 아래의 코드를 실행해주세요\n",
        "!pip install scipy --upgrade"
      ],
      "execution_count": 6,
      "outputs": [
        {
          "output_type": "stream",
          "name": "stdout",
          "text": [
            "Requirement already satisfied: scipy in /usr/local/lib/python3.7/dist-packages (1.7.1)\n",
            "Requirement already satisfied: numpy<1.23.0,>=1.16.5 in /usr/local/lib/python3.7/dist-packages (from scipy) (1.19.5)\n"
          ]
        }
      ]
    },
    {
      "cell_type": "code",
      "metadata": {
        "id": "bCE3UgpbP69p",
        "colab": {
          "base_uri": "https://localhost:8080/",
          "height": 54
        },
        "outputId": "d9b31e69-4043-49dd-e15a-5444343e404e"
      },
      "source": [
        "# 평균 느티나무수가 왕벚나무 수보다 크다\n",
        "# H0 : np.mean(n_ti) = np.mean(king_sakura)\n",
        "# H1 : np.mean(n_ti) > np.mean(king_sakura)\n",
        "\n",
        "t_ans, pv_ans = stats.ttest_ind(n_ti, king_sakura, alternative='greater')\n",
        "print(pv_ans)\n",
        "\n",
        "if(pv_ans >= 0.05):\n",
        "  ans = '없음'\n",
        "elif((t_ans > 0) & (pv_ans < 0.05)):\n",
        "  ans = '느티나무'\n",
        "else:\n",
        "  ans = '왕벚나무'\n",
        "\n",
        "ans"
      ],
      "execution_count": 7,
      "outputs": [
        {
          "output_type": "stream",
          "name": "stdout",
          "text": [
            "0.32275484400428517\n"
          ]
        },
        {
          "output_type": "execute_result",
          "data": {
            "application/vnd.google.colaboratory.intrinsic+json": {
              "type": "string"
            },
            "text/plain": [
              "'없음'"
            ]
          },
          "metadata": {},
          "execution_count": 7
        }
      ]
    },
    {
      "cell_type": "markdown",
      "metadata": {
        "id": "C5pkmOuKgK9Y"
      },
      "source": [
        "## 🔥 **도전과제**\n",
        "> 2문제 모두 하면 됩니다.\n",
        "\n"
      ]
    },
    {
      "cell_type": "markdown",
      "metadata": {
        "id": "3114xDdlPjFx"
      },
      "source": [
        "### 1. Compare mean for multiple-sample \n",
        " \n",
        "다음 링크를 참조하세요. <https://reneshbedre.github.io/blog/anova.html>\n",
        "\n",
        "구별, 은행나무, 양버즘나무, 느티나무에 대해서 ANOVA Test를 실행하세요.\n",
        "\n",
        "단, `서울시`, `공원녹지사업소`, `시설관리공단` 부분의 데이터는 제외합니다."
      ]
    },
    {
      "cell_type": "code",
      "metadata": {
        "id": "wiD3OnFVZdwz",
        "colab": {
          "base_uri": "https://localhost:8080/"
        },
        "outputId": "3c50263b-6b66-4811-c838-870cd27d98e0"
      },
      "source": [
        "import statsmodels.api as sm\n",
        "from statsmodels.formula.api import ols\n",
        "import warnings\n",
        "warnings.filterwarnings('ignore')"
      ],
      "execution_count": 8,
      "outputs": [
        {
          "output_type": "stream",
          "name": "stderr",
          "text": [
            "/usr/local/lib/python3.7/dist-packages/statsmodels/tools/_testing.py:19: FutureWarning: pandas.util.testing is deprecated. Use the functions in the public API at pandas.testing instead.\n",
            "  import pandas.util.testing as tm\n"
          ]
        }
      ]
    },
    {
      "cell_type": "code",
      "metadata": {
        "id": "dPmXOHh1Cfea",
        "colab": {
          "base_uri": "https://localhost:8080/"
        },
        "outputId": "c007ddda-5c42-4e56-cf9c-9fce836f2326"
      },
      "source": [
        "# Null hypothesis: Groups means are equal (no variation in means of groups) \n",
        "# H0: μ1=μ2=…=μp\n",
        "# Alternative hypothesis: At least, one group mean is different from other groups\n",
        "# H1: All μ are not equal\n",
        "\n",
        "stats.f_oneway(df['은행나무'], df['양버즘나무'], df['느티나무'])"
      ],
      "execution_count": 9,
      "outputs": [
        {
          "output_type": "execute_result",
          "data": {
            "text/plain": [
              "F_onewayResult(statistic=17.006289557888046, pvalue=8.935183167883698e-07)"
            ]
          },
          "metadata": {},
          "execution_count": 9
        }
      ]
    },
    {
      "cell_type": "markdown",
      "metadata": {
        "id": "nLl4aWDPCVaO"
      },
      "source": [
        "### 2. Sampling\n",
        "\n",
        "- 세션 시간에 배웠던 4가지 sampling (Simple Random, Systematic, Stratified Random, Cluster) 방식을 구현해보세요.\n",
        "\n",
        "- 이를 위한 데이터는 1 부터 100을 담은 numpy array이며, Sampling 해야 하는 수는 20개 입니다.\n",
        "\n",
        "- Stratified Random Sampling을 위한 그룹을 나누는 기준은 1-10, 11-20, ... 과 같은 방식입니다.\n",
        "\n",
        "- Cluster Sampling에서 그룹을 나누는 기준은 5로 나눴을때의 나머지 값입니다. (0,1,2,3,4)"
      ]
    },
    {
      "cell_type": "code",
      "metadata": {
        "id": "QUPwaynLAQjS",
        "colab": {
          "base_uri": "https://localhost:8080/"
        },
        "outputId": "00d771f5-e4b4-445e-f400-8b4cabdd49b7"
      },
      "source": [
        "# 1 부터 100을 담은 numpy array\n",
        "array = np.arange(1, 101)\n",
        "print(array)"
      ],
      "execution_count": 10,
      "outputs": [
        {
          "output_type": "stream",
          "name": "stdout",
          "text": [
            "[  1   2   3   4   5   6   7   8   9  10  11  12  13  14  15  16  17  18\n",
            "  19  20  21  22  23  24  25  26  27  28  29  30  31  32  33  34  35  36\n",
            "  37  38  39  40  41  42  43  44  45  46  47  48  49  50  51  52  53  54\n",
            "  55  56  57  58  59  60  61  62  63  64  65  66  67  68  69  70  71  72\n",
            "  73  74  75  76  77  78  79  80  81  82  83  84  85  86  87  88  89  90\n",
            "  91  92  93  94  95  96  97  98  99 100]\n"
          ]
        }
      ]
    },
    {
      "cell_type": "code",
      "metadata": {
        "id": "1OdL-BykUiki",
        "colab": {
          "base_uri": "https://localhost:8080/"
        },
        "outputId": "72871d7e-ac20-48ed-c4e5-d67407f33e5c"
      },
      "source": [
        "# Simple Random\n",
        "simp_rd = np.random.choice(array, size = 20)\n",
        "print(simp_rd)"
      ],
      "execution_count": 11,
      "outputs": [
        {
          "output_type": "stream",
          "name": "stdout",
          "text": [
            "[48 74 33 47 97 26 84 79 37 97 81 69 50 56 68  3 85 40 67 85]\n"
          ]
        }
      ]
    },
    {
      "cell_type": "code",
      "metadata": {
        "id": "deygLRBYUlpT",
        "colab": {
          "base_uri": "https://localhost:8080/"
        },
        "outputId": "ae3e5c5b-7262-47a9-d269-a71d229683e7"
      },
      "source": [
        "# Systematic\n",
        "# 참고 : https://www.geeksforgeeks.org/systematic-sampling-in-pandas/\n",
        "def systematic_sampling(array, step):\n",
        "    indexes = np.arange(0, len(array), step=step)\n",
        "    systematic_sample = array[indexes]\n",
        "    return systematic_sample\n",
        "\n",
        "sys = systematic_sampling(array, 5)\n",
        "print(sys)"
      ],
      "execution_count": 12,
      "outputs": [
        {
          "output_type": "stream",
          "name": "stdout",
          "text": [
            "[ 1  6 11 16 21 26 31 36 41 46 51 56 61 66 71 76 81 86 91 96]\n"
          ]
        }
      ]
    },
    {
      "cell_type": "code",
      "metadata": {
        "id": "xXw7lrrrUl7o",
        "colab": {
          "base_uri": "https://localhost:8080/"
        },
        "outputId": "f10df962-19f8-4226-8bd2-093940ad17f4"
      },
      "source": [
        "# Stratified Random\n",
        "# 10개씩 분할하기\n",
        "array_grouped = []\n",
        "for idx in range(0, 10):\n",
        "  add = 10\n",
        "  start = add*idx # 0, 10, 20, ..., 90\n",
        "  end = add*idx + 9 # 9, 19, 29, ..., 99\n",
        "  array_grouped.append(array[start:end])\n",
        "\n",
        "# 각 그룹에서 2개씩 무작위 추출하기\n",
        "str_rd = []\n",
        "for i in range(10):\n",
        "  str_rd.extend(np.random.choice(array_grouped[i], size = 2))\n",
        "\n",
        "print(str_rd)"
      ],
      "execution_count": 13,
      "outputs": [
        {
          "output_type": "stream",
          "name": "stdout",
          "text": [
            "[9, 1, 18, 14, 25, 27, 32, 36, 47, 43, 52, 59, 64, 66, 71, 73, 87, 83, 95, 95]\n"
          ]
        }
      ]
    },
    {
      "cell_type": "code",
      "metadata": {
        "id": "-H50u_JfUmYx",
        "colab": {
          "base_uri": "https://localhost:8080/"
        },
        "outputId": "7deba991-4978-46c7-b53b-1acf563a2cf3"
      },
      "source": [
        "# Cluster\n",
        "array_cluster_0 = array[(array % 5 == 0)]\n",
        "array_cluster_1 = array[(array % 5 == 1)]\n",
        "array_cluster_2 = array[(array % 5 == 2)]\n",
        "array_cluster_3 = array[(array % 5 == 3)]\n",
        "array_cluster_4 = array[(array % 5 == 4)]\n",
        "array_cluster = [array_cluster_0, array_cluster_1, array_cluster_2, array_cluster_3, array_cluster_4]\n",
        "\n",
        "cluster = []\n",
        "for i in range(5):\n",
        "  cluster.extend(np.random.choice(array_cluster[i], size = 4))\n",
        "\n",
        "print(cluster)"
      ],
      "execution_count": 14,
      "outputs": [
        {
          "output_type": "stream",
          "name": "stdout",
          "text": [
            "[35, 70, 100, 85, 31, 71, 36, 56, 37, 7, 57, 27, 93, 88, 63, 93, 89, 9, 99, 64]\n"
          ]
        }
      ]
    }
  ]
}